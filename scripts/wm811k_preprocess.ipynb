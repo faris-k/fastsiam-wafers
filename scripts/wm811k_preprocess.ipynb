{
 "cells": [
  {
   "cell_type": "code",
   "execution_count": null,
   "metadata": {},
   "outputs": [],
   "source": [
    "# !pip install --upgrade lightning timm pandas opencv-contrib-python --quiet"
   ]
  },
  {
   "attachments": {},
   "cell_type": "markdown",
   "metadata": {},
   "source": [
    "## Imports"
   ]
  },
  {
   "cell_type": "code",
   "execution_count": 100,
   "metadata": {},
   "outputs": [],
   "source": [
    "import os\n",
    "import warnings\n",
    "from io import BytesIO\n",
    "from urllib.request import urlopen\n",
    "from zipfile import ZipFile\n",
    "\n",
    "import cv2\n",
    "import matplotlib.pyplot as plt\n",
    "import numpy as np\n",
    "import pandas as pd\n",
    "import pytorch_lightning as pl\n",
    "import seaborn as sns\n",
    "import timm\n",
    "import torch\n",
    "import torchvision.transforms as T\n",
    "from IPython.display import display\n",
    "from PIL import Image\n",
    "from sklearn.model_selection import train_test_split\n",
    "from torch.utils.data import DataLoader, Dataset\n",
    "from torchvision.transforms.functional import InterpolationMode\n",
    "from tqdm.auto import tqdm\n",
    "\n",
    "warnings.filterwarnings(\"ignore\", \".*does not have many workers.*\")\n",
    "assert (\n",
    "    torch.cuda.is_available()\n",
    "), \"Please switch to GPU runtime: Runtime -> Change runtime type -> GPU\""
   ]
  },
  {
   "attachments": {},
   "cell_type": "markdown",
   "metadata": {},
   "source": [
    "## Data Preprocessing\n",
    "\n",
    "This section goes over how the data is initially downloaded and preprocessed."
   ]
  },
  {
   "cell_type": "code",
   "execution_count": 2,
   "metadata": {},
   "outputs": [
    {
     "name": "stdout",
     "output_type": "stream",
     "text": [
      "Data already downloaded.\n"
     ]
    }
   ],
   "source": [
    "# Create directory for data\n",
    "save_path = \"../data/raw\"\n",
    "os.makedirs(save_path, exist_ok=True)\n",
    "\n",
    "# Download the zip file from url, and extract contents to save_path\n",
    "url = \"http://mirlab.org/dataset/public/MIR-WM811K.zip\"\n",
    "# Proceed only if the data has not been downloaded yet\n",
    "if not os.path.exists(os.path.join(save_path, \"MIR-WM811K\")):\n",
    "    with urlopen(url) as zipresp:\n",
    "        with ZipFile(BytesIO(zipresp.read())) as zfile:\n",
    "            zfile.extractall(save_path)\n",
    "else:\n",
    "    print(\"Data already downloaded.\")"
   ]
  },
  {
   "cell_type": "code",
   "execution_count": 3,
   "metadata": {},
   "outputs": [
    {
     "data": {
      "text/html": [
       "<div>\n",
       "<style scoped>\n",
       "    .dataframe tbody tr th:only-of-type {\n",
       "        vertical-align: middle;\n",
       "    }\n",
       "\n",
       "    .dataframe tbody tr th {\n",
       "        vertical-align: top;\n",
       "    }\n",
       "\n",
       "    .dataframe thead th {\n",
       "        text-align: right;\n",
       "    }\n",
       "</style>\n",
       "<table border=\"1\" class=\"dataframe\">\n",
       "  <thead>\n",
       "    <tr style=\"text-align: right;\">\n",
       "      <th></th>\n",
       "      <th>dieSize</th>\n",
       "      <th>failureType</th>\n",
       "      <th>lotName</th>\n",
       "      <th>trainTestLabel</th>\n",
       "      <th>waferIndex</th>\n",
       "      <th>waferMap</th>\n",
       "    </tr>\n",
       "  </thead>\n",
       "  <tbody>\n",
       "    <tr>\n",
       "      <th>0</th>\n",
       "      <td>1683.0</td>\n",
       "      <td>none</td>\n",
       "      <td>lot1</td>\n",
       "      <td>Training</td>\n",
       "      <td>1.0</td>\n",
       "      <td>[[0, 0, 0, 0, 0, 0, 0, 0, 0, 0, 0, 0, 0, 0, 0,...</td>\n",
       "    </tr>\n",
       "    <tr>\n",
       "      <th>1</th>\n",
       "      <td>1683.0</td>\n",
       "      <td>none</td>\n",
       "      <td>lot1</td>\n",
       "      <td>Training</td>\n",
       "      <td>2.0</td>\n",
       "      <td>[[0, 0, 0, 0, 0, 0, 0, 0, 0, 0, 0, 0, 0, 0, 0,...</td>\n",
       "    </tr>\n",
       "    <tr>\n",
       "      <th>2</th>\n",
       "      <td>1683.0</td>\n",
       "      <td>none</td>\n",
       "      <td>lot1</td>\n",
       "      <td>Training</td>\n",
       "      <td>3.0</td>\n",
       "      <td>[[0, 0, 0, 0, 0, 0, 0, 0, 0, 0, 0, 0, 0, 0, 0,...</td>\n",
       "    </tr>\n",
       "    <tr>\n",
       "      <th>3</th>\n",
       "      <td>1683.0</td>\n",
       "      <td>none</td>\n",
       "      <td>lot1</td>\n",
       "      <td>Training</td>\n",
       "      <td>4.0</td>\n",
       "      <td>[[0, 0, 0, 0, 0, 0, 0, 0, 0, 0, 0, 0, 0, 0, 0,...</td>\n",
       "    </tr>\n",
       "    <tr>\n",
       "      <th>4</th>\n",
       "      <td>1683.0</td>\n",
       "      <td>none</td>\n",
       "      <td>lot1</td>\n",
       "      <td>Training</td>\n",
       "      <td>5.0</td>\n",
       "      <td>[[0, 0, 0, 0, 0, 0, 0, 0, 0, 0, 0, 0, 0, 0, 0,...</td>\n",
       "    </tr>\n",
       "    <tr>\n",
       "      <th>...</th>\n",
       "      <td>...</td>\n",
       "      <td>...</td>\n",
       "      <td>...</td>\n",
       "      <td>...</td>\n",
       "      <td>...</td>\n",
       "      <td>...</td>\n",
       "    </tr>\n",
       "    <tr>\n",
       "      <th>811452</th>\n",
       "      <td>600.0</td>\n",
       "      <td>Edge-Ring</td>\n",
       "      <td>lot47542</td>\n",
       "      <td>Test</td>\n",
       "      <td>23.0</td>\n",
       "      <td>[[0, 0, 0, 0, 0, 0, 0, 0, 0, 0, 0, 1, 2, 1, 1,...</td>\n",
       "    </tr>\n",
       "    <tr>\n",
       "      <th>811453</th>\n",
       "      <td>600.0</td>\n",
       "      <td>Edge-Loc</td>\n",
       "      <td>lot47542</td>\n",
       "      <td>Test</td>\n",
       "      <td>24.0</td>\n",
       "      <td>[[0, 0, 0, 0, 0, 0, 0, 0, 0, 0, 0, 2, 2, 1, 1,...</td>\n",
       "    </tr>\n",
       "    <tr>\n",
       "      <th>811454</th>\n",
       "      <td>600.0</td>\n",
       "      <td>Edge-Ring</td>\n",
       "      <td>lot47542</td>\n",
       "      <td>Test</td>\n",
       "      <td>25.0</td>\n",
       "      <td>[[0, 0, 0, 0, 0, 0, 0, 0, 0, 0, 0, 1, 2, 1, 1,...</td>\n",
       "    </tr>\n",
       "    <tr>\n",
       "      <th>811455</th>\n",
       "      <td>600.0</td>\n",
       "      <td>[0, 0]</td>\n",
       "      <td>lot47543</td>\n",
       "      <td>[0, 0]</td>\n",
       "      <td>1.0</td>\n",
       "      <td>[[0, 0, 0, 0, 0, 0, 0, 0, 0, 0, 0, 1, 1, 1, 1,...</td>\n",
       "    </tr>\n",
       "    <tr>\n",
       "      <th>811456</th>\n",
       "      <td>600.0</td>\n",
       "      <td>[0, 0]</td>\n",
       "      <td>lot47543</td>\n",
       "      <td>[0, 0]</td>\n",
       "      <td>2.0</td>\n",
       "      <td>[[0, 0, 0, 0, 0, 0, 0, 0, 0, 0, 0, 1, 2, 1, 1,...</td>\n",
       "    </tr>\n",
       "  </tbody>\n",
       "</table>\n",
       "<p>811457 rows × 6 columns</p>\n",
       "</div>"
      ],
      "text/plain": [
       "        dieSize failureType   lotName trainTestLabel  waferIndex  \\\n",
       "0        1683.0        none      lot1       Training         1.0   \n",
       "1        1683.0        none      lot1       Training         2.0   \n",
       "2        1683.0        none      lot1       Training         3.0   \n",
       "3        1683.0        none      lot1       Training         4.0   \n",
       "4        1683.0        none      lot1       Training         5.0   \n",
       "...         ...         ...       ...            ...         ...   \n",
       "811452    600.0   Edge-Ring  lot47542           Test        23.0   \n",
       "811453    600.0    Edge-Loc  lot47542           Test        24.0   \n",
       "811454    600.0   Edge-Ring  lot47542           Test        25.0   \n",
       "811455    600.0      [0, 0]  lot47543         [0, 0]         1.0   \n",
       "811456    600.0      [0, 0]  lot47543         [0, 0]         2.0   \n",
       "\n",
       "                                                 waferMap  \n",
       "0       [[0, 0, 0, 0, 0, 0, 0, 0, 0, 0, 0, 0, 0, 0, 0,...  \n",
       "1       [[0, 0, 0, 0, 0, 0, 0, 0, 0, 0, 0, 0, 0, 0, 0,...  \n",
       "2       [[0, 0, 0, 0, 0, 0, 0, 0, 0, 0, 0, 0, 0, 0, 0,...  \n",
       "3       [[0, 0, 0, 0, 0, 0, 0, 0, 0, 0, 0, 0, 0, 0, 0,...  \n",
       "4       [[0, 0, 0, 0, 0, 0, 0, 0, 0, 0, 0, 0, 0, 0, 0,...  \n",
       "...                                                   ...  \n",
       "811452  [[0, 0, 0, 0, 0, 0, 0, 0, 0, 0, 0, 1, 2, 1, 1,...  \n",
       "811453  [[0, 0, 0, 0, 0, 0, 0, 0, 0, 0, 0, 2, 2, 1, 1,...  \n",
       "811454  [[0, 0, 0, 0, 0, 0, 0, 0, 0, 0, 0, 1, 2, 1, 1,...  \n",
       "811455  [[0, 0, 0, 0, 0, 0, 0, 0, 0, 0, 0, 1, 1, 1, 1,...  \n",
       "811456  [[0, 0, 0, 0, 0, 0, 0, 0, 0, 0, 0, 1, 2, 1, 1,...  \n",
       "\n",
       "[811457 rows x 6 columns]"
      ]
     },
     "execution_count": 3,
     "metadata": {},
     "output_type": "execute_result"
    }
   ],
   "source": [
    "path = f\"{save_path}/MIR-WM811K/Python/WM811K.pkl\"\n",
    "df = pd.read_pickle(path)\n",
    "df"
   ]
  },
  {
   "cell_type": "code",
   "execution_count": 4,
   "metadata": {},
   "outputs": [
    {
     "data": {
      "text/html": [
       "<div>\n",
       "<style scoped>\n",
       "    .dataframe tbody tr th:only-of-type {\n",
       "        vertical-align: middle;\n",
       "    }\n",
       "\n",
       "    .dataframe tbody tr th {\n",
       "        vertical-align: top;\n",
       "    }\n",
       "\n",
       "    .dataframe thead th {\n",
       "        text-align: right;\n",
       "    }\n",
       "</style>\n",
       "<table border=\"1\" class=\"dataframe\">\n",
       "  <thead>\n",
       "    <tr style=\"text-align: right;\">\n",
       "      <th></th>\n",
       "      <th>dieSize</th>\n",
       "      <th>failureType</th>\n",
       "      <th>lotName</th>\n",
       "      <th>trainTestLabel</th>\n",
       "      <th>waferIndex</th>\n",
       "      <th>waferMap</th>\n",
       "    </tr>\n",
       "  </thead>\n",
       "  <tbody>\n",
       "    <tr>\n",
       "      <th>0</th>\n",
       "      <td>1683.0</td>\n",
       "      <td>none</td>\n",
       "      <td>lot1</td>\n",
       "      <td>Training</td>\n",
       "      <td>1.0</td>\n",
       "      <td>[[0, 0, 0, 0, 0, 0, 0, 0, 0, 0, 0, 0, 0, 0, 0,...</td>\n",
       "    </tr>\n",
       "    <tr>\n",
       "      <th>1</th>\n",
       "      <td>1683.0</td>\n",
       "      <td>none</td>\n",
       "      <td>lot1</td>\n",
       "      <td>Training</td>\n",
       "      <td>2.0</td>\n",
       "      <td>[[0, 0, 0, 0, 0, 0, 0, 0, 0, 0, 0, 0, 0, 0, 0,...</td>\n",
       "    </tr>\n",
       "    <tr>\n",
       "      <th>2</th>\n",
       "      <td>1683.0</td>\n",
       "      <td>none</td>\n",
       "      <td>lot1</td>\n",
       "      <td>Training</td>\n",
       "      <td>3.0</td>\n",
       "      <td>[[0, 0, 0, 0, 0, 0, 0, 0, 0, 0, 0, 0, 0, 0, 0,...</td>\n",
       "    </tr>\n",
       "    <tr>\n",
       "      <th>3</th>\n",
       "      <td>1683.0</td>\n",
       "      <td>none</td>\n",
       "      <td>lot1</td>\n",
       "      <td>Training</td>\n",
       "      <td>4.0</td>\n",
       "      <td>[[0, 0, 0, 0, 0, 0, 0, 0, 0, 0, 0, 0, 0, 0, 0,...</td>\n",
       "    </tr>\n",
       "    <tr>\n",
       "      <th>4</th>\n",
       "      <td>1683.0</td>\n",
       "      <td>none</td>\n",
       "      <td>lot1</td>\n",
       "      <td>Training</td>\n",
       "      <td>5.0</td>\n",
       "      <td>[[0, 0, 0, 0, 0, 0, 0, 0, 0, 0, 0, 0, 0, 0, 0,...</td>\n",
       "    </tr>\n",
       "    <tr>\n",
       "      <th>...</th>\n",
       "      <td>...</td>\n",
       "      <td>...</td>\n",
       "      <td>...</td>\n",
       "      <td>...</td>\n",
       "      <td>...</td>\n",
       "      <td>...</td>\n",
       "    </tr>\n",
       "    <tr>\n",
       "      <th>811452</th>\n",
       "      <td>600.0</td>\n",
       "      <td>Edge-Ring</td>\n",
       "      <td>lot47542</td>\n",
       "      <td>Test</td>\n",
       "      <td>23.0</td>\n",
       "      <td>[[0, 0, 0, 0, 0, 0, 0, 0, 0, 0, 0, 1, 2, 1, 1,...</td>\n",
       "    </tr>\n",
       "    <tr>\n",
       "      <th>811453</th>\n",
       "      <td>600.0</td>\n",
       "      <td>Edge-Loc</td>\n",
       "      <td>lot47542</td>\n",
       "      <td>Test</td>\n",
       "      <td>24.0</td>\n",
       "      <td>[[0, 0, 0, 0, 0, 0, 0, 0, 0, 0, 0, 2, 2, 1, 1,...</td>\n",
       "    </tr>\n",
       "    <tr>\n",
       "      <th>811454</th>\n",
       "      <td>600.0</td>\n",
       "      <td>Edge-Ring</td>\n",
       "      <td>lot47542</td>\n",
       "      <td>Test</td>\n",
       "      <td>25.0</td>\n",
       "      <td>[[0, 0, 0, 0, 0, 0, 0, 0, 0, 0, 0, 1, 2, 1, 1,...</td>\n",
       "    </tr>\n",
       "    <tr>\n",
       "      <th>811455</th>\n",
       "      <td>600.0</td>\n",
       "      <td>unlabeled</td>\n",
       "      <td>lot47543</td>\n",
       "      <td>unlabeled</td>\n",
       "      <td>1.0</td>\n",
       "      <td>[[0, 0, 0, 0, 0, 0, 0, 0, 0, 0, 0, 1, 1, 1, 1,...</td>\n",
       "    </tr>\n",
       "    <tr>\n",
       "      <th>811456</th>\n",
       "      <td>600.0</td>\n",
       "      <td>unlabeled</td>\n",
       "      <td>lot47543</td>\n",
       "      <td>unlabeled</td>\n",
       "      <td>2.0</td>\n",
       "      <td>[[0, 0, 0, 0, 0, 0, 0, 0, 0, 0, 0, 1, 2, 1, 1,...</td>\n",
       "    </tr>\n",
       "  </tbody>\n",
       "</table>\n",
       "<p>811457 rows × 6 columns</p>\n",
       "</div>"
      ],
      "text/plain": [
       "        dieSize failureType   lotName trainTestLabel  waferIndex  \\\n",
       "0        1683.0        none      lot1       Training         1.0   \n",
       "1        1683.0        none      lot1       Training         2.0   \n",
       "2        1683.0        none      lot1       Training         3.0   \n",
       "3        1683.0        none      lot1       Training         4.0   \n",
       "4        1683.0        none      lot1       Training         5.0   \n",
       "...         ...         ...       ...            ...         ...   \n",
       "811452    600.0   Edge-Ring  lot47542           Test        23.0   \n",
       "811453    600.0    Edge-Loc  lot47542           Test        24.0   \n",
       "811454    600.0   Edge-Ring  lot47542           Test        25.0   \n",
       "811455    600.0   unlabeled  lot47543      unlabeled         1.0   \n",
       "811456    600.0   unlabeled  lot47543      unlabeled         2.0   \n",
       "\n",
       "                                                 waferMap  \n",
       "0       [[0, 0, 0, 0, 0, 0, 0, 0, 0, 0, 0, 0, 0, 0, 0,...  \n",
       "1       [[0, 0, 0, 0, 0, 0, 0, 0, 0, 0, 0, 0, 0, 0, 0,...  \n",
       "2       [[0, 0, 0, 0, 0, 0, 0, 0, 0, 0, 0, 0, 0, 0, 0,...  \n",
       "3       [[0, 0, 0, 0, 0, 0, 0, 0, 0, 0, 0, 0, 0, 0, 0,...  \n",
       "4       [[0, 0, 0, 0, 0, 0, 0, 0, 0, 0, 0, 0, 0, 0, 0,...  \n",
       "...                                                   ...  \n",
       "811452  [[0, 0, 0, 0, 0, 0, 0, 0, 0, 0, 0, 1, 2, 1, 1,...  \n",
       "811453  [[0, 0, 0, 0, 0, 0, 0, 0, 0, 0, 0, 2, 2, 1, 1,...  \n",
       "811454  [[0, 0, 0, 0, 0, 0, 0, 0, 0, 0, 0, 1, 2, 1, 1,...  \n",
       "811455  [[0, 0, 0, 0, 0, 0, 0, 0, 0, 0, 0, 1, 1, 1, 1,...  \n",
       "811456  [[0, 0, 0, 0, 0, 0, 0, 0, 0, 0, 0, 1, 2, 1, 1,...  \n",
       "\n",
       "[811457 rows x 6 columns]"
      ]
     },
     "execution_count": 4,
     "metadata": {},
     "output_type": "execute_result"
    }
   ],
   "source": [
    "# [0, 0] is unhashable in failureType and trainTestLabel --> replace with \"unlabeled\"\n",
    "# Use pd.api.types.is_array_like to check if a value is array-like\n",
    "df.loc[df.failureType.apply(pd.api.types.is_array_like), \"failureType\"] = \"unlabeled\"\n",
    "df.loc[df.trainTestLabel.apply(pd.api.types.is_array_like), \"trainTestLabel\"] = \"unlabeled\"\n",
    "df"
   ]
  },
  {
   "attachments": {},
   "cell_type": "markdown",
   "metadata": {},
   "source": [
    "The distribution of failure type categories is heavily skewed. Moreover, the distributions of the `\"Training\"` and `\"Test\"` datasets isn't even the same! Both datasets have far more \"none\"-type failure shadings than the other types (which is typical of qualified semiconductor products going through high-volume manufacturing). However, the `\"Test\"` dataset's \"none\"-type shadings dwarfs the other failure shadings entirely."
   ]
  },
  {
   "cell_type": "code",
   "execution_count": 5,
   "metadata": {},
   "outputs": [
    {
     "data": {
      "text/html": [
       "<div>\n",
       "<style scoped>\n",
       "    .dataframe tbody tr th:only-of-type {\n",
       "        vertical-align: middle;\n",
       "    }\n",
       "\n",
       "    .dataframe tbody tr th {\n",
       "        vertical-align: top;\n",
       "    }\n",
       "\n",
       "    .dataframe thead th {\n",
       "        text-align: right;\n",
       "    }\n",
       "</style>\n",
       "<table border=\"1\" class=\"dataframe\">\n",
       "  <thead>\n",
       "    <tr style=\"text-align: right;\">\n",
       "      <th></th>\n",
       "      <th>count</th>\n",
       "      <th>fraction</th>\n",
       "    </tr>\n",
       "  </thead>\n",
       "  <tbody>\n",
       "    <tr>\n",
       "      <th>none</th>\n",
       "      <td>36730</td>\n",
       "      <td>0.675743</td>\n",
       "    </tr>\n",
       "    <tr>\n",
       "      <th>Edge-Ring</th>\n",
       "      <td>8554</td>\n",
       "      <td>0.157373</td>\n",
       "    </tr>\n",
       "    <tr>\n",
       "      <th>Center</th>\n",
       "      <td>3462</td>\n",
       "      <td>0.063692</td>\n",
       "    </tr>\n",
       "    <tr>\n",
       "      <th>Edge-Loc</th>\n",
       "      <td>2417</td>\n",
       "      <td>0.044467</td>\n",
       "    </tr>\n",
       "    <tr>\n",
       "      <th>Loc</th>\n",
       "      <td>1620</td>\n",
       "      <td>0.029804</td>\n",
       "    </tr>\n",
       "    <tr>\n",
       "      <th>Random</th>\n",
       "      <td>609</td>\n",
       "      <td>0.011204</td>\n",
       "    </tr>\n",
       "    <tr>\n",
       "      <th>Scratch</th>\n",
       "      <td>500</td>\n",
       "      <td>0.009199</td>\n",
       "    </tr>\n",
       "    <tr>\n",
       "      <th>Donut</th>\n",
       "      <td>409</td>\n",
       "      <td>0.007525</td>\n",
       "    </tr>\n",
       "    <tr>\n",
       "      <th>Near-full</th>\n",
       "      <td>54</td>\n",
       "      <td>0.000993</td>\n",
       "    </tr>\n",
       "  </tbody>\n",
       "</table>\n",
       "</div>"
      ],
      "text/plain": [
       "           count  fraction\n",
       "none       36730  0.675743\n",
       "Edge-Ring   8554  0.157373\n",
       "Center      3462  0.063692\n",
       "Edge-Loc    2417  0.044467\n",
       "Loc         1620  0.029804\n",
       "Random       609  0.011204\n",
       "Scratch      500  0.009199\n",
       "Donut        409  0.007525\n",
       "Near-full     54  0.000993"
      ]
     },
     "metadata": {},
     "output_type": "display_data"
    },
    {
     "data": {
      "image/png": "[encoded data removed]",
      "text/plain": [
       "<Figure size 640x480 with 1 Axes>"
      ]
     },
     "metadata": {},
     "output_type": "display_data"
    },
    {
     "data": {
      "text/html": [
       "<div>\n",
       "<style scoped>\n",
       "    .dataframe tbody tr th:only-of-type {\n",
       "        vertical-align: middle;\n",
       "    }\n",
       "\n",
       "    .dataframe tbody tr th {\n",
       "        vertical-align: top;\n",
       "    }\n",
       "\n",
       "    .dataframe thead th {\n",
       "        text-align: right;\n",
       "    }\n",
       "</style>\n",
       "<table border=\"1\" class=\"dataframe\">\n",
       "  <thead>\n",
       "    <tr style=\"text-align: right;\">\n",
       "      <th></th>\n",
       "      <th>count</th>\n",
       "      <th>fraction</th>\n",
       "    </tr>\n",
       "  </thead>\n",
       "  <tbody>\n",
       "    <tr>\n",
       "      <th>none</th>\n",
       "      <td>110701</td>\n",
       "      <td>0.933437</td>\n",
       "    </tr>\n",
       "    <tr>\n",
       "      <th>Edge-Loc</th>\n",
       "      <td>2772</td>\n",
       "      <td>0.023374</td>\n",
       "    </tr>\n",
       "    <tr>\n",
       "      <th>Loc</th>\n",
       "      <td>1973</td>\n",
       "      <td>0.016636</td>\n",
       "    </tr>\n",
       "    <tr>\n",
       "      <th>Edge-Ring</th>\n",
       "      <td>1126</td>\n",
       "      <td>0.009494</td>\n",
       "    </tr>\n",
       "    <tr>\n",
       "      <th>Center</th>\n",
       "      <td>832</td>\n",
       "      <td>0.007015</td>\n",
       "    </tr>\n",
       "    <tr>\n",
       "      <th>Scratch</th>\n",
       "      <td>693</td>\n",
       "      <td>0.005843</td>\n",
       "    </tr>\n",
       "    <tr>\n",
       "      <th>Random</th>\n",
       "      <td>257</td>\n",
       "      <td>0.002167</td>\n",
       "    </tr>\n",
       "    <tr>\n",
       "      <th>Donut</th>\n",
       "      <td>146</td>\n",
       "      <td>0.001231</td>\n",
       "    </tr>\n",
       "    <tr>\n",
       "      <th>Near-full</th>\n",
       "      <td>95</td>\n",
       "      <td>0.000801</td>\n",
       "    </tr>\n",
       "  </tbody>\n",
       "</table>\n",
       "</div>"
      ],
      "text/plain": [
       "            count  fraction\n",
       "none       110701  0.933437\n",
       "Edge-Loc     2772  0.023374\n",
       "Loc          1973  0.016636\n",
       "Edge-Ring    1126  0.009494\n",
       "Center        832  0.007015\n",
       "Scratch       693  0.005843\n",
       "Random        257  0.002167\n",
       "Donut         146  0.001231\n",
       "Near-full      95  0.000801"
      ]
     },
     "metadata": {},
     "output_type": "display_data"
    },
    {
     "data": {
      "image/png": "[encoded data removed]",
      "text/plain": [
       "<Figure size 640x480 with 1 Axes>"
      ]
     },
     "metadata": {},
     "output_type": "display_data"
    }
   ],
   "source": [
    "sns.set_theme()\n",
    "\n",
    "def show_breakdown(series, title=None):\n",
    "    \"\"\"\n",
    "    Given a pandas Series, displays value_counts(), both raw counts and normalized.\n",
    "    Also plots a horizontal bar chart of normalized value counts.\n",
    "    \"\"\"\n",
    "    breakdown = pd.concat(\n",
    "        [series.value_counts(), series.value_counts(normalize=True)],\n",
    "        axis=1,\n",
    "        keys=(\"count\", \"fraction\")\n",
    "    )\n",
    "    display(breakdown)\n",
    "    breakdown.fraction.plot(kind=\"barh\")\n",
    "    if title:\n",
    "        plt.title(title)\n",
    "    plt.show()\n",
    "\n",
    "\n",
    "train_shadings = df.loc[df.trainTestLabel == \"Training\"].failureType\n",
    "test_shadings = df.loc[df.trainTestLabel == \"Test\"].failureType\n",
    "\n",
    "show_breakdown(train_shadings, title=\"Train Failure Types\")\n",
    "show_breakdown(test_shadings, title=\"Test Failure Types\")"
   ]
  },
  {
   "attachments": {},
   "cell_type": "markdown",
   "metadata": {},
   "source": [
    "We've come across papers that choose to ignore this `\"Test\"` dataset entirely and create custom training and test datasets from the `\"Training\"` subset alone. This is usually done to ensure that the data can be split in a stratified fashion. We follow a similar approach here, but rather than throwing out the `\"Test\"` dataset entirely, we keep all non-\"none\"-type failure shadings from that datasets. Concretely, we create an aggregate dataset that has all of the `\"Training\"` subset, and everything in `\"Test\"` where `failureType != \"none\"`."
   ]
  },
  {
   "cell_type": "code",
   "execution_count": 6,
   "metadata": {},
   "outputs": [
    {
     "data": {
      "text/html": [
       "<div>\n",
       "<style scoped>\n",
       "    .dataframe tbody tr th:only-of-type {\n",
       "        vertical-align: middle;\n",
       "    }\n",
       "\n",
       "    .dataframe tbody tr th {\n",
       "        vertical-align: top;\n",
       "    }\n",
       "\n",
       "    .dataframe thead th {\n",
       "        text-align: right;\n",
       "    }\n",
       "</style>\n",
       "<table border=\"1\" class=\"dataframe\">\n",
       "  <thead>\n",
       "    <tr style=\"text-align: right;\">\n",
       "      <th></th>\n",
       "      <th>dieSize</th>\n",
       "      <th>failureType</th>\n",
       "      <th>lotName</th>\n",
       "      <th>trainTestLabel</th>\n",
       "      <th>waferIndex</th>\n",
       "      <th>waferMap</th>\n",
       "    </tr>\n",
       "  </thead>\n",
       "  <tbody>\n",
       "    <tr>\n",
       "      <th>0</th>\n",
       "      <td>1683.0</td>\n",
       "      <td>none</td>\n",
       "      <td>lot1</td>\n",
       "      <td>Training</td>\n",
       "      <td>1.0</td>\n",
       "      <td>[[0, 0, 0, 0, 0, 0, 0, 0, 0, 0, 0, 0, 0, 0, 0,...</td>\n",
       "    </tr>\n",
       "    <tr>\n",
       "      <th>1</th>\n",
       "      <td>1683.0</td>\n",
       "      <td>none</td>\n",
       "      <td>lot1</td>\n",
       "      <td>Training</td>\n",
       "      <td>2.0</td>\n",
       "      <td>[[0, 0, 0, 0, 0, 0, 0, 0, 0, 0, 0, 0, 0, 0, 0,...</td>\n",
       "    </tr>\n",
       "    <tr>\n",
       "      <th>2</th>\n",
       "      <td>1683.0</td>\n",
       "      <td>none</td>\n",
       "      <td>lot1</td>\n",
       "      <td>Training</td>\n",
       "      <td>3.0</td>\n",
       "      <td>[[0, 0, 0, 0, 0, 0, 0, 0, 0, 0, 0, 0, 0, 0, 0,...</td>\n",
       "    </tr>\n",
       "    <tr>\n",
       "      <th>3</th>\n",
       "      <td>1683.0</td>\n",
       "      <td>none</td>\n",
       "      <td>lot1</td>\n",
       "      <td>Training</td>\n",
       "      <td>4.0</td>\n",
       "      <td>[[0, 0, 0, 0, 0, 0, 0, 0, 0, 0, 0, 0, 0, 0, 0,...</td>\n",
       "    </tr>\n",
       "    <tr>\n",
       "      <th>4</th>\n",
       "      <td>1683.0</td>\n",
       "      <td>none</td>\n",
       "      <td>lot1</td>\n",
       "      <td>Training</td>\n",
       "      <td>5.0</td>\n",
       "      <td>[[0, 0, 0, 0, 0, 0, 0, 0, 0, 0, 0, 0, 0, 0, 0,...</td>\n",
       "    </tr>\n",
       "    <tr>\n",
       "      <th>...</th>\n",
       "      <td>...</td>\n",
       "      <td>...</td>\n",
       "      <td>...</td>\n",
       "      <td>...</td>\n",
       "      <td>...</td>\n",
       "      <td>...</td>\n",
       "    </tr>\n",
       "    <tr>\n",
       "      <th>62244</th>\n",
       "      <td>600.0</td>\n",
       "      <td>Edge-Loc</td>\n",
       "      <td>lot47542</td>\n",
       "      <td>Test</td>\n",
       "      <td>21.0</td>\n",
       "      <td>[[0, 0, 0, 0, 0, 0, 0, 0, 0, 0, 0, 1, 2, 1, 2,...</td>\n",
       "    </tr>\n",
       "    <tr>\n",
       "      <th>62245</th>\n",
       "      <td>600.0</td>\n",
       "      <td>Edge-Loc</td>\n",
       "      <td>lot47542</td>\n",
       "      <td>Test</td>\n",
       "      <td>22.0</td>\n",
       "      <td>[[0, 0, 0, 0, 0, 0, 0, 0, 0, 0, 0, 1, 1, 1, 1,...</td>\n",
       "    </tr>\n",
       "    <tr>\n",
       "      <th>62246</th>\n",
       "      <td>600.0</td>\n",
       "      <td>Edge-Ring</td>\n",
       "      <td>lot47542</td>\n",
       "      <td>Test</td>\n",
       "      <td>23.0</td>\n",
       "      <td>[[0, 0, 0, 0, 0, 0, 0, 0, 0, 0, 0, 1, 2, 1, 1,...</td>\n",
       "    </tr>\n",
       "    <tr>\n",
       "      <th>62247</th>\n",
       "      <td>600.0</td>\n",
       "      <td>Edge-Loc</td>\n",
       "      <td>lot47542</td>\n",
       "      <td>Test</td>\n",
       "      <td>24.0</td>\n",
       "      <td>[[0, 0, 0, 0, 0, 0, 0, 0, 0, 0, 0, 2, 2, 1, 1,...</td>\n",
       "    </tr>\n",
       "    <tr>\n",
       "      <th>62248</th>\n",
       "      <td>600.0</td>\n",
       "      <td>Edge-Ring</td>\n",
       "      <td>lot47542</td>\n",
       "      <td>Test</td>\n",
       "      <td>25.0</td>\n",
       "      <td>[[0, 0, 0, 0, 0, 0, 0, 0, 0, 0, 0, 1, 2, 1, 1,...</td>\n",
       "    </tr>\n",
       "  </tbody>\n",
       "</table>\n",
       "<p>62249 rows × 6 columns</p>\n",
       "</div>"
      ],
      "text/plain": [
       "       dieSize failureType   lotName trainTestLabel  waferIndex  \\\n",
       "0       1683.0        none      lot1       Training         1.0   \n",
       "1       1683.0        none      lot1       Training         2.0   \n",
       "2       1683.0        none      lot1       Training         3.0   \n",
       "3       1683.0        none      lot1       Training         4.0   \n",
       "4       1683.0        none      lot1       Training         5.0   \n",
       "...        ...         ...       ...            ...         ...   \n",
       "62244    600.0    Edge-Loc  lot47542           Test        21.0   \n",
       "62245    600.0    Edge-Loc  lot47542           Test        22.0   \n",
       "62246    600.0   Edge-Ring  lot47542           Test        23.0   \n",
       "62247    600.0    Edge-Loc  lot47542           Test        24.0   \n",
       "62248    600.0   Edge-Ring  lot47542           Test        25.0   \n",
       "\n",
       "                                                waferMap  \n",
       "0      [[0, 0, 0, 0, 0, 0, 0, 0, 0, 0, 0, 0, 0, 0, 0,...  \n",
       "1      [[0, 0, 0, 0, 0, 0, 0, 0, 0, 0, 0, 0, 0, 0, 0,...  \n",
       "2      [[0, 0, 0, 0, 0, 0, 0, 0, 0, 0, 0, 0, 0, 0, 0,...  \n",
       "3      [[0, 0, 0, 0, 0, 0, 0, 0, 0, 0, 0, 0, 0, 0, 0,...  \n",
       "4      [[0, 0, 0, 0, 0, 0, 0, 0, 0, 0, 0, 0, 0, 0, 0,...  \n",
       "...                                                  ...  \n",
       "62244  [[0, 0, 0, 0, 0, 0, 0, 0, 0, 0, 0, 1, 2, 1, 2,...  \n",
       "62245  [[0, 0, 0, 0, 0, 0, 0, 0, 0, 0, 0, 1, 1, 1, 1,...  \n",
       "62246  [[0, 0, 0, 0, 0, 0, 0, 0, 0, 0, 0, 1, 2, 1, 1,...  \n",
       "62247  [[0, 0, 0, 0, 0, 0, 0, 0, 0, 0, 0, 2, 2, 1, 1,...  \n",
       "62248  [[0, 0, 0, 0, 0, 0, 0, 0, 0, 0, 0, 1, 2, 1, 1,...  \n",
       "\n",
       "[62249 rows x 6 columns]"
      ]
     },
     "execution_count": 6,
     "metadata": {},
     "output_type": "execute_result"
    }
   ],
   "source": [
    "# Get rid of everything unlabeled, then we want everything that isn't a Test + none-failureType\n",
    "idx = (df.trainTestLabel == \"unlabeled\") | (\n",
    "    (df.trainTestLabel == \"Test\") & (df.failureType == \"none\")\n",
    ")\n",
    "data = df.loc[~idx].reset_index(drop=True)\n",
    "data"
   ]
  },
  {
   "attachments": {},
   "cell_type": "markdown",
   "metadata": {},
   "source": [
    "Because I've worked with this data once before, I know that there's a single data point here that is not a real wafermap (it's probably just a slice of one). Its waferMap is just 3 columns long, and not even close to a square."
   ]
  },
  {
   "cell_type": "code",
   "execution_count": 7,
   "metadata": {},
   "outputs": [
    {
     "name": "stdout",
     "output_type": "stream",
     "text": [
      "46155\n"
     ]
    },
    {
     "data": {
      "text/plain": [
       "array([[0, 1, 1],\n",
       "       [0, 0, 0],\n",
       "       [0, 0, 0],\n",
       "       [0, 0, 0],\n",
       "       [0, 0, 0],\n",
       "       [0, 0, 0],\n",
       "       [0, 0, 0],\n",
       "       [0, 0, 0],\n",
       "       [0, 0, 0],\n",
       "       [0, 0, 0],\n",
       "       [0, 0, 0],\n",
       "       [0, 0, 0],\n",
       "       [0, 0, 0],\n",
       "       [0, 0, 0],\n",
       "       [1, 0, 0]], dtype=uint8)"
      ]
     },
     "execution_count": 7,
     "metadata": {},
     "output_type": "execute_result"
    }
   ],
   "source": [
    "bad_idx = data.waferMap.apply(lambda x: np.size(x)).argmin()\n",
    "print(bad_idx)\n",
    "# Show the problematic wafermap\n",
    "data.waferMap.iloc[bad_idx]"
   ]
  },
  {
   "cell_type": "code",
   "execution_count": 8,
   "metadata": {},
   "outputs": [
    {
     "data": {
      "text/html": [
       "<div>\n",
       "<style scoped>\n",
       "    .dataframe tbody tr th:only-of-type {\n",
       "        vertical-align: middle;\n",
       "    }\n",
       "\n",
       "    .dataframe tbody tr th {\n",
       "        vertical-align: top;\n",
       "    }\n",
       "\n",
       "    .dataframe thead th {\n",
       "        text-align: right;\n",
       "    }\n",
       "</style>\n",
       "<table border=\"1\" class=\"dataframe\">\n",
       "  <thead>\n",
       "    <tr style=\"text-align: right;\">\n",
       "      <th></th>\n",
       "      <th>dieSize</th>\n",
       "      <th>failureType</th>\n",
       "      <th>lotName</th>\n",
       "      <th>trainTestLabel</th>\n",
       "      <th>waferIndex</th>\n",
       "      <th>waferMap</th>\n",
       "    </tr>\n",
       "  </thead>\n",
       "  <tbody>\n",
       "    <tr>\n",
       "      <th>0</th>\n",
       "      <td>1683.0</td>\n",
       "      <td>none</td>\n",
       "      <td>lot1</td>\n",
       "      <td>Training</td>\n",
       "      <td>1.0</td>\n",
       "      <td>[[0, 0, 0, 0, 0, 0, 0, 0, 0, 0, 0, 0, 0, 0, 0,...</td>\n",
       "    </tr>\n",
       "    <tr>\n",
       "      <th>1</th>\n",
       "      <td>1683.0</td>\n",
       "      <td>none</td>\n",
       "      <td>lot1</td>\n",
       "      <td>Training</td>\n",
       "      <td>2.0</td>\n",
       "      <td>[[0, 0, 0, 0, 0, 0, 0, 0, 0, 0, 0, 0, 0, 0, 0,...</td>\n",
       "    </tr>\n",
       "    <tr>\n",
       "      <th>2</th>\n",
       "      <td>1683.0</td>\n",
       "      <td>none</td>\n",
       "      <td>lot1</td>\n",
       "      <td>Training</td>\n",
       "      <td>3.0</td>\n",
       "      <td>[[0, 0, 0, 0, 0, 0, 0, 0, 0, 0, 0, 0, 0, 0, 0,...</td>\n",
       "    </tr>\n",
       "    <tr>\n",
       "      <th>3</th>\n",
       "      <td>1683.0</td>\n",
       "      <td>none</td>\n",
       "      <td>lot1</td>\n",
       "      <td>Training</td>\n",
       "      <td>4.0</td>\n",
       "      <td>[[0, 0, 0, 0, 0, 0, 0, 0, 0, 0, 0, 0, 0, 0, 0,...</td>\n",
       "    </tr>\n",
       "    <tr>\n",
       "      <th>4</th>\n",
       "      <td>1683.0</td>\n",
       "      <td>none</td>\n",
       "      <td>lot1</td>\n",
       "      <td>Training</td>\n",
       "      <td>5.0</td>\n",
       "      <td>[[0, 0, 0, 0, 0, 0, 0, 0, 0, 0, 0, 0, 0, 0, 0,...</td>\n",
       "    </tr>\n",
       "    <tr>\n",
       "      <th>...</th>\n",
       "      <td>...</td>\n",
       "      <td>...</td>\n",
       "      <td>...</td>\n",
       "      <td>...</td>\n",
       "      <td>...</td>\n",
       "      <td>...</td>\n",
       "    </tr>\n",
       "    <tr>\n",
       "      <th>62243</th>\n",
       "      <td>600.0</td>\n",
       "      <td>Edge-Loc</td>\n",
       "      <td>lot47542</td>\n",
       "      <td>Test</td>\n",
       "      <td>21.0</td>\n",
       "      <td>[[0, 0, 0, 0, 0, 0, 0, 0, 0, 0, 0, 1, 2, 1, 2,...</td>\n",
       "    </tr>\n",
       "    <tr>\n",
       "      <th>62244</th>\n",
       "      <td>600.0</td>\n",
       "      <td>Edge-Loc</td>\n",
       "      <td>lot47542</td>\n",
       "      <td>Test</td>\n",
       "      <td>22.0</td>\n",
       "      <td>[[0, 0, 0, 0, 0, 0, 0, 0, 0, 0, 0, 1, 1, 1, 1,...</td>\n",
       "    </tr>\n",
       "    <tr>\n",
       "      <th>62245</th>\n",
       "      <td>600.0</td>\n",
       "      <td>Edge-Ring</td>\n",
       "      <td>lot47542</td>\n",
       "      <td>Test</td>\n",
       "      <td>23.0</td>\n",
       "      <td>[[0, 0, 0, 0, 0, 0, 0, 0, 0, 0, 0, 1, 2, 1, 1,...</td>\n",
       "    </tr>\n",
       "    <tr>\n",
       "      <th>62246</th>\n",
       "      <td>600.0</td>\n",
       "      <td>Edge-Loc</td>\n",
       "      <td>lot47542</td>\n",
       "      <td>Test</td>\n",
       "      <td>24.0</td>\n",
       "      <td>[[0, 0, 0, 0, 0, 0, 0, 0, 0, 0, 0, 2, 2, 1, 1,...</td>\n",
       "    </tr>\n",
       "    <tr>\n",
       "      <th>62247</th>\n",
       "      <td>600.0</td>\n",
       "      <td>Edge-Ring</td>\n",
       "      <td>lot47542</td>\n",
       "      <td>Test</td>\n",
       "      <td>25.0</td>\n",
       "      <td>[[0, 0, 0, 0, 0, 0, 0, 0, 0, 0, 0, 1, 2, 1, 1,...</td>\n",
       "    </tr>\n",
       "  </tbody>\n",
       "</table>\n",
       "<p>62248 rows × 6 columns</p>\n",
       "</div>"
      ],
      "text/plain": [
       "       dieSize failureType   lotName trainTestLabel  waferIndex  \\\n",
       "0       1683.0        none      lot1       Training         1.0   \n",
       "1       1683.0        none      lot1       Training         2.0   \n",
       "2       1683.0        none      lot1       Training         3.0   \n",
       "3       1683.0        none      lot1       Training         4.0   \n",
       "4       1683.0        none      lot1       Training         5.0   \n",
       "...        ...         ...       ...            ...         ...   \n",
       "62243    600.0    Edge-Loc  lot47542           Test        21.0   \n",
       "62244    600.0    Edge-Loc  lot47542           Test        22.0   \n",
       "62245    600.0   Edge-Ring  lot47542           Test        23.0   \n",
       "62246    600.0    Edge-Loc  lot47542           Test        24.0   \n",
       "62247    600.0   Edge-Ring  lot47542           Test        25.0   \n",
       "\n",
       "                                                waferMap  \n",
       "0      [[0, 0, 0, 0, 0, 0, 0, 0, 0, 0, 0, 0, 0, 0, 0,...  \n",
       "1      [[0, 0, 0, 0, 0, 0, 0, 0, 0, 0, 0, 0, 0, 0, 0,...  \n",
       "2      [[0, 0, 0, 0, 0, 0, 0, 0, 0, 0, 0, 0, 0, 0, 0,...  \n",
       "3      [[0, 0, 0, 0, 0, 0, 0, 0, 0, 0, 0, 0, 0, 0, 0,...  \n",
       "4      [[0, 0, 0, 0, 0, 0, 0, 0, 0, 0, 0, 0, 0, 0, 0,...  \n",
       "...                                                  ...  \n",
       "62243  [[0, 0, 0, 0, 0, 0, 0, 0, 0, 0, 0, 1, 2, 1, 2,...  \n",
       "62244  [[0, 0, 0, 0, 0, 0, 0, 0, 0, 0, 0, 1, 1, 1, 1,...  \n",
       "62245  [[0, 0, 0, 0, 0, 0, 0, 0, 0, 0, 0, 1, 2, 1, 1,...  \n",
       "62246  [[0, 0, 0, 0, 0, 0, 0, 0, 0, 0, 0, 2, 2, 1, 1,...  \n",
       "62247  [[0, 0, 0, 0, 0, 0, 0, 0, 0, 0, 0, 1, 2, 1, 1,...  \n",
       "\n",
       "[62248 rows x 6 columns]"
      ]
     },
     "execution_count": 8,
     "metadata": {},
     "output_type": "execute_result"
    }
   ],
   "source": [
    "# Drop the bad row and reset the indices\n",
    "data.drop(index=bad_idx, inplace=True)\n",
    "data.reset_index(drop=True, inplace=True)\n",
    "data"
   ]
  },
  {
   "attachments": {},
   "cell_type": "markdown",
   "metadata": {},
   "source": [
    "For compatibility with image processing libraries, the domain of our NumPy arrays will need to be scaled to an RGB domain. We'll also want a column with category codes (integers) instead of the failure types (strings)."
   ]
  },
  {
   "cell_type": "code",
   "execution_count": 9,
   "metadata": {},
   "outputs": [
    {
     "data": {
      "text/html": [
       "<div>\n",
       "<style scoped>\n",
       "    .dataframe tbody tr th:only-of-type {\n",
       "        vertical-align: middle;\n",
       "    }\n",
       "\n",
       "    .dataframe tbody tr th {\n",
       "        vertical-align: top;\n",
       "    }\n",
       "\n",
       "    .dataframe thead th {\n",
       "        text-align: right;\n",
       "    }\n",
       "</style>\n",
       "<table border=\"1\" class=\"dataframe\">\n",
       "  <thead>\n",
       "    <tr style=\"text-align: right;\">\n",
       "      <th></th>\n",
       "      <th>dieSize</th>\n",
       "      <th>failureType</th>\n",
       "      <th>lotName</th>\n",
       "      <th>trainTestLabel</th>\n",
       "      <th>waferIndex</th>\n",
       "      <th>waferMap</th>\n",
       "      <th>failureCode</th>\n",
       "    </tr>\n",
       "  </thead>\n",
       "  <tbody>\n",
       "    <tr>\n",
       "      <th>0</th>\n",
       "      <td>1683.0</td>\n",
       "      <td>none</td>\n",
       "      <td>lot1</td>\n",
       "      <td>Training</td>\n",
       "      <td>1.0</td>\n",
       "      <td>[[0, 0, 0, 0, 0, 0, 0, 0, 0, 0, 0, 0, 0, 0, 0,...</td>\n",
       "      <td>8</td>\n",
       "    </tr>\n",
       "    <tr>\n",
       "      <th>1</th>\n",
       "      <td>1683.0</td>\n",
       "      <td>none</td>\n",
       "      <td>lot1</td>\n",
       "      <td>Training</td>\n",
       "      <td>2.0</td>\n",
       "      <td>[[0, 0, 0, 0, 0, 0, 0, 0, 0, 0, 0, 0, 0, 0, 0,...</td>\n",
       "      <td>8</td>\n",
       "    </tr>\n",
       "    <tr>\n",
       "      <th>2</th>\n",
       "      <td>1683.0</td>\n",
       "      <td>none</td>\n",
       "      <td>lot1</td>\n",
       "      <td>Training</td>\n",
       "      <td>3.0</td>\n",
       "      <td>[[0, 0, 0, 0, 0, 0, 0, 0, 0, 0, 0, 0, 0, 0, 0,...</td>\n",
       "      <td>8</td>\n",
       "    </tr>\n",
       "    <tr>\n",
       "      <th>3</th>\n",
       "      <td>1683.0</td>\n",
       "      <td>none</td>\n",
       "      <td>lot1</td>\n",
       "      <td>Training</td>\n",
       "      <td>4.0</td>\n",
       "      <td>[[0, 0, 0, 0, 0, 0, 0, 0, 0, 0, 0, 0, 0, 0, 0,...</td>\n",
       "      <td>8</td>\n",
       "    </tr>\n",
       "    <tr>\n",
       "      <th>4</th>\n",
       "      <td>1683.0</td>\n",
       "      <td>none</td>\n",
       "      <td>lot1</td>\n",
       "      <td>Training</td>\n",
       "      <td>5.0</td>\n",
       "      <td>[[0, 0, 0, 0, 0, 0, 0, 0, 0, 0, 0, 0, 0, 0, 0,...</td>\n",
       "      <td>8</td>\n",
       "    </tr>\n",
       "    <tr>\n",
       "      <th>...</th>\n",
       "      <td>...</td>\n",
       "      <td>...</td>\n",
       "      <td>...</td>\n",
       "      <td>...</td>\n",
       "      <td>...</td>\n",
       "      <td>...</td>\n",
       "      <td>...</td>\n",
       "    </tr>\n",
       "    <tr>\n",
       "      <th>62243</th>\n",
       "      <td>600.0</td>\n",
       "      <td>Edge-Loc</td>\n",
       "      <td>lot47542</td>\n",
       "      <td>Test</td>\n",
       "      <td>21.0</td>\n",
       "      <td>[[0, 0, 0, 0, 0, 0, 0, 0, 0, 0, 0, 128, 255, 1...</td>\n",
       "      <td>2</td>\n",
       "    </tr>\n",
       "    <tr>\n",
       "      <th>62244</th>\n",
       "      <td>600.0</td>\n",
       "      <td>Edge-Loc</td>\n",
       "      <td>lot47542</td>\n",
       "      <td>Test</td>\n",
       "      <td>22.0</td>\n",
       "      <td>[[0, 0, 0, 0, 0, 0, 0, 0, 0, 0, 0, 128, 128, 1...</td>\n",
       "      <td>2</td>\n",
       "    </tr>\n",
       "    <tr>\n",
       "      <th>62245</th>\n",
       "      <td>600.0</td>\n",
       "      <td>Edge-Ring</td>\n",
       "      <td>lot47542</td>\n",
       "      <td>Test</td>\n",
       "      <td>23.0</td>\n",
       "      <td>[[0, 0, 0, 0, 0, 0, 0, 0, 0, 0, 0, 128, 255, 1...</td>\n",
       "      <td>3</td>\n",
       "    </tr>\n",
       "    <tr>\n",
       "      <th>62246</th>\n",
       "      <td>600.0</td>\n",
       "      <td>Edge-Loc</td>\n",
       "      <td>lot47542</td>\n",
       "      <td>Test</td>\n",
       "      <td>24.0</td>\n",
       "      <td>[[0, 0, 0, 0, 0, 0, 0, 0, 0, 0, 0, 255, 255, 1...</td>\n",
       "      <td>2</td>\n",
       "    </tr>\n",
       "    <tr>\n",
       "      <th>62247</th>\n",
       "      <td>600.0</td>\n",
       "      <td>Edge-Ring</td>\n",
       "      <td>lot47542</td>\n",
       "      <td>Test</td>\n",
       "      <td>25.0</td>\n",
       "      <td>[[0, 0, 0, 0, 0, 0, 0, 0, 0, 0, 0, 128, 255, 1...</td>\n",
       "      <td>3</td>\n",
       "    </tr>\n",
       "  </tbody>\n",
       "</table>\n",
       "<p>62248 rows × 7 columns</p>\n",
       "</div>"
      ],
      "text/plain": [
       "       dieSize failureType   lotName trainTestLabel  waferIndex  \\\n",
       "0       1683.0        none      lot1       Training         1.0   \n",
       "1       1683.0        none      lot1       Training         2.0   \n",
       "2       1683.0        none      lot1       Training         3.0   \n",
       "3       1683.0        none      lot1       Training         4.0   \n",
       "4       1683.0        none      lot1       Training         5.0   \n",
       "...        ...         ...       ...            ...         ...   \n",
       "62243    600.0    Edge-Loc  lot47542           Test        21.0   \n",
       "62244    600.0    Edge-Loc  lot47542           Test        22.0   \n",
       "62245    600.0   Edge-Ring  lot47542           Test        23.0   \n",
       "62246    600.0    Edge-Loc  lot47542           Test        24.0   \n",
       "62247    600.0   Edge-Ring  lot47542           Test        25.0   \n",
       "\n",
       "                                                waferMap  failureCode  \n",
       "0      [[0, 0, 0, 0, 0, 0, 0, 0, 0, 0, 0, 0, 0, 0, 0,...            8  \n",
       "1      [[0, 0, 0, 0, 0, 0, 0, 0, 0, 0, 0, 0, 0, 0, 0,...            8  \n",
       "2      [[0, 0, 0, 0, 0, 0, 0, 0, 0, 0, 0, 0, 0, 0, 0,...            8  \n",
       "3      [[0, 0, 0, 0, 0, 0, 0, 0, 0, 0, 0, 0, 0, 0, 0,...            8  \n",
       "4      [[0, 0, 0, 0, 0, 0, 0, 0, 0, 0, 0, 0, 0, 0, 0,...            8  \n",
       "...                                                  ...          ...  \n",
       "62243  [[0, 0, 0, 0, 0, 0, 0, 0, 0, 0, 0, 128, 255, 1...            2  \n",
       "62244  [[0, 0, 0, 0, 0, 0, 0, 0, 0, 0, 0, 128, 128, 1...            2  \n",
       "62245  [[0, 0, 0, 0, 0, 0, 0, 0, 0, 0, 0, 128, 255, 1...            3  \n",
       "62246  [[0, 0, 0, 0, 0, 0, 0, 0, 0, 0, 0, 255, 255, 1...            2  \n",
       "62247  [[0, 0, 0, 0, 0, 0, 0, 0, 0, 0, 0, 128, 255, 1...            3  \n",
       "\n",
       "[62248 rows x 7 columns]"
      ]
     },
     "execution_count": 9,
     "metadata": {},
     "output_type": "execute_result"
    }
   ],
   "source": [
    "# Modified from https://github.com/sparks-baird/xtal2png/blob/main/src/xtal2png/utils/data.py#L138\n",
    "def rgb_scale(\n",
    "    X, feature_range=[0, 255], data_range=None,\n",
    "):\n",
    "    \"\"\"Scales array to RGB domain [0, 255]\n",
    "    \"\"\"\n",
    "    import numpy as np\n",
    "    if not isinstance(X, np.ndarray):\n",
    "        X = np.array(X)\n",
    "    if data_range is None:\n",
    "        data_range = [np.min(X), np.max(X)]\n",
    "    if feature_range is None:\n",
    "        feature_range = [np.min(X), np.max(X)]\n",
    "\n",
    "    data_min, data_max = data_range\n",
    "    feature_min, feature_max = feature_range\n",
    "    X_std = (X - data_min) / (data_max - data_min)\n",
    "    X_scaled = X_std * (feature_max - feature_min) + feature_min\n",
    "    X_scaled = np.round(X_scaled).astype(np.uint8)\n",
    "    return X_scaled\n",
    "\n",
    "\n",
    "data.waferMap = data.waferMap.apply(rgb_scale)\n",
    "# Create a failureCode column that is the categorical code of failureType\n",
    "data[\"failureCode\"] = data.failureType.astype(\"category\").cat.codes\n",
    "data"
   ]
  },
  {
   "attachments": {},
   "cell_type": "markdown",
   "metadata": {},
   "source": [
    "With this cleaned and aggregated data, we can create our own train and test splits, stratifying them according to the failure types. Below, we split the aggregate data into an 80/20 train/test split, and we verify that the distributions of failure categories across our splits are the same thanks to stratified splitting."
   ]
  },
  {
   "cell_type": "code",
   "execution_count": 10,
   "metadata": {},
   "outputs": [
    {
     "data": {
      "text/html": [
       "<div>\n",
       "<style scoped>\n",
       "    .dataframe tbody tr th:only-of-type {\n",
       "        vertical-align: middle;\n",
       "    }\n",
       "\n",
       "    .dataframe tbody tr th {\n",
       "        vertical-align: top;\n",
       "    }\n",
       "\n",
       "    .dataframe thead th {\n",
       "        text-align: right;\n",
       "    }\n",
       "</style>\n",
       "<table border=\"1\" class=\"dataframe\">\n",
       "  <thead>\n",
       "    <tr style=\"text-align: right;\">\n",
       "      <th></th>\n",
       "      <th>count</th>\n",
       "      <th>fraction</th>\n",
       "    </tr>\n",
       "  </thead>\n",
       "  <tbody>\n",
       "    <tr>\n",
       "      <th>none</th>\n",
       "      <td>29383</td>\n",
       "      <td>0.590044</td>\n",
       "    </tr>\n",
       "    <tr>\n",
       "      <th>Edge-Ring</th>\n",
       "      <td>7744</td>\n",
       "      <td>0.155508</td>\n",
       "    </tr>\n",
       "    <tr>\n",
       "      <th>Edge-Loc</th>\n",
       "      <td>4151</td>\n",
       "      <td>0.083357</td>\n",
       "    </tr>\n",
       "    <tr>\n",
       "      <th>Center</th>\n",
       "      <td>3435</td>\n",
       "      <td>0.068979</td>\n",
       "    </tr>\n",
       "    <tr>\n",
       "      <th>Loc</th>\n",
       "      <td>2874</td>\n",
       "      <td>0.057713</td>\n",
       "    </tr>\n",
       "    <tr>\n",
       "      <th>Scratch</th>\n",
       "      <td>955</td>\n",
       "      <td>0.019177</td>\n",
       "    </tr>\n",
       "    <tr>\n",
       "      <th>Random</th>\n",
       "      <td>693</td>\n",
       "      <td>0.013916</td>\n",
       "    </tr>\n",
       "    <tr>\n",
       "      <th>Donut</th>\n",
       "      <td>444</td>\n",
       "      <td>0.008916</td>\n",
       "    </tr>\n",
       "    <tr>\n",
       "      <th>Near-full</th>\n",
       "      <td>119</td>\n",
       "      <td>0.002390</td>\n",
       "    </tr>\n",
       "  </tbody>\n",
       "</table>\n",
       "</div>"
      ],
      "text/plain": [
       "           count  fraction\n",
       "none       29383  0.590044\n",
       "Edge-Ring   7744  0.155508\n",
       "Edge-Loc    4151  0.083357\n",
       "Center      3435  0.068979\n",
       "Loc         2874  0.057713\n",
       "Scratch      955  0.019177\n",
       "Random       693  0.013916\n",
       "Donut        444  0.008916\n",
       "Near-full    119  0.002390"
      ]
     },
     "metadata": {},
     "output_type": "display_data"
    },
    {
     "data": {
      "image/png": "[encoded data removed]",
      "text/plain": [
       "<Figure size 640x480 with 1 Axes>"
      ]
     },
     "metadata": {},
     "output_type": "display_data"
    },
    {
     "data": {
      "text/html": [
       "<div>\n",
       "<style scoped>\n",
       "    .dataframe tbody tr th:only-of-type {\n",
       "        vertical-align: middle;\n",
       "    }\n",
       "\n",
       "    .dataframe tbody tr th {\n",
       "        vertical-align: top;\n",
       "    }\n",
       "\n",
       "    .dataframe thead th {\n",
       "        text-align: right;\n",
       "    }\n",
       "</style>\n",
       "<table border=\"1\" class=\"dataframe\">\n",
       "  <thead>\n",
       "    <tr style=\"text-align: right;\">\n",
       "      <th></th>\n",
       "      <th>count</th>\n",
       "      <th>fraction</th>\n",
       "    </tr>\n",
       "  </thead>\n",
       "  <tbody>\n",
       "    <tr>\n",
       "      <th>none</th>\n",
       "      <td>7346</td>\n",
       "      <td>0.590040</td>\n",
       "    </tr>\n",
       "    <tr>\n",
       "      <th>Edge-Ring</th>\n",
       "      <td>1936</td>\n",
       "      <td>0.155502</td>\n",
       "    </tr>\n",
       "    <tr>\n",
       "      <th>Edge-Loc</th>\n",
       "      <td>1038</td>\n",
       "      <td>0.083373</td>\n",
       "    </tr>\n",
       "    <tr>\n",
       "      <th>Center</th>\n",
       "      <td>859</td>\n",
       "      <td>0.068996</td>\n",
       "    </tr>\n",
       "    <tr>\n",
       "      <th>Loc</th>\n",
       "      <td>719</td>\n",
       "      <td>0.057751</td>\n",
       "    </tr>\n",
       "    <tr>\n",
       "      <th>Scratch</th>\n",
       "      <td>238</td>\n",
       "      <td>0.019116</td>\n",
       "    </tr>\n",
       "    <tr>\n",
       "      <th>Random</th>\n",
       "      <td>173</td>\n",
       "      <td>0.013896</td>\n",
       "    </tr>\n",
       "    <tr>\n",
       "      <th>Donut</th>\n",
       "      <td>111</td>\n",
       "      <td>0.008916</td>\n",
       "    </tr>\n",
       "    <tr>\n",
       "      <th>Near-full</th>\n",
       "      <td>30</td>\n",
       "      <td>0.002410</td>\n",
       "    </tr>\n",
       "  </tbody>\n",
       "</table>\n",
       "</div>"
      ],
      "text/plain": [
       "           count  fraction\n",
       "none        7346  0.590040\n",
       "Edge-Ring   1936  0.155502\n",
       "Edge-Loc    1038  0.083373\n",
       "Center       859  0.068996\n",
       "Loc          719  0.057751\n",
       "Scratch      238  0.019116\n",
       "Random       173  0.013896\n",
       "Donut        111  0.008916\n",
       "Near-full     30  0.002410"
      ]
     },
     "metadata": {},
     "output_type": "display_data"
    },
    {
     "data": {
      "image/png": "[encoded data removed]",
      "text/plain": [
       "<Figure size 640x480 with 1 Axes>"
      ]
     },
     "metadata": {},
     "output_type": "display_data"
    }
   ],
   "source": [
    "# Select only the waferMap and failureCode/Type columns\n",
    "data = data[[\"waferMap\", \"failureType\", \"failureCode\"]]\n",
    "\n",
    "train_data, test_data = train_test_split(\n",
    "    data, test_size=0.2, stratify=data.failureType, random_state=0\n",
    ")\n",
    "show_breakdown(train_data.failureType, title=\"New Train Failure Types\")\n",
    "show_breakdown(test_data.failureType, title=\"New Test Failure Types\")"
   ]
  },
  {
   "attachments": {},
   "cell_type": "markdown",
   "metadata": {},
   "source": [
    "Now, we'll create further splits of our data for the purpose of fine-tuning and comparing against fully supervised baselines. These splits will come from the training dataset. Recall we created an 80/20 split for `train_data` and `test_data`. This `train_data` will be broken down into a validation set and multiple subsets for finetuning: one with 1\\% of the training labels, another 10\\%, another with 20\\%, and the last will have the 29\\% leftover. First, we create the `val_data` and initial `train_split` below:"
   ]
  },
  {
   "cell_type": "code",
   "execution_count": 11,
   "metadata": {},
   "outputs": [
    {
     "data": {
      "text/html": [
       "<div>\n",
       "<style scoped>\n",
       "    .dataframe tbody tr th:only-of-type {\n",
       "        vertical-align: middle;\n",
       "    }\n",
       "\n",
       "    .dataframe tbody tr th {\n",
       "        vertical-align: top;\n",
       "    }\n",
       "\n",
       "    .dataframe thead th {\n",
       "        text-align: right;\n",
       "    }\n",
       "</style>\n",
       "<table border=\"1\" class=\"dataframe\">\n",
       "  <thead>\n",
       "    <tr style=\"text-align: right;\">\n",
       "      <th></th>\n",
       "      <th>waferMap</th>\n",
       "      <th>failureType</th>\n",
       "      <th>failureCode</th>\n",
       "    </tr>\n",
       "  </thead>\n",
       "  <tbody>\n",
       "    <tr>\n",
       "      <th>53885</th>\n",
       "      <td>[[0, 0, 0, 0, 0, 0, 0, 0, 0, 0, 255, 128, 128,...</td>\n",
       "      <td>none</td>\n",
       "      <td>8</td>\n",
       "    </tr>\n",
       "    <tr>\n",
       "      <th>41170</th>\n",
       "      <td>[[0, 0, 0, 0, 0, 0, 0, 0, 0, 0, 0, 0, 128, 128...</td>\n",
       "      <td>none</td>\n",
       "      <td>8</td>\n",
       "    </tr>\n",
       "    <tr>\n",
       "      <th>32829</th>\n",
       "      <td>[[0, 0, 0, 0, 0, 0, 0, 0, 0, 0, 0, 0, 255, 255...</td>\n",
       "      <td>none</td>\n",
       "      <td>8</td>\n",
       "    </tr>\n",
       "    <tr>\n",
       "      <th>52860</th>\n",
       "      <td>[[0, 0, 0, 0, 0, 0, 0, 0, 0, 0, 128, 128, 128,...</td>\n",
       "      <td>none</td>\n",
       "      <td>8</td>\n",
       "    </tr>\n",
       "    <tr>\n",
       "      <th>13414</th>\n",
       "      <td>[[0, 0, 0, 0, 0, 0, 0, 0, 0, 0, 0, 0, 0, 0, 0,...</td>\n",
       "      <td>Edge-Ring</td>\n",
       "      <td>3</td>\n",
       "    </tr>\n",
       "    <tr>\n",
       "      <th>...</th>\n",
       "      <td>...</td>\n",
       "      <td>...</td>\n",
       "      <td>...</td>\n",
       "    </tr>\n",
       "    <tr>\n",
       "      <th>55641</th>\n",
       "      <td>[[0, 0, 0, 0, 0, 0, 0, 0, 0, 0, 0, 0, 0, 0, 25...</td>\n",
       "      <td>Loc</td>\n",
       "      <td>4</td>\n",
       "    </tr>\n",
       "    <tr>\n",
       "      <th>51722</th>\n",
       "      <td>[[0, 0, 0, 0, 0, 0, 0, 0, 0, 0, 255, 128, 128,...</td>\n",
       "      <td>none</td>\n",
       "      <td>8</td>\n",
       "    </tr>\n",
       "    <tr>\n",
       "      <th>58887</th>\n",
       "      <td>[[0, 0, 0, 0, 0, 0, 0, 0, 0, 0, 0, 0, 0, 0, 12...</td>\n",
       "      <td>none</td>\n",
       "      <td>8</td>\n",
       "    </tr>\n",
       "    <tr>\n",
       "      <th>37900</th>\n",
       "      <td>[[0, 0, 0, 0, 0, 0, 0, 0, 0, 0, 0, 0, 255, 128...</td>\n",
       "      <td>none</td>\n",
       "      <td>8</td>\n",
       "    </tr>\n",
       "    <tr>\n",
       "      <th>57530</th>\n",
       "      <td>[[0, 0, 0, 0, 0, 0, 0, 0, 0, 0, 0, 0, 0, 0, 0,...</td>\n",
       "      <td>Loc</td>\n",
       "      <td>4</td>\n",
       "    </tr>\n",
       "  </tbody>\n",
       "</table>\n",
       "<p>37348 rows × 3 columns</p>\n",
       "</div>"
      ],
      "text/plain": [
       "                                                waferMap failureType  \\\n",
       "53885  [[0, 0, 0, 0, 0, 0, 0, 0, 0, 0, 255, 128, 128,...        none   \n",
       "41170  [[0, 0, 0, 0, 0, 0, 0, 0, 0, 0, 0, 0, 128, 128...        none   \n",
       "32829  [[0, 0, 0, 0, 0, 0, 0, 0, 0, 0, 0, 0, 255, 255...        none   \n",
       "52860  [[0, 0, 0, 0, 0, 0, 0, 0, 0, 0, 128, 128, 128,...        none   \n",
       "13414  [[0, 0, 0, 0, 0, 0, 0, 0, 0, 0, 0, 0, 0, 0, 0,...   Edge-Ring   \n",
       "...                                                  ...         ...   \n",
       "55641  [[0, 0, 0, 0, 0, 0, 0, 0, 0, 0, 0, 0, 0, 0, 25...         Loc   \n",
       "51722  [[0, 0, 0, 0, 0, 0, 0, 0, 0, 0, 255, 128, 128,...        none   \n",
       "58887  [[0, 0, 0, 0, 0, 0, 0, 0, 0, 0, 0, 0, 0, 0, 12...        none   \n",
       "37900  [[0, 0, 0, 0, 0, 0, 0, 0, 0, 0, 0, 0, 255, 128...        none   \n",
       "57530  [[0, 0, 0, 0, 0, 0, 0, 0, 0, 0, 0, 0, 0, 0, 0,...         Loc   \n",
       "\n",
       "       failureCode  \n",
       "53885            8  \n",
       "41170            8  \n",
       "32829            8  \n",
       "52860            8  \n",
       "13414            3  \n",
       "...            ...  \n",
       "55641            4  \n",
       "51722            8  \n",
       "58887            8  \n",
       "37900            8  \n",
       "57530            4  \n",
       "\n",
       "[37348 rows x 3 columns]"
      ]
     },
     "metadata": {},
     "output_type": "display_data"
    },
    {
     "data": {
      "text/html": [
       "<div>\n",
       "<style scoped>\n",
       "    .dataframe tbody tr th:only-of-type {\n",
       "        vertical-align: middle;\n",
       "    }\n",
       "\n",
       "    .dataframe tbody tr th {\n",
       "        vertical-align: top;\n",
       "    }\n",
       "\n",
       "    .dataframe thead th {\n",
       "        text-align: right;\n",
       "    }\n",
       "</style>\n",
       "<table border=\"1\" class=\"dataframe\">\n",
       "  <thead>\n",
       "    <tr style=\"text-align: right;\">\n",
       "      <th></th>\n",
       "      <th>waferMap</th>\n",
       "      <th>failureType</th>\n",
       "      <th>failureCode</th>\n",
       "    </tr>\n",
       "  </thead>\n",
       "  <tbody>\n",
       "    <tr>\n",
       "      <th>23933</th>\n",
       "      <td>[[0, 0, 0, 0, 0, 0, 0, 0, 0, 0, 0, 0, 0, 255, ...</td>\n",
       "      <td>Edge-Ring</td>\n",
       "      <td>3</td>\n",
       "    </tr>\n",
       "    <tr>\n",
       "      <th>27571</th>\n",
       "      <td>[[0, 0, 0, 0, 0, 0, 0, 0, 0, 0, 0, 0, 128, 128...</td>\n",
       "      <td>Edge-Loc</td>\n",
       "      <td>2</td>\n",
       "    </tr>\n",
       "    <tr>\n",
       "      <th>54216</th>\n",
       "      <td>[[0, 0, 0, 0, 0, 0, 0, 0, 0, 0, 255, 255, 255,...</td>\n",
       "      <td>none</td>\n",
       "      <td>8</td>\n",
       "    </tr>\n",
       "    <tr>\n",
       "      <th>6419</th>\n",
       "      <td>[[0, 0, 0, 0, 0, 0, 0, 0, 0, 0, 0, 0, 0, 0, 0,...</td>\n",
       "      <td>none</td>\n",
       "      <td>8</td>\n",
       "    </tr>\n",
       "    <tr>\n",
       "      <th>6697</th>\n",
       "      <td>[[0, 0, 0, 0, 0, 0, 0, 0, 0, 0, 0, 0, 0, 0, 0,...</td>\n",
       "      <td>none</td>\n",
       "      <td>8</td>\n",
       "    </tr>\n",
       "    <tr>\n",
       "      <th>...</th>\n",
       "      <td>...</td>\n",
       "      <td>...</td>\n",
       "      <td>...</td>\n",
       "    </tr>\n",
       "    <tr>\n",
       "      <th>57145</th>\n",
       "      <td>[[0, 0, 0, 0, 0, 0, 0, 0, 0, 0, 0, 0, 0, 0, 0,...</td>\n",
       "      <td>Loc</td>\n",
       "      <td>4</td>\n",
       "    </tr>\n",
       "    <tr>\n",
       "      <th>56854</th>\n",
       "      <td>[[0, 0, 0, 0, 0, 0, 0, 0, 0, 0, 0, 0, 0, 0, 0,...</td>\n",
       "      <td>none</td>\n",
       "      <td>8</td>\n",
       "    </tr>\n",
       "    <tr>\n",
       "      <th>19726</th>\n",
       "      <td>[[0, 0, 0, 0, 0, 0, 0, 0, 0, 0, 0, 0, 0, 0, 0,...</td>\n",
       "      <td>Edge-Ring</td>\n",
       "      <td>3</td>\n",
       "    </tr>\n",
       "    <tr>\n",
       "      <th>45974</th>\n",
       "      <td>[[0, 0, 0, 0, 0, 0, 0, 0, 0, 0, 255, 255, 255,...</td>\n",
       "      <td>none</td>\n",
       "      <td>8</td>\n",
       "    </tr>\n",
       "    <tr>\n",
       "      <th>9442</th>\n",
       "      <td>[[0, 0, 0, 0, 0, 0, 0, 0, 0, 0, 0, 0, 128, 128...</td>\n",
       "      <td>Loc</td>\n",
       "      <td>4</td>\n",
       "    </tr>\n",
       "  </tbody>\n",
       "</table>\n",
       "<p>12450 rows × 3 columns</p>\n",
       "</div>"
      ],
      "text/plain": [
       "                                                waferMap failureType  \\\n",
       "23933  [[0, 0, 0, 0, 0, 0, 0, 0, 0, 0, 0, 0, 0, 255, ...   Edge-Ring   \n",
       "27571  [[0, 0, 0, 0, 0, 0, 0, 0, 0, 0, 0, 0, 128, 128...    Edge-Loc   \n",
       "54216  [[0, 0, 0, 0, 0, 0, 0, 0, 0, 0, 255, 255, 255,...        none   \n",
       "6419   [[0, 0, 0, 0, 0, 0, 0, 0, 0, 0, 0, 0, 0, 0, 0,...        none   \n",
       "6697   [[0, 0, 0, 0, 0, 0, 0, 0, 0, 0, 0, 0, 0, 0, 0,...        none   \n",
       "...                                                  ...         ...   \n",
       "57145  [[0, 0, 0, 0, 0, 0, 0, 0, 0, 0, 0, 0, 0, 0, 0,...         Loc   \n",
       "56854  [[0, 0, 0, 0, 0, 0, 0, 0, 0, 0, 0, 0, 0, 0, 0,...        none   \n",
       "19726  [[0, 0, 0, 0, 0, 0, 0, 0, 0, 0, 0, 0, 0, 0, 0,...   Edge-Ring   \n",
       "45974  [[0, 0, 0, 0, 0, 0, 0, 0, 0, 0, 255, 255, 255,...        none   \n",
       "9442   [[0, 0, 0, 0, 0, 0, 0, 0, 0, 0, 0, 0, 128, 128...         Loc   \n",
       "\n",
       "       failureCode  \n",
       "23933            3  \n",
       "27571            2  \n",
       "54216            8  \n",
       "6419             8  \n",
       "6697             8  \n",
       "...            ...  \n",
       "57145            4  \n",
       "56854            8  \n",
       "19726            3  \n",
       "45974            8  \n",
       "9442             4  \n",
       "\n",
       "[12450 rows x 3 columns]"
      ]
     },
     "metadata": {},
     "output_type": "display_data"
    }
   ],
   "source": [
    "# Make val_data 20% of the full dataset like test_data by doing 0.25 * 80%\n",
    "train_split, val_data = train_test_split(\n",
    "    train_data, test_size=0.25, stratify=train_data.failureType, random_state=0\n",
    ")\n",
    "# train_split is now 0.75 * 80 = 60% of original dataset (60% of all labels)\n",
    "display(train_split)\n",
    "display(val_data)"
   ]
  },
  {
   "attachments": {},
   "cell_type": "markdown",
   "metadata": {},
   "source": [
    "Now we use the `train_split` to create further splits for finetuning. Below this, we've included an icicle plot that visualizes the splits and their parent splits from the data to make things a bit more intuitive."
   ]
  },
  {
   "cell_type": "code",
   "execution_count": 12,
   "metadata": {},
   "outputs": [
    {
     "name": "stdout",
     "output_type": "stream",
     "text": [
      "0.01 split 0.01001\n",
      "0.10 split 0.10000\n",
      "0.20 split 0.19999\n",
      "0.29 split 0.28999\n",
      "0.49 split 0.48998\n",
      "0.59 split 0.58998\n",
      "full train data 0.79999\n",
      "val data 0.20001\n",
      "test data 0.20001\n"
     ]
    }
   ],
   "source": [
    "# Grab a 1% split from the 60% remaining data\n",
    "train_59_split, train_1_split = train_test_split(\n",
    "    train_split, test_size=1 / 60, stratify=train_split.failureType, random_state=0\n",
    ")\n",
    "# Grab a 10% split from the 59% remaining data\n",
    "train_49_split, train_10_split = train_test_split(\n",
    "    train_59_split,\n",
    "    test_size=10 / 59,\n",
    "    stratify=train_59_split.failureType,\n",
    "    random_state=0,\n",
    ")\n",
    "# Grab a 20% split from the 49% remaining data\n",
    "train_29_split, train_20_split = train_test_split(\n",
    "    train_49_split,\n",
    "    test_size=20 / 49,\n",
    "    stratify=train_49_split.failureType,\n",
    "    random_state=0,\n",
    ")\n",
    "# Sanity checks for fraction of data in each split\n",
    "print(f\"0.01 split {len(train_1_split) / (len(data)):.5f}\")\n",
    "print(f\"0.10 split {len(train_10_split) / (len(data)):.5f}\")\n",
    "print(f\"0.20 split {len(train_20_split) / (len(data)):.5f}\")\n",
    "print(f\"0.29 split {len(train_29_split) / (len(data)):.5f}\")\n",
    "print(f\"0.49 split {len(train_49_split) / (len(data)):.5f}\")\n",
    "print(f\"0.59 split {len(train_59_split) / (len(data)):.5f}\")\n",
    "print(f\"full train data {len(train_data) / (len(data)):.5f}\")\n",
    "print(f\"val data {len(val_data) / (len(data)):.5f}\")\n",
    "print(f\"test data {len(test_data) / (len(data)):.5f}\")"
   ]
  },
  {
   "attachments": {},
   "cell_type": "markdown",
   "metadata": {},
   "source": [
    "The icicle plot below shows the splits we've created. For this project, we'll be dealing with the 20\\% split `train_20_split` which corresponds to about 12,000 examples."
   ]
  },
  {
   "cell_type": "code",
   "execution_count": 13,
   "metadata": {},
   "outputs": [
    {
     "data": {
      "application/vnd.plotly.v1+json": {
       "config": {
        "plotlyServerURL": "https://plot.ly"
       },
       "data": [
        {
         "branchvalues": "total",
         "labels": [
          "Full Data (100)",
          "Full Train Data (80)",
          "Test Data (20)",
          "Val Data (20)",
          "Rest of Train Split (60)",
          "1% Train Finetune",
          "Remaining (59)",
          "10% Train Finetune",
          "Remaining (49)",
          "20% Train Finetune",
          "29% Train Finetune"
         ],
         "parents": [
          "",
          "Full Data (100)",
          "Full Data (100)",
          "Full Train Data (80)",
          "Full Train Data (80)",
          "Rest of Train Split (60)",
          "Rest of Train Split (60)",
          "Remaining (59)",
          "Remaining (59)",
          "Remaining (49)",
          "Remaining (49)"
         ],
         "root": {
          "color": "lightgrey"
         },
         "type": "icicle",
         "values": [
          62248,
          49798,
          12450,
          12450,
          37348,
          623,
          36725,
          6225,
          30500,
          12449,
          18051
         ]
        }
       ],
       "layout": {
        "margin": {
         "b": 25,
         "l": 25,
         "r": 25,
         "t": 50
        },
        "template": {
         "data": {
          "bar": [
           {
            "error_x": {
             "color": "#2a3f5f"
            },
            "error_y": {
             "color": "#2a3f5f"
            },
            "marker": {
             "line": {
              "color": "#E5ECF6",
              "width": 0.5
             },
             "pattern": {
              "fillmode": "overlay",
              "size": 10,
              "solidity": 0.2
             }
            },
            "type": "bar"
           }
          ],
          "barpolar": [
           {
            "marker": {
             "line": {
              "color": "#E5ECF6",
              "width": 0.5
             },
             "pattern": {
              "fillmode": "overlay",
              "size": 10,
              "solidity": 0.2
             }
            },
            "type": "barpolar"
           }
          ],
          "carpet": [
           {
            "aaxis": {
             "endlinecolor": "#2a3f5f",
             "gridcolor": "white",
             "linecolor": "white",
             "minorgridcolor": "white",
             "startlinecolor": "#2a3f5f"
            },
            "baxis": {
             "endlinecolor": "#2a3f5f",
             "gridcolor": "white",
             "linecolor": "white",
             "minorgridcolor": "white",
             "startlinecolor": "#2a3f5f"
            },
            "type": "carpet"
           }
          ],
          "choropleth": [
           {
            "colorbar": {
             "outlinewidth": 0,
             "ticks": ""
            },
            "type": "choropleth"
           }
          ],
          "contour": [
           {
            "colorbar": {
             "outlinewidth": 0,
             "ticks": ""
            },
            "colorscale": [
             [
              0,
              "#0d0887"
             ],
             [
              0.1111111111111111,
              "#46039f"
             ],
             [
              0.2222222222222222,
              "#7201a8"
             ],
             [
              0.3333333333333333,
              "#9c179e"
             ],
             [
              0.4444444444444444,
              "#bd3786"
             ],
             [
              0.5555555555555556,
              "#d8576b"
             ],
             [
              0.6666666666666666,
              "#ed7953"
             ],
             [
              0.7777777777777778,
              "#fb9f3a"
             ],
             [
              0.8888888888888888,
              "#fdca26"
             ],
             [
              1,
              "#f0f921"
             ]
            ],
            "type": "contour"
           }
          ],
          "contourcarpet": [
           {
            "colorbar": {
             "outlinewidth": 0,
             "ticks": ""
            },
            "type": "contourcarpet"
           }
          ],
          "heatmap": [
           {
            "colorbar": {
             "outlinewidth": 0,
             "ticks": ""
            },
            "colorscale": [
             [
              0,
              "#0d0887"
             ],
             [
              0.1111111111111111,
              "#46039f"
             ],
             [
              0.2222222222222222,
              "#7201a8"
             ],
             [
              0.3333333333333333,
              "#9c179e"
             ],
             [
              0.4444444444444444,
              "#bd3786"
             ],
             [
              0.5555555555555556,
              "#d8576b"
             ],
             [
              0.6666666666666666,
              "#ed7953"
             ],
             [
              0.7777777777777778,
              "#fb9f3a"
             ],
             [
              0.8888888888888888,
              "#fdca26"
             ],
             [
              1,
              "#f0f921"
             ]
            ],
            "type": "heatmap"
           }
          ],
          "heatmapgl": [
           {
            "colorbar": {
             "outlinewidth": 0,
             "ticks": ""
            },
            "colorscale": [
             [
              0,
              "#0d0887"
             ],
             [
              0.1111111111111111,
              "#46039f"
             ],
             [
              0.2222222222222222,
              "#7201a8"
             ],
             [
              0.3333333333333333,
              "#9c179e"
             ],
             [
              0.4444444444444444,
              "#bd3786"
             ],
             [
              0.5555555555555556,
              "#d8576b"
             ],
             [
              0.6666666666666666,
              "#ed7953"
             ],
             [
              0.7777777777777778,
              "#fb9f3a"
             ],
             [
              0.8888888888888888,
              "#fdca26"
             ],
             [
              1,
              "#f0f921"
             ]
            ],
            "type": "heatmapgl"
           }
          ],
          "histogram": [
           {
            "marker": {
             "pattern": {
              "fillmode": "overlay",
              "size": 10,
              "solidity": 0.2
             }
            },
            "type": "histogram"
           }
          ],
          "histogram2d": [
           {
            "colorbar": {
             "outlinewidth": 0,
             "ticks": ""
            },
            "colorscale": [
             [
              0,
              "#0d0887"
             ],
             [
              0.1111111111111111,
              "#46039f"
             ],
             [
              0.2222222222222222,
              "#7201a8"
             ],
             [
              0.3333333333333333,
              "#9c179e"
             ],
             [
              0.4444444444444444,
              "#bd3786"
             ],
             [
              0.5555555555555556,
              "#d8576b"
             ],
             [
              0.6666666666666666,
              "#ed7953"
             ],
             [
              0.7777777777777778,
              "#fb9f3a"
             ],
             [
              0.8888888888888888,
              "#fdca26"
             ],
             [
              1,
              "#f0f921"
             ]
            ],
            "type": "histogram2d"
           }
          ],
          "histogram2dcontour": [
           {
            "colorbar": {
             "outlinewidth": 0,
             "ticks": ""
            },
            "colorscale": [
             [
              0,
              "#0d0887"
             ],
             [
              0.1111111111111111,
              "#46039f"
             ],
             [
              0.2222222222222222,
              "#7201a8"
             ],
             [
              0.3333333333333333,
              "#9c179e"
             ],
             [
              0.4444444444444444,
              "#bd3786"
             ],
             [
              0.5555555555555556,
              "#d8576b"
             ],
             [
              0.6666666666666666,
              "#ed7953"
             ],
             [
              0.7777777777777778,
              "#fb9f3a"
             ],
             [
              0.8888888888888888,
              "#fdca26"
             ],
             [
              1,
              "#f0f921"
             ]
            ],
            "type": "histogram2dcontour"
           }
          ],
          "mesh3d": [
           {
            "colorbar": {
             "outlinewidth": 0,
             "ticks": ""
            },
            "type": "mesh3d"
           }
          ],
          "parcoords": [
           {
            "line": {
             "colorbar": {
              "outlinewidth": 0,
              "ticks": ""
             }
            },
            "type": "parcoords"
           }
          ],
          "pie": [
           {
            "automargin": true,
            "type": "pie"
           }
          ],
          "scatter": [
           {
            "fillpattern": {
             "fillmode": "overlay",
             "size": 10,
             "solidity": 0.2
            },
            "type": "scatter"
           }
          ],
          "scatter3d": [
           {
            "line": {
             "colorbar": {
              "outlinewidth": 0,
              "ticks": ""
             }
            },
            "marker": {
             "colorbar": {
              "outlinewidth": 0,
              "ticks": ""
             }
            },
            "type": "scatter3d"
           }
          ],
          "scattercarpet": [
           {
            "marker": {
             "colorbar": {
              "outlinewidth": 0,
              "ticks": ""
             }
            },
            "type": "scattercarpet"
           }
          ],
          "scattergeo": [
           {
            "marker": {
             "colorbar": {
              "outlinewidth": 0,
              "ticks": ""
             }
            },
            "type": "scattergeo"
           }
          ],
          "scattergl": [
           {
            "marker": {
             "colorbar": {
              "outlinewidth": 0,
              "ticks": ""
             }
            },
            "type": "scattergl"
           }
          ],
          "scattermapbox": [
           {
            "marker": {
             "colorbar": {
              "outlinewidth": 0,
              "ticks": ""
             }
            },
            "type": "scattermapbox"
           }
          ],
          "scatterpolar": [
           {
            "marker": {
             "colorbar": {
              "outlinewidth": 0,
              "ticks": ""
             }
            },
            "type": "scatterpolar"
           }
          ],
          "scatterpolargl": [
           {
            "marker": {
             "colorbar": {
              "outlinewidth": 0,
              "ticks": ""
             }
            },
            "type": "scatterpolargl"
           }
          ],
          "scatterternary": [
           {
            "marker": {
             "colorbar": {
              "outlinewidth": 0,
              "ticks": ""
             }
            },
            "type": "scatterternary"
           }
          ],
          "surface": [
           {
            "colorbar": {
             "outlinewidth": 0,
             "ticks": ""
            },
            "colorscale": [
             [
              0,
              "#0d0887"
             ],
             [
              0.1111111111111111,
              "#46039f"
             ],
             [
              0.2222222222222222,
              "#7201a8"
             ],
             [
              0.3333333333333333,
              "#9c179e"
             ],
             [
              0.4444444444444444,
              "#bd3786"
             ],
             [
              0.5555555555555556,
              "#d8576b"
             ],
             [
              0.6666666666666666,
              "#ed7953"
             ],
             [
              0.7777777777777778,
              "#fb9f3a"
             ],
             [
              0.8888888888888888,
              "#fdca26"
             ],
             [
              1,
              "#f0f921"
             ]
            ],
            "type": "surface"
           }
          ],
          "table": [
           {
            "cells": {
             "fill": {
              "color": "#EBF0F8"
             },
             "line": {
              "color": "white"
             }
            },
            "header": {
             "fill": {
              "color": "#C8D4E3"
             },
             "line": {
              "color": "white"
             }
            },
            "type": "table"
           }
          ]
         },
         "layout": {
          "annotationdefaults": {
           "arrowcolor": "#2a3f5f",
           "arrowhead": 0,
           "arrowwidth": 1
          },
          "autotypenumbers": "strict",
          "coloraxis": {
           "colorbar": {
            "outlinewidth": 0,
            "ticks": ""
           }
          },
          "colorscale": {
           "diverging": [
            [
             0,
             "#8e0152"
            ],
            [
             0.1,
             "#c51b7d"
            ],
            [
             0.2,
             "#de77ae"
            ],
            [
             0.3,
             "#f1b6da"
            ],
            [
             0.4,
             "#fde0ef"
            ],
            [
             0.5,
             "#f7f7f7"
            ],
            [
             0.6,
             "#e6f5d0"
            ],
            [
             0.7,
             "#b8e186"
            ],
            [
             0.8,
             "#7fbc41"
            ],
            [
             0.9,
             "#4d9221"
            ],
            [
             1,
             "#276419"
            ]
           ],
           "sequential": [
            [
             0,
             "#0d0887"
            ],
            [
             0.1111111111111111,
             "#46039f"
            ],
            [
             0.2222222222222222,
             "#7201a8"
            ],
            [
             0.3333333333333333,
             "#9c179e"
            ],
            [
             0.4444444444444444,
             "#bd3786"
            ],
            [
             0.5555555555555556,
             "#d8576b"
            ],
            [
             0.6666666666666666,
             "#ed7953"
            ],
            [
             0.7777777777777778,
             "#fb9f3a"
            ],
            [
             0.8888888888888888,
             "#fdca26"
            ],
            [
             1,
             "#f0f921"
            ]
           ],
           "sequentialminus": [
            [
             0,
             "#0d0887"
            ],
            [
             0.1111111111111111,
             "#46039f"
            ],
            [
             0.2222222222222222,
             "#7201a8"
            ],
            [
             0.3333333333333333,
             "#9c179e"
            ],
            [
             0.4444444444444444,
             "#bd3786"
            ],
            [
             0.5555555555555556,
             "#d8576b"
            ],
            [
             0.6666666666666666,
             "#ed7953"
            ],
            [
             0.7777777777777778,
             "#fb9f3a"
            ],
            [
             0.8888888888888888,
             "#fdca26"
            ],
            [
             1,
             "#f0f921"
            ]
           ]
          },
          "colorway": [
           "#636efa",
           "#EF553B",
           "#00cc96",
           "#ab63fa",
           "#FFA15A",
           "#19d3f3",
           "#FF6692",
           "#B6E880",
           "#FF97FF",
           "#FECB52"
          ],
          "font": {
           "color": "#2a3f5f"
          },
          "geo": {
           "bgcolor": "white",
           "lakecolor": "white",
           "landcolor": "#E5ECF6",
           "showlakes": true,
           "showland": true,
           "subunitcolor": "white"
          },
          "hoverlabel": {
           "align": "left"
          },
          "hovermode": "closest",
          "mapbox": {
           "style": "light"
          },
          "paper_bgcolor": "white",
          "plot_bgcolor": "#E5ECF6",
          "polar": {
           "angularaxis": {
            "gridcolor": "white",
            "linecolor": "white",
            "ticks": ""
           },
           "bgcolor": "#E5ECF6",
           "radialaxis": {
            "gridcolor": "white",
            "linecolor": "white",
            "ticks": ""
           }
          },
          "scene": {
           "xaxis": {
            "backgroundcolor": "#E5ECF6",
            "gridcolor": "white",
            "gridwidth": 2,
            "linecolor": "white",
            "showbackground": true,
            "ticks": "",
            "zerolinecolor": "white"
           },
           "yaxis": {
            "backgroundcolor": "#E5ECF6",
            "gridcolor": "white",
            "gridwidth": 2,
            "linecolor": "white",
            "showbackground": true,
            "ticks": "",
            "zerolinecolor": "white"
           },
           "zaxis": {
            "backgroundcolor": "#E5ECF6",
            "gridcolor": "white",
            "gridwidth": 2,
            "linecolor": "white",
            "showbackground": true,
            "ticks": "",
            "zerolinecolor": "white"
           }
          },
          "shapedefaults": {
           "line": {
            "color": "#2a3f5f"
           }
          },
          "ternary": {
           "aaxis": {
            "gridcolor": "white",
            "linecolor": "white",
            "ticks": ""
           },
           "baxis": {
            "gridcolor": "white",
            "linecolor": "white",
            "ticks": ""
           },
           "bgcolor": "#E5ECF6",
           "caxis": {
            "gridcolor": "white",
            "linecolor": "white",
            "ticks": ""
           }
          },
          "title": {
           "x": 0.05
          },
          "xaxis": {
           "automargin": true,
           "gridcolor": "white",
           "linecolor": "white",
           "ticks": "",
           "title": {
            "standoff": 15
           },
           "zerolinecolor": "white",
           "zerolinewidth": 2
          },
          "yaxis": {
           "automargin": true,
           "gridcolor": "white",
           "linecolor": "white",
           "ticks": "",
           "title": {
            "standoff": 15
           },
           "zerolinecolor": "white",
           "zerolinewidth": 2
          }
         }
        }
       }
      }
     },
     "metadata": {},
     "output_type": "display_data"
    }
   ],
   "source": [
    "import plotly.graph_objects as go\n",
    "\n",
    "# Make an icicle plot for our paper showing breakdown of data\n",
    "fig = go.Figure(\n",
    "    go.Icicle(\n",
    "        labels=[\n",
    "            \"Full Data (100)\",\n",
    "            \"Full Train Data (80)\",\n",
    "            \"Test Data (20)\",\n",
    "            \"Val Data (20)\",\n",
    "            \"Rest of Train Split (60)\",\n",
    "            \"1% Train Finetune\",\n",
    "            \"Remaining (59)\",\n",
    "            \"10% Train Finetune\",\n",
    "            \"Remaining (49)\",\n",
    "            \"20% Train Finetune\",\n",
    "            \"29% Train Finetune\",\n",
    "        ],\n",
    "        parents=[\n",
    "            \"\",\n",
    "            \"Full Data (100)\",\n",
    "            \"Full Data (100)\",\n",
    "            \"Full Train Data (80)\",\n",
    "            \"Full Train Data (80)\",\n",
    "            \"Rest of Train Split (60)\",\n",
    "            \"Rest of Train Split (60)\",\n",
    "            \"Remaining (59)\",\n",
    "            \"Remaining (59)\",\n",
    "            \"Remaining (49)\",\n",
    "            \"Remaining (49)\",\n",
    "        ],\n",
    "        values = [\n",
    "            len(data),\n",
    "            len(train_data),\n",
    "            len(test_data),\n",
    "            len(val_data),\n",
    "            len(train_split),\n",
    "            len(train_1_split),\n",
    "            len(train_59_split),\n",
    "            len(train_10_split),\n",
    "            len(train_49_split),\n",
    "            len(train_20_split),\n",
    "            len(train_29_split)\n",
    "        ],\n",
    "        branchvalues=\"total\",\n",
    "        root_color=\"lightgrey\"\n",
    "    )\n",
    ")\n",
    "\n",
    "fig.update_layout(margin = dict(t=50, l=25, r=25, b=25))\n",
    "fig.show()"
   ]
  },
  {
   "attachments": {},
   "cell_type": "markdown",
   "metadata": {},
   "source": [
    "Note that because we've done stratified splits, the breakdowns of failure categories in each split is ***the same***! As a sanity check, we show that the distributions of categories are exactly the same across all our new splits `train_1_split`, `train_10_split`, `train_20_split`, `train_29_split`, and `val_data`"
   ]
  },
  {
   "cell_type": "code",
   "execution_count": 14,
   "metadata": {},
   "outputs": [
    {
     "name": "stdout",
     "output_type": "stream",
     "text": [
      "623\n"
     ]
    },
    {
     "data": {
      "text/html": [
       "<div>\n",
       "<style scoped>\n",
       "    .dataframe tbody tr th:only-of-type {\n",
       "        vertical-align: middle;\n",
       "    }\n",
       "\n",
       "    .dataframe tbody tr th {\n",
       "        vertical-align: top;\n",
       "    }\n",
       "\n",
       "    .dataframe thead th {\n",
       "        text-align: right;\n",
       "    }\n",
       "</style>\n",
       "<table border=\"1\" class=\"dataframe\">\n",
       "  <thead>\n",
       "    <tr style=\"text-align: right;\">\n",
       "      <th></th>\n",
       "      <th>count</th>\n",
       "      <th>fraction</th>\n",
       "    </tr>\n",
       "  </thead>\n",
       "  <tbody>\n",
       "    <tr>\n",
       "      <th>none</th>\n",
       "      <td>368</td>\n",
       "      <td>0.590690</td>\n",
       "    </tr>\n",
       "    <tr>\n",
       "      <th>Edge-Ring</th>\n",
       "      <td>97</td>\n",
       "      <td>0.155698</td>\n",
       "    </tr>\n",
       "    <tr>\n",
       "      <th>Edge-Loc</th>\n",
       "      <td>52</td>\n",
       "      <td>0.083467</td>\n",
       "    </tr>\n",
       "    <tr>\n",
       "      <th>Center</th>\n",
       "      <td>43</td>\n",
       "      <td>0.069021</td>\n",
       "    </tr>\n",
       "    <tr>\n",
       "      <th>Loc</th>\n",
       "      <td>36</td>\n",
       "      <td>0.057785</td>\n",
       "    </tr>\n",
       "    <tr>\n",
       "      <th>Scratch</th>\n",
       "      <td>12</td>\n",
       "      <td>0.019262</td>\n",
       "    </tr>\n",
       "    <tr>\n",
       "      <th>Random</th>\n",
       "      <td>9</td>\n",
       "      <td>0.014446</td>\n",
       "    </tr>\n",
       "    <tr>\n",
       "      <th>Donut</th>\n",
       "      <td>5</td>\n",
       "      <td>0.008026</td>\n",
       "    </tr>\n",
       "    <tr>\n",
       "      <th>Near-full</th>\n",
       "      <td>1</td>\n",
       "      <td>0.001605</td>\n",
       "    </tr>\n",
       "  </tbody>\n",
       "</table>\n",
       "</div>"
      ],
      "text/plain": [
       "           count  fraction\n",
       "none         368  0.590690\n",
       "Edge-Ring     97  0.155698\n",
       "Edge-Loc      52  0.083467\n",
       "Center        43  0.069021\n",
       "Loc           36  0.057785\n",
       "Scratch       12  0.019262\n",
       "Random         9  0.014446\n",
       "Donut          5  0.008026\n",
       "Near-full      1  0.001605"
      ]
     },
     "metadata": {},
     "output_type": "display_data"
    },
    {
     "data": {
      "image/png": "[encoded data removed]",
      "text/plain": [
       "<Figure size 640x480 with 1 Axes>"
      ]
     },
     "metadata": {},
     "output_type": "display_data"
    },
    {
     "name": "stdout",
     "output_type": "stream",
     "text": [
      "6225\n"
     ]
    },
    {
     "data": {
      "text/html": [
       "<div>\n",
       "<style scoped>\n",
       "    .dataframe tbody tr th:only-of-type {\n",
       "        vertical-align: middle;\n",
       "    }\n",
       "\n",
       "    .dataframe tbody tr th {\n",
       "        vertical-align: top;\n",
       "    }\n",
       "\n",
       "    .dataframe thead th {\n",
       "        text-align: right;\n",
       "    }\n",
       "</style>\n",
       "<table border=\"1\" class=\"dataframe\">\n",
       "  <thead>\n",
       "    <tr style=\"text-align: right;\">\n",
       "      <th></th>\n",
       "      <th>count</th>\n",
       "      <th>fraction</th>\n",
       "    </tr>\n",
       "  </thead>\n",
       "  <tbody>\n",
       "    <tr>\n",
       "      <th>none</th>\n",
       "      <td>3673</td>\n",
       "      <td>0.590040</td>\n",
       "    </tr>\n",
       "    <tr>\n",
       "      <th>Edge-Ring</th>\n",
       "      <td>968</td>\n",
       "      <td>0.155502</td>\n",
       "    </tr>\n",
       "    <tr>\n",
       "      <th>Edge-Loc</th>\n",
       "      <td>519</td>\n",
       "      <td>0.083373</td>\n",
       "    </tr>\n",
       "    <tr>\n",
       "      <th>Center</th>\n",
       "      <td>429</td>\n",
       "      <td>0.068916</td>\n",
       "    </tr>\n",
       "    <tr>\n",
       "      <th>Loc</th>\n",
       "      <td>359</td>\n",
       "      <td>0.057671</td>\n",
       "    </tr>\n",
       "    <tr>\n",
       "      <th>Scratch</th>\n",
       "      <td>119</td>\n",
       "      <td>0.019116</td>\n",
       "    </tr>\n",
       "    <tr>\n",
       "      <th>Random</th>\n",
       "      <td>87</td>\n",
       "      <td>0.013976</td>\n",
       "    </tr>\n",
       "    <tr>\n",
       "      <th>Donut</th>\n",
       "      <td>56</td>\n",
       "      <td>0.008996</td>\n",
       "    </tr>\n",
       "    <tr>\n",
       "      <th>Near-full</th>\n",
       "      <td>15</td>\n",
       "      <td>0.002410</td>\n",
       "    </tr>\n",
       "  </tbody>\n",
       "</table>\n",
       "</div>"
      ],
      "text/plain": [
       "           count  fraction\n",
       "none        3673  0.590040\n",
       "Edge-Ring    968  0.155502\n",
       "Edge-Loc     519  0.083373\n",
       "Center       429  0.068916\n",
       "Loc          359  0.057671\n",
       "Scratch      119  0.019116\n",
       "Random        87  0.013976\n",
       "Donut         56  0.008996\n",
       "Near-full     15  0.002410"
      ]
     },
     "metadata": {},
     "output_type": "display_data"
    },
    {
     "data": {
      "image/png": "[encoded data removed]",
      "text/plain": [
       "<Figure size 640x480 with 1 Axes>"
      ]
     },
     "metadata": {},
     "output_type": "display_data"
    },
    {
     "name": "stdout",
     "output_type": "stream",
     "text": [
      "12449\n"
     ]
    },
    {
     "data": {
      "text/html": [
       "<div>\n",
       "<style scoped>\n",
       "    .dataframe tbody tr th:only-of-type {\n",
       "        vertical-align: middle;\n",
       "    }\n",
       "\n",
       "    .dataframe tbody tr th {\n",
       "        vertical-align: top;\n",
       "    }\n",
       "\n",
       "    .dataframe thead th {\n",
       "        text-align: right;\n",
       "    }\n",
       "</style>\n",
       "<table border=\"1\" class=\"dataframe\">\n",
       "  <thead>\n",
       "    <tr style=\"text-align: right;\">\n",
       "      <th></th>\n",
       "      <th>count</th>\n",
       "      <th>fraction</th>\n",
       "    </tr>\n",
       "  </thead>\n",
       "  <tbody>\n",
       "    <tr>\n",
       "      <th>none</th>\n",
       "      <td>7345</td>\n",
       "      <td>0.590007</td>\n",
       "    </tr>\n",
       "    <tr>\n",
       "      <th>Edge-Ring</th>\n",
       "      <td>1936</td>\n",
       "      <td>0.155514</td>\n",
       "    </tr>\n",
       "    <tr>\n",
       "      <th>Edge-Loc</th>\n",
       "      <td>1037</td>\n",
       "      <td>0.083300</td>\n",
       "    </tr>\n",
       "    <tr>\n",
       "      <th>Center</th>\n",
       "      <td>859</td>\n",
       "      <td>0.069002</td>\n",
       "    </tr>\n",
       "    <tr>\n",
       "      <th>Loc</th>\n",
       "      <td>719</td>\n",
       "      <td>0.057756</td>\n",
       "    </tr>\n",
       "    <tr>\n",
       "      <th>Scratch</th>\n",
       "      <td>239</td>\n",
       "      <td>0.019198</td>\n",
       "    </tr>\n",
       "    <tr>\n",
       "      <th>Random</th>\n",
       "      <td>173</td>\n",
       "      <td>0.013897</td>\n",
       "    </tr>\n",
       "    <tr>\n",
       "      <th>Donut</th>\n",
       "      <td>111</td>\n",
       "      <td>0.008916</td>\n",
       "    </tr>\n",
       "    <tr>\n",
       "      <th>Near-full</th>\n",
       "      <td>30</td>\n",
       "      <td>0.002410</td>\n",
       "    </tr>\n",
       "  </tbody>\n",
       "</table>\n",
       "</div>"
      ],
      "text/plain": [
       "           count  fraction\n",
       "none        7345  0.590007\n",
       "Edge-Ring   1936  0.155514\n",
       "Edge-Loc    1037  0.083300\n",
       "Center       859  0.069002\n",
       "Loc          719  0.057756\n",
       "Scratch      239  0.019198\n",
       "Random       173  0.013897\n",
       "Donut        111  0.008916\n",
       "Near-full     30  0.002410"
      ]
     },
     "metadata": {},
     "output_type": "display_data"
    },
    {
     "data": {
      "image/png": "[encoded data removed]",
      "text/plain": [
       "<Figure size 640x480 with 1 Axes>"
      ]
     },
     "metadata": {},
     "output_type": "display_data"
    },
    {
     "name": "stdout",
     "output_type": "stream",
     "text": [
      "18051\n"
     ]
    },
    {
     "data": {
      "text/html": [
       "<div>\n",
       "<style scoped>\n",
       "    .dataframe tbody tr th:only-of-type {\n",
       "        vertical-align: middle;\n",
       "    }\n",
       "\n",
       "    .dataframe tbody tr th {\n",
       "        vertical-align: top;\n",
       "    }\n",
       "\n",
       "    .dataframe thead th {\n",
       "        text-align: right;\n",
       "    }\n",
       "</style>\n",
       "<table border=\"1\" class=\"dataframe\">\n",
       "  <thead>\n",
       "    <tr style=\"text-align: right;\">\n",
       "      <th></th>\n",
       "      <th>count</th>\n",
       "      <th>fraction</th>\n",
       "    </tr>\n",
       "  </thead>\n",
       "  <tbody>\n",
       "    <tr>\n",
       "      <th>none</th>\n",
       "      <td>10651</td>\n",
       "      <td>0.590050</td>\n",
       "    </tr>\n",
       "    <tr>\n",
       "      <th>Edge-Ring</th>\n",
       "      <td>2807</td>\n",
       "      <td>0.155504</td>\n",
       "    </tr>\n",
       "    <tr>\n",
       "      <th>Edge-Loc</th>\n",
       "      <td>1505</td>\n",
       "      <td>0.083375</td>\n",
       "    </tr>\n",
       "    <tr>\n",
       "      <th>Center</th>\n",
       "      <td>1245</td>\n",
       "      <td>0.068971</td>\n",
       "    </tr>\n",
       "    <tr>\n",
       "      <th>Loc</th>\n",
       "      <td>1042</td>\n",
       "      <td>0.057725</td>\n",
       "    </tr>\n",
       "    <tr>\n",
       "      <th>Scratch</th>\n",
       "      <td>346</td>\n",
       "      <td>0.019168</td>\n",
       "    </tr>\n",
       "    <tr>\n",
       "      <th>Random</th>\n",
       "      <td>251</td>\n",
       "      <td>0.013905</td>\n",
       "    </tr>\n",
       "    <tr>\n",
       "      <th>Donut</th>\n",
       "      <td>161</td>\n",
       "      <td>0.008919</td>\n",
       "    </tr>\n",
       "    <tr>\n",
       "      <th>Near-full</th>\n",
       "      <td>43</td>\n",
       "      <td>0.002382</td>\n",
       "    </tr>\n",
       "  </tbody>\n",
       "</table>\n",
       "</div>"
      ],
      "text/plain": [
       "           count  fraction\n",
       "none       10651  0.590050\n",
       "Edge-Ring   2807  0.155504\n",
       "Edge-Loc    1505  0.083375\n",
       "Center      1245  0.068971\n",
       "Loc         1042  0.057725\n",
       "Scratch      346  0.019168\n",
       "Random       251  0.013905\n",
       "Donut        161  0.008919\n",
       "Near-full     43  0.002382"
      ]
     },
     "metadata": {},
     "output_type": "display_data"
    },
    {
     "data": {
      "image/png": "[encoded data removed]",
      "text/plain": [
       "<Figure size 640x480 with 1 Axes>"
      ]
     },
     "metadata": {},
     "output_type": "display_data"
    },
    {
     "name": "stdout",
     "output_type": "stream",
     "text": [
      "12450\n"
     ]
    },
    {
     "data": {
      "text/html": [
       "<div>\n",
       "<style scoped>\n",
       "    .dataframe tbody tr th:only-of-type {\n",
       "        vertical-align: middle;\n",
       "    }\n",
       "\n",
       "    .dataframe tbody tr th {\n",
       "        vertical-align: top;\n",
       "    }\n",
       "\n",
       "    .dataframe thead th {\n",
       "        text-align: right;\n",
       "    }\n",
       "</style>\n",
       "<table border=\"1\" class=\"dataframe\">\n",
       "  <thead>\n",
       "    <tr style=\"text-align: right;\">\n",
       "      <th></th>\n",
       "      <th>count</th>\n",
       "      <th>fraction</th>\n",
       "    </tr>\n",
       "  </thead>\n",
       "  <tbody>\n",
       "    <tr>\n",
       "      <th>none</th>\n",
       "      <td>7346</td>\n",
       "      <td>0.590040</td>\n",
       "    </tr>\n",
       "    <tr>\n",
       "      <th>Edge-Ring</th>\n",
       "      <td>1936</td>\n",
       "      <td>0.155502</td>\n",
       "    </tr>\n",
       "    <tr>\n",
       "      <th>Edge-Loc</th>\n",
       "      <td>1038</td>\n",
       "      <td>0.083373</td>\n",
       "    </tr>\n",
       "    <tr>\n",
       "      <th>Center</th>\n",
       "      <td>859</td>\n",
       "      <td>0.068996</td>\n",
       "    </tr>\n",
       "    <tr>\n",
       "      <th>Loc</th>\n",
       "      <td>718</td>\n",
       "      <td>0.057671</td>\n",
       "    </tr>\n",
       "    <tr>\n",
       "      <th>Scratch</th>\n",
       "      <td>239</td>\n",
       "      <td>0.019197</td>\n",
       "    </tr>\n",
       "    <tr>\n",
       "      <th>Random</th>\n",
       "      <td>173</td>\n",
       "      <td>0.013896</td>\n",
       "    </tr>\n",
       "    <tr>\n",
       "      <th>Donut</th>\n",
       "      <td>111</td>\n",
       "      <td>0.008916</td>\n",
       "    </tr>\n",
       "    <tr>\n",
       "      <th>Near-full</th>\n",
       "      <td>30</td>\n",
       "      <td>0.002410</td>\n",
       "    </tr>\n",
       "  </tbody>\n",
       "</table>\n",
       "</div>"
      ],
      "text/plain": [
       "           count  fraction\n",
       "none        7346  0.590040\n",
       "Edge-Ring   1936  0.155502\n",
       "Edge-Loc    1038  0.083373\n",
       "Center       859  0.068996\n",
       "Loc          718  0.057671\n",
       "Scratch      239  0.019197\n",
       "Random       173  0.013896\n",
       "Donut        111  0.008916\n",
       "Near-full     30  0.002410"
      ]
     },
     "metadata": {},
     "output_type": "display_data"
    },
    {
     "data": {
      "image/png": "[encoded data removed]",
      "text/plain": [
       "<Figure size 640x480 with 1 Axes>"
      ]
     },
     "metadata": {},
     "output_type": "display_data"
    }
   ],
   "source": [
    "for series in (train_1_split, train_10_split, train_20_split, train_29_split, val_data):\n",
    "    print(len(series))\n",
    "    show_breakdown(series.failureType)"
   ]
  },
  {
   "cell_type": "code",
   "execution_count": 15,
   "metadata": {},
   "outputs": [],
   "source": [
    "# save all splits from full training data to file\n",
    "save_path = \"../data/cleaned_splits\"\n",
    "os.makedirs(save_path, exist_ok=True)\n",
    "\n",
    "# Save all splits from full training data to file\n",
    "for split in (train_data, test_data, val_data, train_split, train_1_split, train_10_split, train_20_split, train_29_split):\n",
    "    # Get the name of the split (create a string that is the same as the variable name)\n",
    "    split_name = [k for k, v in locals().items() if v is split][0]\n",
    "    # Save as a pickle file\n",
    "    split.to_pickle(f\"{save_path}/{split_name}.pkl\")\n",
    "\n",
    "    # We can also save to parquet format which is more efficient\n",
    "    # For parquet files, the waferMap column needs to be converted to nested lists\n",
    "    split = split.copy()  # Make a copy so we don't change the original\n",
    "    split.waferMap = split.waferMap.apply(lambda x: x.tolist())\n",
    "    split.to_parquet(f\"{save_path}/{split_name}.parquet\")"
   ]
  },
  {
   "cell_type": "code",
   "execution_count": 16,
   "metadata": {},
   "outputs": [
    {
     "name": "stdout",
     "output_type": "stream",
     "text": [
      "train_data pickle:\t 78.88 MB\n",
      "train_data parquet:\t 13.04 MB\n",
      "\n",
      "test_data pickle:\t 19.69 MB\n",
      "test_data parquet:\t 3.27 MB\n",
      "\n",
      "val_data pickle:\t 19.59 MB\n",
      "val_data parquet:\t 3.26 MB\n",
      "\n",
      "train_split pickle:\t 59.29 MB\n",
      "train_split parquet:\t 9.79 MB\n",
      "\n",
      "train_1_split pickle:\t 0.96 MB\n",
      "train_1_split parquet:\t 0.17 MB\n",
      "\n",
      "train_10_split pickle:\t 9.92 MB\n",
      "train_10_split parquet:\t 1.63 MB\n",
      "\n",
      "train_20_split pickle:\t 19.88 MB\n",
      "train_20_split parquet:\t 3.27 MB\n",
      "\n",
      "train_29_split pickle:\t 28.53 MB\n",
      "train_29_split parquet:\t 4.72 MB\n",
      "\n"
     ]
    }
   ],
   "source": [
    "# Compare the size of the pickle and parquet files 😉\n",
    "for split in (train_data, test_data, val_data, train_split, train_1_split, train_10_split, train_20_split, train_29_split):\n",
    "    split_name = [k for k, v in locals().items() if v is split][0]\n",
    "    print(f\"{split_name} pickle:\\t {os.path.getsize(f'{save_path}/{split_name}.pkl') / 1e6:.2f} MB\")\n",
    "    print(f\"{split_name} parquet:\\t {os.path.getsize(f'{save_path}/{split_name}.parquet') / 1e6:.2f} MB\")\n",
    "    print()"
   ]
  },
  {
   "attachments": {},
   "cell_type": "markdown",
   "metadata": {},
   "source": [
    "## Misc: Plotting Wafer Maps\n",
    "\n",
    "Some minor notes about plotting wafer maps here. Remember to resize wafer map arrays to be square, and always use nearest-neighbor interpolation when resizing. The wafer map should never be blurry! If you want your resized output to be an image, use `PIL`. If you want the resized output to still be an array, use `skimage` or `opencv` (I prefer the latter)."
   ]
  },
  {
   "cell_type": "code",
   "execution_count": 17,
   "metadata": {},
   "outputs": [],
   "source": [
    "# Randomly select a single wafer map\n",
    "wafer_map = train_data.waferMap.sample().iloc[0]"
   ]
  },
  {
   "cell_type": "code",
   "execution_count": 18,
   "metadata": {},
   "outputs": [
    {
     "data": {
      "image/png": "[encoded data removed]",
      "text/plain": [
       "<Figure size 640x480 with 1 Axes>"
      ]
     },
     "metadata": {},
     "output_type": "display_data"
    }
   ],
   "source": [
    "sns.set_theme(style=\"white\", palette=None)\n",
    "\n",
    "wafer = train_data.waferMap.sample().iloc[0]\n",
    "\n",
    "# Naive way to plot wafer map without any resizing\n",
    "plt.imshow(wafer)\n",
    "plt.axis(\"off\")\n",
    "plt.show()"
   ]
  },
  {
   "cell_type": "code",
   "execution_count": 19,
   "metadata": {},
   "outputs": [
    {
     "data": {
      "image/png": "[encoded data removed]",
      "text/plain": [
       "<Figure size 640x480 with 1 Axes>"
      ]
     },
     "metadata": {},
     "output_type": "display_data"
    }
   ],
   "source": [
    "# Resize with output as image\n",
    "img = Image.fromarray(wafer)\n",
    "img = img.resize((100, 100), Image.NEAREST)\n",
    "plt.imshow(img)\n",
    "plt.axis(\"off\")\n",
    "plt.show()"
   ]
  },
  {
   "cell_type": "code",
   "execution_count": 20,
   "metadata": {},
   "outputs": [
    {
     "data": {
      "image/png": "[encoded data removed]",
      "text/plain": [
       "<Figure size 640x480 with 1 Axes>"
      ]
     },
     "metadata": {},
     "output_type": "display_data"
    },
    {
     "data": {
      "image/png": "[encoded data removed]",
      "text/plain": [
       "<Figure size 640x480 with 1 Axes>"
      ]
     },
     "metadata": {},
     "output_type": "display_data"
    }
   ],
   "source": [
    "# Resize with output as array\n",
    "\n",
    "# With PIL, you'd have to go from array -> image -> array\n",
    "img = Image.fromarray(wafer)\n",
    "img = img.resize((100, 100), Image.NEAREST)\n",
    "img = np.array(img)\n",
    "plt.imshow(img)\n",
    "plt.axis(\"off\")\n",
    "plt.show()\n",
    "\n",
    "# Or, use OpenCV which can resize an array directly\n",
    "img = cv2.resize(wafer, (100, 100), interpolation=cv2.INTER_NEAREST_EXACT)\n",
    "plt.imshow(img)\n",
    "plt.axis(\"off\")\n",
    "plt.show()"
   ]
  },
  {
   "attachments": {},
   "cell_type": "markdown",
   "metadata": {},
   "source": [
    "You can also plot 3-channel images, but you can't directly plot 3-channel `torch` tensors because tensors have their channels as the first dimension; [matplotlib expects the channels to be the last dimension](https://matplotlib.org/stable/api/_as_gen/matplotlib.pyplot.imshow.html)."
   ]
  },
  {
   "cell_type": "code",
   "execution_count": 21,
   "metadata": {},
   "outputs": [
    {
     "data": {
      "image/png": "[encoded data removed]",
      "text/plain": [
       "<Figure size 640x480 with 1 Axes>"
      ]
     },
     "metadata": {},
     "output_type": "display_data"
    }
   ],
   "source": [
    "# From a 2D array to a 3D array directly\n",
    "rgb_img = cv2.cvtColor(img, cv2.COLOR_GRAY2RGB)\n",
    "plt.imshow(rgb_img)\n",
    "plt.axis(\"off\")\n",
    "plt.show()"
   ]
  },
  {
   "attachments": {},
   "cell_type": "markdown",
   "metadata": {},
   "source": [
    "For torch tensors, either permute the axes or plot a single channel."
   ]
  },
  {
   "cell_type": "code",
   "execution_count": 22,
   "metadata": {},
   "outputs": [
    {
     "data": {
      "image/png": "[encoded data removed]",
      "text/plain": [
       "<Figure size 640x480 with 1 Axes>"
      ]
     },
     "metadata": {},
     "output_type": "display_data"
    },
    {
     "data": {
      "image/png": "[encoded data removed]",
      "text/plain": [
       "<Figure size 640x480 with 1 Axes>"
      ]
     },
     "metadata": {},
     "output_type": "display_data"
    }
   ],
   "source": [
    "torchvision_transforms = T.Compose(\n",
    "    [\n",
    "        T.ToPILImage(),\n",
    "        T.Resize((100, 100), interpolation=InterpolationMode.NEAREST),\n",
    "        T.Grayscale(3),\n",
    "        T.ToTensor(),\n",
    "    ]\n",
    ")\n",
    "\n",
    "img_torch = torchvision_transforms(wafer)\n",
    "\n",
    "# Either permute the dimensions\n",
    "plt.imshow(img_torch.permute(1, 2, 0))\n",
    "plt.axis(\"off\")\n",
    "plt.show()\n",
    "\n",
    "# Or, just plot one of the channels\n",
    "plt.imshow(img_torch[0])\n",
    "plt.axis(\"off\")\n",
    "plt.show()"
   ]
  },
  {
   "attachments": {},
   "cell_type": "markdown",
   "metadata": {},
   "source": [
    "## Going from Data to Vectors\n",
    "\n",
    "### Part 1: Features from a Imagenet weights\n",
    "\n",
    "Imagenet is a dataset of 14 million images with 1000 categories. It's a very popular dataset for computer vision tasks. The weights from a model trained on Imagenet can be used to extract features from images, and this is a reasonable practice for getting vector representations so long as your images are similar to the ones in Imagenet. The specific pretrained model we'll be using is a ResNet18. I prefer getting models from `timm` instead of `torchvision` because there are more models available, and the weights are actually a bit better. [The documentation for `timm` does an excellent job of explaining how to use models for feature extraction.](https://huggingface.co/docs/timm/feature_extraction)\n",
    "\n",
    "#### Torchvision transforms\n",
    "\n",
    "Recall that the wafer maps are 2D arrays. For use in pretrained neural nets, we need 3-channel tensors. We'll use `torchvision`'s transforms to do this:\n",
    "- `ToPILImage`: Converts a NumPy array to a PIL image. This is necessary because most of `torchvision`'s transforms only work on PIL images.\n",
    "- `Resize`: Resizes the image to a square of size 224x224. This is the size of the images in Imagenet. Remember to use nearest-neighbor interpolation!!\n",
    "- `Grayscale(num_out_channels=3)`: Usually this is used to convert images to grayscale, but it can also be used to copy a single channel to all 3 channels. This is necessary because the pretrained model we're using has weights for 3 channel images (you could use `in_chans=1` with a `timm` model but you'd need to fine-tune the model afterwards).\n",
    "- `ToTensor`: Converts the PIL image to a PyTorch tensor.\n"
   ]
  },
  {
   "cell_type": "code",
   "execution_count": 23,
   "metadata": {},
   "outputs": [],
   "source": [
    "torchvision_transforms = T.Compose(\n",
    "    [\n",
    "        T.ToPILImage(),\n",
    "        T.Resize((224, 224), interpolation=InterpolationMode.NEAREST),\n",
    "        T.Grayscale(3),\n",
    "        T.ToTensor(),\n",
    "    ]\n",
    ")"
   ]
  },
  {
   "attachments": {},
   "cell_type": "markdown",
   "metadata": {},
   "source": [
    "You could use a pretrained model to extract features from images one-by-one, but it is significantly faster to do this in batches. We'll use `torch.utils.data.DataLoader` to do this, so we'll first need our own custom dataset class, defined below. All this will do is take in a dataframe and return the image and label for each row. The label won't actually be used for anything, but I've included it here for completeness."
   ]
  },
  {
   "cell_type": "code",
   "execution_count": 24,
   "metadata": {},
   "outputs": [],
   "source": [
    "# Create a custom dataset class for our data\n",
    "class WaferDataset(Dataset):\n",
    "    def __init__(self, data, transforms=None):\n",
    "        self.data = data\n",
    "        self.X = data.waferMap\n",
    "        self.y = data.failureCode\n",
    "        self.transforms = transforms\n",
    "\n",
    "    def __len__(self):\n",
    "        return len(self.data)\n",
    "\n",
    "    def __getitem__(self, idx):\n",
    "        # Get the wafer map and the failure type\n",
    "        wafermap = self.X.iloc[idx]\n",
    "        failurecode = self.y.iloc[idx]\n",
    "\n",
    "        # Apply the transforms\n",
    "        if self.transforms:\n",
    "            wafermap = self.transforms(wafermap)\n",
    "\n",
    "        return wafermap, failurecode\n",
    "\n",
    "\n",
    "# Create a dataset for the split we want\n",
    "data_split = pd.read_parquet(f\"{save_path}/train_20_split.parquet\")\n",
    "\n",
    "# Parquet files store nested lists as a 1D array where each element itself is a 1D array\n",
    "# To convert back to a 2D array, use np.stack to stack arrays if ndim == 1\n",
    "data_split.waferMap = data_split.waferMap.apply(\n",
    "    lambda x: np.stack(x).astype(\"uint8\") if x.ndim == 1 else x\n",
    ")\n",
    "\n",
    "# Create the dataset and dataloader\n",
    "# Set shuffle=False since we want to preserve the order of the data!!\n",
    "dataset = WaferDataset(data_split, transforms=torchvision_transforms)\n",
    "dataloader = DataLoader(dataset, batch_size=1024, shuffle=False)"
   ]
  },
  {
   "attachments": {},
   "cell_type": "markdown",
   "metadata": {},
   "source": [
    "Now we create out actual feature extractor using a pretrained ResNet18. I like using PyTorch Lightning over vanilla PyTorch but it doesn't really make a difference."
   ]
  },
  {
   "cell_type": "code",
   "execution_count": 25,
   "metadata": {},
   "outputs": [],
   "source": [
    "# Create a pl.LightningModule for a Resnet18 from timm with num_classes=0\n",
    "# We only need to use this as a feature extractor, so just define a forward pass and predict_step\n",
    "\n",
    "class ImageNetR18(pl.LightningModule):\n",
    "    def __init__(self, num_classes=0):\n",
    "        super().__init__()\n",
    "        self.model = timm.create_model(\n",
    "            \"resnet18\", pretrained=True, num_classes=num_classes\n",
    "        )\n",
    "\n",
    "    def forward(self, x):\n",
    "        return self.model(x)\n",
    "\n",
    "    def predict_step(self, batch, batch_idx):\n",
    "        x, _ = batch\n",
    "        return self(x)"
   ]
  },
  {
   "attachments": {},
   "cell_type": "markdown",
   "metadata": {},
   "source": [
    "Now we can use this for feature extraction 😃\n",
    "\n",
    "This should be pretty fast. The reason I've shared this as a Colab notebook is for GPU access. Try using GPU if possible. If you're using Colab, you can change the runtime type to GPU by going to `Runtime` -> `Change runtime type` -> `Hardware accelerator` -> `GPU`."
   ]
  },
  {
   "cell_type": "code",
   "execution_count": 26,
   "metadata": {},
   "outputs": [
    {
     "name": "stderr",
     "output_type": "stream",
     "text": [
      "GPU available: True (cuda), used: True\n",
      "TPU available: False, using: 0 TPU cores\n",
      "IPU available: False, using: 0 IPUs\n",
      "HPU available: False, using: 0 HPUs\n",
      "You are using a CUDA device ('NVIDIA GeForce RTX 3080 Ti') that has Tensor Cores. To properly utilize them, you should set `torch.set_float32_matmul_precision('medium' | 'high')` which will trade-off precision for performance. For more details, read https://pytorch.org/docs/stable/generated/torch.set_float32_matmul_precision.html#torch.set_float32_matmul_precision\n",
      "LOCAL_RANK: 0 - CUDA_VISIBLE_DEVICES: [0]\n"
     ]
    },
    {
     "data": {
      "application/vnd.jupyter.widget-view+json": {
       "model_id": "2cc45de87fe546769ac27063d51d25cc",
       "version_major": 2,
       "version_minor": 0
      },
      "text/plain": [
       "Predicting: 0it [00:00, ?it/s]"
      ]
     },
     "metadata": {},
     "output_type": "display_data"
    }
   ],
   "source": [
    "trainer = pl.Trainer(\n",
    "    accelerator=\"gpu\" if torch.cuda.is_available() else \"cpu\",\n",
    "    logger=False,\n",
    ")\n",
    "preds = trainer.predict(model=ImageNetR18(), dataloaders=dataloader)"
   ]
  },
  {
   "cell_type": "code",
   "execution_count": 27,
   "metadata": {},
   "outputs": [
    {
     "data": {
      "text/plain": [
       "(12449, 512)"
      ]
     },
     "execution_count": 27,
     "metadata": {},
     "output_type": "execute_result"
    }
   ],
   "source": [
    "# preds is a list of tensors, so we need to concatenate them\n",
    "preds = torch.cat(preds)\n",
    "\n",
    "# To get these to numpy arrays, we can use .detach().cpu().numpy()\n",
    "features = preds.detach().cpu().numpy()\n",
    "features.shape  # (n_samples, 512)"
   ]
  },
  {
   "attachments": {},
   "cell_type": "markdown",
   "metadata": {},
   "source": [
    "Note that the order of the vectors is the same as the order in the dataframe. You could add each vector in a new column like  below, although it might be easier to do downstream analysis like UMAP, clustering, etc. on just the feature matrix itself."
   ]
  },
  {
   "cell_type": "code",
   "execution_count": 28,
   "metadata": {},
   "outputs": [
    {
     "data": {
      "text/html": [
       "<div>\n",
       "<style scoped>\n",
       "    .dataframe tbody tr th:only-of-type {\n",
       "        vertical-align: middle;\n",
       "    }\n",
       "\n",
       "    .dataframe tbody tr th {\n",
       "        vertical-align: top;\n",
       "    }\n",
       "\n",
       "    .dataframe thead th {\n",
       "        text-align: right;\n",
       "    }\n",
       "</style>\n",
       "<table border=\"1\" class=\"dataframe\">\n",
       "  <thead>\n",
       "    <tr style=\"text-align: right;\">\n",
       "      <th></th>\n",
       "      <th>waferMap</th>\n",
       "      <th>failureType</th>\n",
       "      <th>failureCode</th>\n",
       "      <th>imagenet</th>\n",
       "    </tr>\n",
       "  </thead>\n",
       "  <tbody>\n",
       "    <tr>\n",
       "      <th>44059</th>\n",
       "      <td>[[0, 0, 0, 0, 0, 0, 0, 0, 0, 0, 0, 0, 0, 0, 0,...</td>\n",
       "      <td>Loc</td>\n",
       "      <td>4</td>\n",
       "      <td>[4.47257, 0.079800345, 1.3731602, 0.22698526, ...</td>\n",
       "    </tr>\n",
       "    <tr>\n",
       "      <th>4524</th>\n",
       "      <td>[[0, 0, 0, 0, 0, 0, 0, 0, 0, 0, 255, 128, 128,...</td>\n",
       "      <td>none</td>\n",
       "      <td>8</td>\n",
       "      <td>[1.435749, 0.07840235, 2.2960374, 0.9042954, 0...</td>\n",
       "    </tr>\n",
       "    <tr>\n",
       "      <th>10870</th>\n",
       "      <td>[[0, 0, 0, 0, 0, 0, 0, 0, 0, 0, 0, 0, 0, 0, 0,...</td>\n",
       "      <td>Scratch</td>\n",
       "      <td>7</td>\n",
       "      <td>[2.5980442, 0.6401882, 0.59485227, 1.1455781, ...</td>\n",
       "    </tr>\n",
       "    <tr>\n",
       "      <th>167</th>\n",
       "      <td>[[0, 0, 0, 0, 0, 0, 0, 0, 0, 0, 255, 255, 128,...</td>\n",
       "      <td>none</td>\n",
       "      <td>8</td>\n",
       "      <td>[1.0258946, 0.10851015, 2.938215, 0.889692, 0....</td>\n",
       "    </tr>\n",
       "    <tr>\n",
       "      <th>10180</th>\n",
       "      <td>[[0, 0, 0, 0, 0, 0, 0, 0, 0, 0, 0, 0, 0, 0, 0,...</td>\n",
       "      <td>Edge-Ring</td>\n",
       "      <td>3</td>\n",
       "      <td>[4.8291593, 0.115651384, 2.8041127, 0.08996949...</td>\n",
       "    </tr>\n",
       "    <tr>\n",
       "      <th>...</th>\n",
       "      <td>...</td>\n",
       "      <td>...</td>\n",
       "      <td>...</td>\n",
       "      <td>...</td>\n",
       "    </tr>\n",
       "    <tr>\n",
       "      <th>7593</th>\n",
       "      <td>[[0, 0, 0, 0, 0, 0, 0, 0, 0, 0, 0, 0, 0, 255, ...</td>\n",
       "      <td>Edge-Ring</td>\n",
       "      <td>3</td>\n",
       "      <td>[2.3039627, 0.05499196, 1.8007283, 0.27264607,...</td>\n",
       "    </tr>\n",
       "    <tr>\n",
       "      <th>55462</th>\n",
       "      <td>[[0, 0, 0, 0, 0, 0, 0, 0, 0, 0, 0, 0, 0, 0, 25...</td>\n",
       "      <td>Edge-Loc</td>\n",
       "      <td>2</td>\n",
       "      <td>[1.7743281, 0.097747736, 1.5793117, 0.15124905...</td>\n",
       "    </tr>\n",
       "    <tr>\n",
       "      <th>45135</th>\n",
       "      <td>[[0, 0, 0, 0, 0, 0, 0, 0, 0, 0, 0, 0, 128, 128...</td>\n",
       "      <td>Center</td>\n",
       "      <td>0</td>\n",
       "      <td>[1.564244, 0.11866355, 1.5432862, 0.5698134, 0...</td>\n",
       "    </tr>\n",
       "    <tr>\n",
       "      <th>20999</th>\n",
       "      <td>[[0, 0, 0, 0, 0, 0, 0, 0, 0, 0, 0, 0, 0, 0, 0,...</td>\n",
       "      <td>Edge-Ring</td>\n",
       "      <td>3</td>\n",
       "      <td>[5.824549, 0.053302262, 2.3346448, 0.0500424, ...</td>\n",
       "    </tr>\n",
       "    <tr>\n",
       "      <th>9001</th>\n",
       "      <td>[[0, 0, 0, 0, 0, 0, 0, 0, 0, 0, 0, 0, 128, 128...</td>\n",
       "      <td>Loc</td>\n",
       "      <td>4</td>\n",
       "      <td>[0.8767777, 0.53759587, 0.88870287, 1.100003, ...</td>\n",
       "    </tr>\n",
       "  </tbody>\n",
       "</table>\n",
       "<p>12449 rows × 4 columns</p>\n",
       "</div>"
      ],
      "text/plain": [
       "                                                waferMap failureType  \\\n",
       "44059  [[0, 0, 0, 0, 0, 0, 0, 0, 0, 0, 0, 0, 0, 0, 0,...         Loc   \n",
       "4524   [[0, 0, 0, 0, 0, 0, 0, 0, 0, 0, 255, 128, 128,...        none   \n",
       "10870  [[0, 0, 0, 0, 0, 0, 0, 0, 0, 0, 0, 0, 0, 0, 0,...     Scratch   \n",
       "167    [[0, 0, 0, 0, 0, 0, 0, 0, 0, 0, 255, 255, 128,...        none   \n",
       "10180  [[0, 0, 0, 0, 0, 0, 0, 0, 0, 0, 0, 0, 0, 0, 0,...   Edge-Ring   \n",
       "...                                                  ...         ...   \n",
       "7593   [[0, 0, 0, 0, 0, 0, 0, 0, 0, 0, 0, 0, 0, 255, ...   Edge-Ring   \n",
       "55462  [[0, 0, 0, 0, 0, 0, 0, 0, 0, 0, 0, 0, 0, 0, 25...    Edge-Loc   \n",
       "45135  [[0, 0, 0, 0, 0, 0, 0, 0, 0, 0, 0, 0, 128, 128...      Center   \n",
       "20999  [[0, 0, 0, 0, 0, 0, 0, 0, 0, 0, 0, 0, 0, 0, 0,...   Edge-Ring   \n",
       "9001   [[0, 0, 0, 0, 0, 0, 0, 0, 0, 0, 0, 0, 128, 128...         Loc   \n",
       "\n",
       "       failureCode                                           imagenet  \n",
       "44059            4  [4.47257, 0.079800345, 1.3731602, 0.22698526, ...  \n",
       "4524             8  [1.435749, 0.07840235, 2.2960374, 0.9042954, 0...  \n",
       "10870            7  [2.5980442, 0.6401882, 0.59485227, 1.1455781, ...  \n",
       "167              8  [1.0258946, 0.10851015, 2.938215, 0.889692, 0....  \n",
       "10180            3  [4.8291593, 0.115651384, 2.8041127, 0.08996949...  \n",
       "...            ...                                                ...  \n",
       "7593             3  [2.3039627, 0.05499196, 1.8007283, 0.27264607,...  \n",
       "55462            2  [1.7743281, 0.097747736, 1.5793117, 0.15124905...  \n",
       "45135            0  [1.564244, 0.11866355, 1.5432862, 0.5698134, 0...  \n",
       "20999            3  [5.824549, 0.053302262, 2.3346448, 0.0500424, ...  \n",
       "9001             4  [0.8767777, 0.53759587, 0.88870287, 1.100003, ...  \n",
       "\n",
       "[12449 rows x 4 columns]"
      ]
     },
     "execution_count": 28,
     "metadata": {},
     "output_type": "execute_result"
    }
   ],
   "source": [
    "vectors = [features[i] for i in range(len(features))]\n",
    "data_split[\"imagenet\"] = vectors\n",
    "data_split"
   ]
  },
  {
   "attachments": {},
   "cell_type": "markdown",
   "metadata": {},
   "source": [
    "### Part 2: Features from self-supervised pretraining\n",
    "\n",
    "The models here are still a work in progress. I've got plenty of preliminary models trained already, but expect to see newer models in the next few weeks. The process of going from wafer map to vector will be nearly the same as with ImageNet weights. The only difference will be the model (i.e. `ImageNetResNet18` vs some other model)."
   ]
  },
  {
   "attachments": {},
   "cell_type": "markdown",
   "metadata": {},
   "source": [
    "### Part 3: SIFT features\n",
    "\n",
    "Using SIFT will give you keypoints and descriptors for images. Each descriptor is a vector, and every keypoint has a descriptor associated with it. That means that using SIFT directly will give you a feature *matrix* for each image (the descriptors for all its keypoints) instead of a single feature vector.\n",
    "\n",
    "There are many ways to go from a SIFT feature matrix to a single vector.\n",
    "\n",
    "1. **Bag-of-visual-words (BoVW) with SIFT**: This involves clustering the SIFT descriptors into visual words and representing each image as a histogram of these visual words. This is a popular approach for image classification and retrieval tasks (which is kinda what we're after 👀)\n",
    "\n",
    "2. **Fisher vectors with SIFT**: Fisher vectors are an extension of BoVW that take into account the spatial relationships between the visual words. In this approach, each SIFT descriptor is assigned to a set of visual words, and a Gaussian mixture model is trained to model the distribution of the descriptors within each visual word. The Fisher vector for an image is the concatenation of the mean, covariance, and derivative of the log-likelihood of the SIFT descriptors with respect to the GMM parameters.\n",
    "\n",
    "3. **VLAD with SIFT**: VLAD (vector of locally aggregated descriptors) is another extension of BoVW that computes the residuals between each SIFT descriptor and its nearest visual word, and aggregates these residuals using a fixed-length vector. The resulting VLAD vector can be further processed using PCA or L2 normalization.\n",
    "\n",
    "4. **Bag-of-features (BoF) with SIFT**: This approach is similar to BoVW, but uses a different feature descriptor (such as SURF or ORB) instead of SIFT. BoF can be simpler and faster than BoVW, but may not be as discriminative.\n",
    "\n",
    "Below I have some code for the first method, BoVW. It's fairly simple to implement using just OpenCV, but it'll still take some time to run. On my personal desktop this took 6 minutes in total; Colab's CPU kinda sucks so it'll probably take longer.\n",
    "\n",
    "Concretely, here's what we're doing:\n",
    "\n",
    "- For each wafer map, we extract SIFT keypoints and descriptors.\n",
    "  - Add the descriptors to a `BOWKMeansTrainer` object, which will be used to cluster the descriptors into visual words. This trainer object must be passed a number of visual words. The visual words are a set of representative feature vectors that are obtained by performing k-means clustering on the SIFT descriptors extracted from your images. Thus, the number of visual words represents the number of clusters that are created during the k-means clustering process. Each cluster corresponds to a visual word, which is a representative feature vector that is used to summarize the set of SIFT descriptors that belong to the cluster. The idea is that by representing the set of SIFT descriptors using a small number of visual words, we can reduce the dimensionality of the feature vectors and make them more computationally efficient to work with.\n",
    "- Once we've added all the descriptors to the trainer, we can call `cluster()` to perform k-means clustering and obtain cluster centers; these cluster centers *are* the visual words that will be used to represent the images.\n",
    "- Create a `BOWImgDescriptorExtractor` object, which will be used to extract the feature vectors for each image.\n",
    "  - Set the vocabulary of the `BOWImgDescriptorExtractor` object to the visual words / cluster centers obtained from the `BOWKMeansTrainer`.\n",
    "  - Specify the distance metric used for feature matching. This is the distance metric used to compare the SIFT descriptors extracted from the image with the visual words. The default is `cv2.NORM_L2`, which is the Euclidean distance.\n",
    "- Loop through each wafer map again, extracting SIFT keypoints and descriptors for each.\n",
    "  - Use the `BOWImgDescriptorExtractor` to extract the feature vector for each image. This feature vector is a histogram of the visual words. Let's say you used 100 visual words to build the vocabulary. Then, the histogram for each image will be a vector with 100 elements, each element representing the *frequency* of a visual word (cluster center) in the image. \n",
    "\n",
    "Let me know if you have any questions about this. I'm not an expert on SIFT so this is new to me too 😅 But basically we're using SIFT to extract keypoints and descriptors from each image, and then using k-means clustering to cluster the descriptors into visual words. We then use the visual words to build a histogram for each image by determining the frequency of each visual word in the image. This histogram can be used as a feature vector for the image, and it can be treated as a Euclidean vector.\n",
    "\n",
    "Code below takes some inspiration from these, but I tried to keep it clean and self-contained in just OpenCV:\n",
    "- https://github.com/Akhilesh64/Image-Classification-using-SIFT/blob/main/main.py\n",
    "- https://liverungrow.medium.com/sift-bag-of-features-svm-for-classification-b5f775d8e55f\n",
    "\n",
    "I might have to ask the professor and TAs if there's a better way to get SIFT feature vectors from keypoints and descriptors. Below we resize the wafer maps to square images by using OpenCV, and we take a look at what exactly the keypoints mean by drawing them onto a random wafer map. Notice that they're mostly on the \"interesting\" portions of the wafer map, the defects!"
   ]
  },
  {
   "cell_type": "code",
   "execution_count": 99,
   "metadata": {},
   "outputs": [
    {
     "data": {
      "image/png": "[encoded data removed]",
      "text/plain": [
       "<Figure size 640x480 with 1 Axes>"
      ]
     },
     "metadata": {},
     "output_type": "display_data"
    }
   ],
   "source": [
    "# Load images; resize to 224x224 to be consistent with image sizes used in the other methods\n",
    "imgs = data_split.waferMap.apply(\n",
    "    lambda x: cv2.resize(x, (224, 224), interpolation=cv2.INTER_NEAREST_EXACT)\n",
    ")  # Use .sample(N) to only do this for N images\n",
    "\n",
    "# Given a wafermap, compute SIFT keypoints and draw them on the image\n",
    "def draw_sift_keypoints(wafermap):\n",
    "    sift = cv2.xfeatures2d.SIFT_create()\n",
    "    kp, des = sift.detectAndCompute(wafermap, None)\n",
    "    img = cv2.drawKeypoints(\n",
    "        wafermap, kp, None, flags=cv2.DRAW_MATCHES_FLAGS_DRAW_RICH_KEYPOINTS\n",
    "    )\n",
    "    return img\n",
    "\n",
    "\n",
    "wafer = imgs.sample(1).iloc[0]\n",
    "img = draw_sift_keypoints(wafer)\n",
    "plt.imshow(img)\n",
    "plt.axis(\"off\")\n",
    "plt.show()"
   ]
  },
  {
   "attachments": {},
   "cell_type": "markdown",
   "metadata": {},
   "source": [
    "And now for the full SIFT BoVW feature extraction pipeline."
   ]
  },
  {
   "cell_type": "code",
   "execution_count": 101,
   "metadata": {},
   "outputs": [
    {
     "data": {
      "application/vnd.jupyter.widget-view+json": {
       "model_id": "67d54cb5732b495581ddded3b3634372",
       "version_major": 2,
       "version_minor": 0
      },
      "text/plain": [
       "  0%|          | 0/12449 [00:00<?, ?it/s]"
      ]
     },
     "metadata": {},
     "output_type": "display_data"
    }
   ],
   "source": [
    "# Create SIFT object\n",
    "sift = cv2.xfeatures2d.SIFT_create()\n",
    "\n",
    "# Create BOWKMeansTrainer object\n",
    "bow_trainer = cv2.BOWKMeansTrainer(100) # number of visual words\n",
    "\n",
    "# Extract SIFT features and add them to trainer\n",
    "keyoints = []\n",
    "descriptors = []\n",
    "for img in tqdm(imgs):\n",
    "    kp, des = sift.detectAndCompute(img, None)\n",
    "    bow_trainer.add(des)\n",
    "    # Store keypoints and descriptors for later use to avoid recomputing\n",
    "    keyoints.append(kp)\n",
    "    descriptors.append(des)"
   ]
  },
  {
   "cell_type": "code",
   "execution_count": 85,
   "metadata": {},
   "outputs": [],
   "source": [
    "# Perform k-means clustering to obtain visual words (this takes a bit on 12k images)\n",
    "voc = bow_trainer.cluster()"
   ]
  },
  {
   "cell_type": "code",
   "execution_count": 103,
   "metadata": {},
   "outputs": [
    {
     "data": {
      "application/vnd.jupyter.widget-view+json": {
       "model_id": "29ba23a27ee94d67a29f7500a9ce99e8",
       "version_major": 2,
       "version_minor": 0
      },
      "text/plain": [
       "  0%|          | 0/12449 [00:00<?, ?it/s]"
      ]
     },
     "metadata": {},
     "output_type": "display_data"
    },
    {
     "data": {
      "text/html": [
       "<div>\n",
       "<style scoped>\n",
       "    .dataframe tbody tr th:only-of-type {\n",
       "        vertical-align: middle;\n",
       "    }\n",
       "\n",
       "    .dataframe tbody tr th {\n",
       "        vertical-align: top;\n",
       "    }\n",
       "\n",
       "    .dataframe thead th {\n",
       "        text-align: right;\n",
       "    }\n",
       "</style>\n",
       "<table border=\"1\" class=\"dataframe\">\n",
       "  <thead>\n",
       "    <tr style=\"text-align: right;\">\n",
       "      <th></th>\n",
       "      <th>waferMap</th>\n",
       "      <th>failureType</th>\n",
       "      <th>failureCode</th>\n",
       "      <th>imagenet</th>\n",
       "      <th>sift</th>\n",
       "    </tr>\n",
       "  </thead>\n",
       "  <tbody>\n",
       "    <tr>\n",
       "      <th>44059</th>\n",
       "      <td>[[0, 0, 0, 0, 0, 0, 0, 0, 0, 0, 0, 0, 0, 0, 0,...</td>\n",
       "      <td>Loc</td>\n",
       "      <td>4</td>\n",
       "      <td>[4.47257, 0.079800345, 1.3731602, 0.22698526, ...</td>\n",
       "      <td>[0.0, 0.0, 0.010638298, 0.0, 0.021276595, 0.01...</td>\n",
       "    </tr>\n",
       "    <tr>\n",
       "      <th>4524</th>\n",
       "      <td>[[0, 0, 0, 0, 0, 0, 0, 0, 0, 0, 255, 128, 128,...</td>\n",
       "      <td>none</td>\n",
       "      <td>8</td>\n",
       "      <td>[1.435749, 0.07840235, 2.2960374, 0.9042954, 0...</td>\n",
       "      <td>[0.0, 0.004032258, 0.004032258, 0.012096774, 0...</td>\n",
       "    </tr>\n",
       "    <tr>\n",
       "      <th>10870</th>\n",
       "      <td>[[0, 0, 0, 0, 0, 0, 0, 0, 0, 0, 0, 0, 0, 0, 0,...</td>\n",
       "      <td>Scratch</td>\n",
       "      <td>7</td>\n",
       "      <td>[2.5980442, 0.6401882, 0.59485227, 1.1455781, ...</td>\n",
       "      <td>[0.0, 0.005934718, 0.0, 0.0, 0.0, 0.008902077,...</td>\n",
       "    </tr>\n",
       "    <tr>\n",
       "      <th>167</th>\n",
       "      <td>[[0, 0, 0, 0, 0, 0, 0, 0, 0, 0, 255, 255, 128,...</td>\n",
       "      <td>none</td>\n",
       "      <td>8</td>\n",
       "      <td>[1.0258946, 0.10851015, 2.938215, 0.889692, 0....</td>\n",
       "      <td>[0.0033670033, 0.013468013, 0.0, 0.0, 0.013468...</td>\n",
       "    </tr>\n",
       "    <tr>\n",
       "      <th>10180</th>\n",
       "      <td>[[0, 0, 0, 0, 0, 0, 0, 0, 0, 0, 0, 0, 0, 0, 0,...</td>\n",
       "      <td>Edge-Ring</td>\n",
       "      <td>3</td>\n",
       "      <td>[4.8291593, 0.115651384, 2.8041127, 0.08996949...</td>\n",
       "      <td>[0.0, 0.0, 0.013043478, 0.0, 0.0, 0.004347826,...</td>\n",
       "    </tr>\n",
       "    <tr>\n",
       "      <th>...</th>\n",
       "      <td>...</td>\n",
       "      <td>...</td>\n",
       "      <td>...</td>\n",
       "      <td>...</td>\n",
       "      <td>...</td>\n",
       "    </tr>\n",
       "    <tr>\n",
       "      <th>7593</th>\n",
       "      <td>[[0, 0, 0, 0, 0, 0, 0, 0, 0, 0, 0, 0, 0, 255, ...</td>\n",
       "      <td>Edge-Ring</td>\n",
       "      <td>3</td>\n",
       "      <td>[2.3039627, 0.05499196, 1.8007283, 0.27264607,...</td>\n",
       "      <td>[0.0, 0.0, 0.02, 0.016666668, 0.013333334, 0.0...</td>\n",
       "    </tr>\n",
       "    <tr>\n",
       "      <th>55462</th>\n",
       "      <td>[[0, 0, 0, 0, 0, 0, 0, 0, 0, 0, 0, 0, 0, 0, 25...</td>\n",
       "      <td>Edge-Loc</td>\n",
       "      <td>2</td>\n",
       "      <td>[1.7743281, 0.097747736, 1.5793117, 0.15124905...</td>\n",
       "      <td>[0.0, 0.0089552235, 0.017910447, 0.0089552235,...</td>\n",
       "    </tr>\n",
       "    <tr>\n",
       "      <th>45135</th>\n",
       "      <td>[[0, 0, 0, 0, 0, 0, 0, 0, 0, 0, 0, 0, 128, 128...</td>\n",
       "      <td>Center</td>\n",
       "      <td>0</td>\n",
       "      <td>[1.564244, 0.11866355, 1.5432862, 0.5698134, 0...</td>\n",
       "      <td>[0.0, 0.0, 0.005181347, 0.005181347, 0.0207253...</td>\n",
       "    </tr>\n",
       "    <tr>\n",
       "      <th>20999</th>\n",
       "      <td>[[0, 0, 0, 0, 0, 0, 0, 0, 0, 0, 0, 0, 0, 0, 0,...</td>\n",
       "      <td>Edge-Ring</td>\n",
       "      <td>3</td>\n",
       "      <td>[5.824549, 0.053302262, 2.3346448, 0.0500424, ...</td>\n",
       "      <td>[0.0, 0.005235602, 0.020942409, 0.005235602, 0...</td>\n",
       "    </tr>\n",
       "    <tr>\n",
       "      <th>9001</th>\n",
       "      <td>[[0, 0, 0, 0, 0, 0, 0, 0, 0, 0, 0, 0, 128, 128...</td>\n",
       "      <td>Loc</td>\n",
       "      <td>4</td>\n",
       "      <td>[0.8767777, 0.53759587, 0.88870287, 1.100003, ...</td>\n",
       "      <td>[0.0, 0.0, 0.0, 0.0, 0.0, 0.0, 0.0, 0.0, 0.0, ...</td>\n",
       "    </tr>\n",
       "  </tbody>\n",
       "</table>\n",
       "<p>12449 rows × 5 columns</p>\n",
       "</div>"
      ],
      "text/plain": [
       "                                                waferMap failureType  \\\n",
       "44059  [[0, 0, 0, 0, 0, 0, 0, 0, 0, 0, 0, 0, 0, 0, 0,...         Loc   \n",
       "4524   [[0, 0, 0, 0, 0, 0, 0, 0, 0, 0, 255, 128, 128,...        none   \n",
       "10870  [[0, 0, 0, 0, 0, 0, 0, 0, 0, 0, 0, 0, 0, 0, 0,...     Scratch   \n",
       "167    [[0, 0, 0, 0, 0, 0, 0, 0, 0, 0, 255, 255, 128,...        none   \n",
       "10180  [[0, 0, 0, 0, 0, 0, 0, 0, 0, 0, 0, 0, 0, 0, 0,...   Edge-Ring   \n",
       "...                                                  ...         ...   \n",
       "7593   [[0, 0, 0, 0, 0, 0, 0, 0, 0, 0, 0, 0, 0, 255, ...   Edge-Ring   \n",
       "55462  [[0, 0, 0, 0, 0, 0, 0, 0, 0, 0, 0, 0, 0, 0, 25...    Edge-Loc   \n",
       "45135  [[0, 0, 0, 0, 0, 0, 0, 0, 0, 0, 0, 0, 128, 128...      Center   \n",
       "20999  [[0, 0, 0, 0, 0, 0, 0, 0, 0, 0, 0, 0, 0, 0, 0,...   Edge-Ring   \n",
       "9001   [[0, 0, 0, 0, 0, 0, 0, 0, 0, 0, 0, 0, 128, 128...         Loc   \n",
       "\n",
       "       failureCode                                           imagenet  \\\n",
       "44059            4  [4.47257, 0.079800345, 1.3731602, 0.22698526, ...   \n",
       "4524             8  [1.435749, 0.07840235, 2.2960374, 0.9042954, 0...   \n",
       "10870            7  [2.5980442, 0.6401882, 0.59485227, 1.1455781, ...   \n",
       "167              8  [1.0258946, 0.10851015, 2.938215, 0.889692, 0....   \n",
       "10180            3  [4.8291593, 0.115651384, 2.8041127, 0.08996949...   \n",
       "...            ...                                                ...   \n",
       "7593             3  [2.3039627, 0.05499196, 1.8007283, 0.27264607,...   \n",
       "55462            2  [1.7743281, 0.097747736, 1.5793117, 0.15124905...   \n",
       "45135            0  [1.564244, 0.11866355, 1.5432862, 0.5698134, 0...   \n",
       "20999            3  [5.824549, 0.053302262, 2.3346448, 0.0500424, ...   \n",
       "9001             4  [0.8767777, 0.53759587, 0.88870287, 1.100003, ...   \n",
       "\n",
       "                                                    sift  \n",
       "44059  [0.0, 0.0, 0.010638298, 0.0, 0.021276595, 0.01...  \n",
       "4524   [0.0, 0.004032258, 0.004032258, 0.012096774, 0...  \n",
       "10870  [0.0, 0.005934718, 0.0, 0.0, 0.0, 0.008902077,...  \n",
       "167    [0.0033670033, 0.013468013, 0.0, 0.0, 0.013468...  \n",
       "10180  [0.0, 0.0, 0.013043478, 0.0, 0.0, 0.004347826,...  \n",
       "...                                                  ...  \n",
       "7593   [0.0, 0.0, 0.02, 0.016666668, 0.013333334, 0.0...  \n",
       "55462  [0.0, 0.0089552235, 0.017910447, 0.0089552235,...  \n",
       "45135  [0.0, 0.0, 0.005181347, 0.005181347, 0.0207253...  \n",
       "20999  [0.0, 0.005235602, 0.020942409, 0.005235602, 0...  \n",
       "9001   [0.0, 0.0, 0.0, 0.0, 0.0, 0.0, 0.0, 0.0, 0.0, ...  \n",
       "\n",
       "[12449 rows x 5 columns]"
      ]
     },
     "execution_count": 103,
     "metadata": {},
     "output_type": "execute_result"
    }
   ],
   "source": [
    "# Create BOWImgDescriptorExtractor object\n",
    "bow_extractor = cv2.BOWImgDescriptorExtractor(sift, cv2.BFMatcher(cv2.NORM_L2))\n",
    "\n",
    "# Set vocabulary for extractor\n",
    "bow_extractor.setVocabulary(voc)\n",
    "\n",
    "# Extract bag of visual words histograms for images\n",
    "features = []\n",
    "for i, img in enumerate(tqdm(imgs)):\n",
    "    bow_descriptor = bow_extractor.compute(img, keyoints[i])\n",
    "    features.append(bow_descriptor)\n",
    "\n",
    "# The resulting 'features' variable contains the bag of visual words histograms for each image\n",
    "# This is a list of 2D arrays (each array/histogram is 1 x n_visual_words); use np.vstack\n",
    "features = np.vstack(features)\n",
    "\n",
    "# As before, we can use this to create a new column in our dataframe\n",
    "sift_vectors = [features[i] for i in range(len(features))]\n",
    "data_split[\"sift\"] = sift_vectors\n",
    "data_split"
   ]
  },
  {
   "attachments": {},
   "cell_type": "markdown",
   "metadata": {},
   "source": [
    "Above we used just OpenCV to extract SIFT features and then create a bag-of-visual-words. Below is another approach you could take that involves `sklearn`. Here, the visual words are defined as the unique tokens that appear in the set of feature descriptors. Each feature vector is represented as a histogram that counts the number of times each token appears in the descriptor, but then, the histogram is normalized using term frequency-inverse document frequency (TF-IDF). This approach seems to be more computationally expensive than the OpenCV approach, so I'd stick to the BoVW approach."
   ]
  },
  {
   "cell_type": "code",
   "execution_count": null,
   "metadata": {},
   "outputs": [],
   "source": [
    "from sklearn.cluster import KMeans\n",
    "from sklearn.feature_extraction.text import TfidfTransformer\n",
    "\n",
    "# Load images\n",
    "imgs = data_split.waferMap.apply(\n",
    "    lambda x: cv2.resize(x, (224, 224), interpolation=cv2.INTER_NEAREST_EXACT)\n",
    ")\n",
    "\n",
    "# Extract SIFT features\n",
    "sift = cv2.xfeatures2d.SIFT_create()\n",
    "descriptors = []\n",
    "for img in imgs:\n",
    "    kp, des = sift.detectAndCompute(img, None)\n",
    "    descriptors.append(des)\n",
    "descriptors = np.vstack(descriptors)\n",
    "\n",
    "# Cluster descriptors\n",
    "k = 100 # number of visual words\n",
    "kmeans = KMeans(n_clusters=k)\n",
    "kmeans.fit(descriptors)\n",
    "visual_words = kmeans.cluster_centers_\n",
    "\n",
    "# Create histograms of visual word counts\n",
    "histograms = []\n",
    "for des in descriptors:\n",
    "    labels = kmeans.predict(des)\n",
    "    histogram, _ = np.histogram(labels, bins=range(k+1))\n",
    "    histograms.append(histogram)\n",
    "histograms = np.vstack(histograms)\n",
    "\n",
    "# Apply tf-idf weighting\n",
    "transformer = TfidfTransformer(norm='l2', use_idf=True, smooth_idf=True)\n",
    "features = transformer.fit_transform(histograms)\n",
    "features = features.toarray()\n",
    "\n",
    "# The resulting 'features' variable contains the normalized feature vectors for each image"
   ]
  }
 ],
 "metadata": {
  "kernelspec": {
   "display_name": "timm-dev",
   "language": "python",
   "name": "python3"
  },
  "language_info": {
   "codemirror_mode": {
    "name": "ipython",
    "version": 3
   },
   "file_extension": ".py",
   "mimetype": "text/x-python",
   "name": "python",
   "nbconvert_exporter": "python",
   "pygments_lexer": "ipython3",
   "version": "3.10.8"
  },
  "orig_nbformat": 4,
  "vscode": {
   "interpreter": {
    "hash": "51c7e371e7f0e705fbface39e2a6c77c02ee1bbdcc1060cdfeb54e5726145823"
   }
  }
 },
 "nbformat": 4,
 "nbformat_minor": 2
}
