{
 "cells": [
  {
   "attachments": {},
   "cell_type": "markdown",
   "metadata": {},
   "source": [
    "# WM-811K Dataset Cleaning, Splitting, and Dummy Wafer Augmentations\n",
    "\n",
    "This notebook is a walkthrough of (mostly) everything data-related for our project. The first major portion of this notebook details our data acquisition, cleaning, and splitting methods. In the second half, we prototype custom image augmentations for wafer maps and ensure that our dummy examples can integrate with `lightly`.\n",
    "\n",
    "## Part 1: Everything Data\n",
    "\n",
    "### Imports"
   ]
  },
  {
   "cell_type": "code",
   "execution_count": 5,
   "metadata": {},
   "outputs": [],
   "source": [
    "import os\n",
    "from io import BytesIO\n",
    "from urllib.request import urlopen\n",
    "from zipfile import ZipFile\n",
    "\n",
    "import matplotlib.pyplot as plt\n",
    "import numpy as np\n",
    "import pandas as pd\n",
    "import seaborn as sns\n",
    "import torch\n",
    "import torchvision\n",
    "import torchvision.transforms as T\n",
    "import torchvision.transforms.functional as TF\n",
    "from IPython.display import display\n",
    "from lightly.data.collate import MultiViewCollateFunction\n",
    "from lightly.transforms.rotation import RandomRotate\n",
    "from lightly.utils.debug import plot_augmented_images\n",
    "from PIL import Image\n",
    "from scipy.ndimage.interpolation import rotate\n",
    "from sklearn.model_selection import train_test_split\n",
    "from torch import nn\n",
    "from torchvision.transforms.functional import InterpolationMode\n",
    "from tqdm import tqdm"
   ]
  },
  {
   "attachments": {},
   "cell_type": "markdown",
   "metadata": {},
   "source": [
    "### Exploratory Data Analysis\n",
    "\n",
    "In this section, we download the WM-811K dataset, visualize the distribution of labeled categories, and clean the data."
   ]
  },
  {
   "cell_type": "code",
   "execution_count": 3,
   "metadata": {},
   "outputs": [
    {
     "name": "stdout",
     "output_type": "stream",
     "text": [
      "Found wafer data already\n"
     ]
    }
   ],
   "source": [
    "# Create directory for data\n",
    "os.makedirs(\"../data/\", exist_ok=True)\n",
    "\n",
    "# Download zip file from online, and extract everything to data/\n",
    "url = \"http://mirlab.org/dataset/public/MIR-WM811K.zip\"\n",
    "# Proceeed only if data hasn't been downloaded already:\n",
    "if not os.path.isdir(\"../data/MIR-WM811K\"):\n",
    "    with urlopen(url) as zipresp:\n",
    "        with ZipFile(BytesIO(zipresp.read())) as zfile:\n",
    "            zfile.extractall(\"../data/\")\n",
    "else:\n",
    "    print(\"Found wafer data already\")"
   ]
  },
  {
   "cell_type": "code",
   "execution_count": 4,
   "metadata": {},
   "outputs": [
    {
     "data": {
      "text/html": [
       "<div>\n",
       "<style scoped>\n",
       "    .dataframe tbody tr th:only-of-type {\n",
       "        vertical-align: middle;\n",
       "    }\n",
       "\n",
       "    .dataframe tbody tr th {\n",
       "        vertical-align: top;\n",
       "    }\n",
       "\n",
       "    .dataframe thead th {\n",
       "        text-align: right;\n",
       "    }\n",
       "</style>\n",
       "<table border=\"1\" class=\"dataframe\">\n",
       "  <thead>\n",
       "    <tr style=\"text-align: right;\">\n",
       "      <th></th>\n",
       "      <th>dieSize</th>\n",
       "      <th>failureType</th>\n",
       "      <th>lotName</th>\n",
       "      <th>trainTestLabel</th>\n",
       "      <th>waferIndex</th>\n",
       "      <th>waferMap</th>\n",
       "    </tr>\n",
       "  </thead>\n",
       "  <tbody>\n",
       "    <tr>\n",
       "      <th>0</th>\n",
       "      <td>1683.0</td>\n",
       "      <td>none</td>\n",
       "      <td>lot1</td>\n",
       "      <td>Training</td>\n",
       "      <td>1.0</td>\n",
       "      <td>[[0, 0, 0, 0, 0, 0, 0, 0, 0, 0, 0, 0, 0, 0, 0,...</td>\n",
       "    </tr>\n",
       "    <tr>\n",
       "      <th>1</th>\n",
       "      <td>1683.0</td>\n",
       "      <td>none</td>\n",
       "      <td>lot1</td>\n",
       "      <td>Training</td>\n",
       "      <td>2.0</td>\n",
       "      <td>[[0, 0, 0, 0, 0, 0, 0, 0, 0, 0, 0, 0, 0, 0, 0,...</td>\n",
       "    </tr>\n",
       "    <tr>\n",
       "      <th>2</th>\n",
       "      <td>1683.0</td>\n",
       "      <td>none</td>\n",
       "      <td>lot1</td>\n",
       "      <td>Training</td>\n",
       "      <td>3.0</td>\n",
       "      <td>[[0, 0, 0, 0, 0, 0, 0, 0, 0, 0, 0, 0, 0, 0, 0,...</td>\n",
       "    </tr>\n",
       "    <tr>\n",
       "      <th>3</th>\n",
       "      <td>1683.0</td>\n",
       "      <td>none</td>\n",
       "      <td>lot1</td>\n",
       "      <td>Training</td>\n",
       "      <td>4.0</td>\n",
       "      <td>[[0, 0, 0, 0, 0, 0, 0, 0, 0, 0, 0, 0, 0, 0, 0,...</td>\n",
       "    </tr>\n",
       "    <tr>\n",
       "      <th>4</th>\n",
       "      <td>1683.0</td>\n",
       "      <td>none</td>\n",
       "      <td>lot1</td>\n",
       "      <td>Training</td>\n",
       "      <td>5.0</td>\n",
       "      <td>[[0, 0, 0, 0, 0, 0, 0, 0, 0, 0, 0, 0, 0, 0, 0,...</td>\n",
       "    </tr>\n",
       "    <tr>\n",
       "      <th>...</th>\n",
       "      <td>...</td>\n",
       "      <td>...</td>\n",
       "      <td>...</td>\n",
       "      <td>...</td>\n",
       "      <td>...</td>\n",
       "      <td>...</td>\n",
       "    </tr>\n",
       "    <tr>\n",
       "      <th>811452</th>\n",
       "      <td>600.0</td>\n",
       "      <td>Edge-Ring</td>\n",
       "      <td>lot47542</td>\n",
       "      <td>Test</td>\n",
       "      <td>23.0</td>\n",
       "      <td>[[0, 0, 0, 0, 0, 0, 0, 0, 0, 0, 0, 1, 2, 1, 1,...</td>\n",
       "    </tr>\n",
       "    <tr>\n",
       "      <th>811453</th>\n",
       "      <td>600.0</td>\n",
       "      <td>Edge-Loc</td>\n",
       "      <td>lot47542</td>\n",
       "      <td>Test</td>\n",
       "      <td>24.0</td>\n",
       "      <td>[[0, 0, 0, 0, 0, 0, 0, 0, 0, 0, 0, 2, 2, 1, 1,...</td>\n",
       "    </tr>\n",
       "    <tr>\n",
       "      <th>811454</th>\n",
       "      <td>600.0</td>\n",
       "      <td>Edge-Ring</td>\n",
       "      <td>lot47542</td>\n",
       "      <td>Test</td>\n",
       "      <td>25.0</td>\n",
       "      <td>[[0, 0, 0, 0, 0, 0, 0, 0, 0, 0, 0, 1, 2, 1, 1,...</td>\n",
       "    </tr>\n",
       "    <tr>\n",
       "      <th>811455</th>\n",
       "      <td>600.0</td>\n",
       "      <td>[0, 0]</td>\n",
       "      <td>lot47543</td>\n",
       "      <td>[0, 0]</td>\n",
       "      <td>1.0</td>\n",
       "      <td>[[0, 0, 0, 0, 0, 0, 0, 0, 0, 0, 0, 1, 1, 1, 1,...</td>\n",
       "    </tr>\n",
       "    <tr>\n",
       "      <th>811456</th>\n",
       "      <td>600.0</td>\n",
       "      <td>[0, 0]</td>\n",
       "      <td>lot47543</td>\n",
       "      <td>[0, 0]</td>\n",
       "      <td>2.0</td>\n",
       "      <td>[[0, 0, 0, 0, 0, 0, 0, 0, 0, 0, 0, 1, 2, 1, 1,...</td>\n",
       "    </tr>\n",
       "  </tbody>\n",
       "</table>\n",
       "<p>811457 rows × 6 columns</p>\n",
       "</div>"
      ],
      "text/plain": [
       "        dieSize failureType   lotName trainTestLabel  waferIndex  \\\n",
       "0        1683.0        none      lot1       Training         1.0   \n",
       "1        1683.0        none      lot1       Training         2.0   \n",
       "2        1683.0        none      lot1       Training         3.0   \n",
       "3        1683.0        none      lot1       Training         4.0   \n",
       "4        1683.0        none      lot1       Training         5.0   \n",
       "...         ...         ...       ...            ...         ...   \n",
       "811452    600.0   Edge-Ring  lot47542           Test        23.0   \n",
       "811453    600.0    Edge-Loc  lot47542           Test        24.0   \n",
       "811454    600.0   Edge-Ring  lot47542           Test        25.0   \n",
       "811455    600.0      [0, 0]  lot47543         [0, 0]         1.0   \n",
       "811456    600.0      [0, 0]  lot47543         [0, 0]         2.0   \n",
       "\n",
       "                                                 waferMap  \n",
       "0       [[0, 0, 0, 0, 0, 0, 0, 0, 0, 0, 0, 0, 0, 0, 0,...  \n",
       "1       [[0, 0, 0, 0, 0, 0, 0, 0, 0, 0, 0, 0, 0, 0, 0,...  \n",
       "2       [[0, 0, 0, 0, 0, 0, 0, 0, 0, 0, 0, 0, 0, 0, 0,...  \n",
       "3       [[0, 0, 0, 0, 0, 0, 0, 0, 0, 0, 0, 0, 0, 0, 0,...  \n",
       "4       [[0, 0, 0, 0, 0, 0, 0, 0, 0, 0, 0, 0, 0, 0, 0,...  \n",
       "...                                                   ...  \n",
       "811452  [[0, 0, 0, 0, 0, 0, 0, 0, 0, 0, 0, 1, 2, 1, 1,...  \n",
       "811453  [[0, 0, 0, 0, 0, 0, 0, 0, 0, 0, 0, 2, 2, 1, 1,...  \n",
       "811454  [[0, 0, 0, 0, 0, 0, 0, 0, 0, 0, 0, 1, 2, 1, 1,...  \n",
       "811455  [[0, 0, 0, 0, 0, 0, 0, 0, 0, 0, 0, 1, 1, 1, 1,...  \n",
       "811456  [[0, 0, 0, 0, 0, 0, 0, 0, 0, 0, 0, 1, 2, 1, 1,...  \n",
       "\n",
       "[811457 rows x 6 columns]"
      ]
     },
     "execution_count": 4,
     "metadata": {},
     "output_type": "execute_result"
    }
   ],
   "source": [
    "path = \"../data/MIR-WM811K/Python/WM811K.pkl\"\n",
    "df = pd.read_pickle(path)\n",
    "df"
   ]
  },
  {
   "cell_type": "code",
   "execution_count": 6,
   "metadata": {},
   "outputs": [
    {
     "data": {
      "text/html": [
       "<div>\n",
       "<style scoped>\n",
       "    .dataframe tbody tr th:only-of-type {\n",
       "        vertical-align: middle;\n",
       "    }\n",
       "\n",
       "    .dataframe tbody tr th {\n",
       "        vertical-align: top;\n",
       "    }\n",
       "\n",
       "    .dataframe thead th {\n",
       "        text-align: right;\n",
       "    }\n",
       "</style>\n",
       "<table border=\"1\" class=\"dataframe\">\n",
       "  <thead>\n",
       "    <tr style=\"text-align: right;\">\n",
       "      <th></th>\n",
       "      <th>dieSize</th>\n",
       "      <th>failureType</th>\n",
       "      <th>lotName</th>\n",
       "      <th>trainTestLabel</th>\n",
       "      <th>waferIndex</th>\n",
       "      <th>waferMap</th>\n",
       "    </tr>\n",
       "  </thead>\n",
       "  <tbody>\n",
       "    <tr>\n",
       "      <th>0</th>\n",
       "      <td>1683.0</td>\n",
       "      <td>none</td>\n",
       "      <td>lot1</td>\n",
       "      <td>Training</td>\n",
       "      <td>1.0</td>\n",
       "      <td>[[0, 0, 0, 0, 0, 0, 0, 0, 0, 0, 0, 0, 0, 0, 0,...</td>\n",
       "    </tr>\n",
       "    <tr>\n",
       "      <th>1</th>\n",
       "      <td>1683.0</td>\n",
       "      <td>none</td>\n",
       "      <td>lot1</td>\n",
       "      <td>Training</td>\n",
       "      <td>2.0</td>\n",
       "      <td>[[0, 0, 0, 0, 0, 0, 0, 0, 0, 0, 0, 0, 0, 0, 0,...</td>\n",
       "    </tr>\n",
       "    <tr>\n",
       "      <th>2</th>\n",
       "      <td>1683.0</td>\n",
       "      <td>none</td>\n",
       "      <td>lot1</td>\n",
       "      <td>Training</td>\n",
       "      <td>3.0</td>\n",
       "      <td>[[0, 0, 0, 0, 0, 0, 0, 0, 0, 0, 0, 0, 0, 0, 0,...</td>\n",
       "    </tr>\n",
       "    <tr>\n",
       "      <th>3</th>\n",
       "      <td>1683.0</td>\n",
       "      <td>none</td>\n",
       "      <td>lot1</td>\n",
       "      <td>Training</td>\n",
       "      <td>4.0</td>\n",
       "      <td>[[0, 0, 0, 0, 0, 0, 0, 0, 0, 0, 0, 0, 0, 0, 0,...</td>\n",
       "    </tr>\n",
       "    <tr>\n",
       "      <th>4</th>\n",
       "      <td>1683.0</td>\n",
       "      <td>none</td>\n",
       "      <td>lot1</td>\n",
       "      <td>Training</td>\n",
       "      <td>5.0</td>\n",
       "      <td>[[0, 0, 0, 0, 0, 0, 0, 0, 0, 0, 0, 0, 0, 0, 0,...</td>\n",
       "    </tr>\n",
       "    <tr>\n",
       "      <th>...</th>\n",
       "      <td>...</td>\n",
       "      <td>...</td>\n",
       "      <td>...</td>\n",
       "      <td>...</td>\n",
       "      <td>...</td>\n",
       "      <td>...</td>\n",
       "    </tr>\n",
       "    <tr>\n",
       "      <th>811452</th>\n",
       "      <td>600.0</td>\n",
       "      <td>Edge-Ring</td>\n",
       "      <td>lot47542</td>\n",
       "      <td>Test</td>\n",
       "      <td>23.0</td>\n",
       "      <td>[[0, 0, 0, 0, 0, 0, 0, 0, 0, 0, 0, 1, 2, 1, 1,...</td>\n",
       "    </tr>\n",
       "    <tr>\n",
       "      <th>811453</th>\n",
       "      <td>600.0</td>\n",
       "      <td>Edge-Loc</td>\n",
       "      <td>lot47542</td>\n",
       "      <td>Test</td>\n",
       "      <td>24.0</td>\n",
       "      <td>[[0, 0, 0, 0, 0, 0, 0, 0, 0, 0, 0, 2, 2, 1, 1,...</td>\n",
       "    </tr>\n",
       "    <tr>\n",
       "      <th>811454</th>\n",
       "      <td>600.0</td>\n",
       "      <td>Edge-Ring</td>\n",
       "      <td>lot47542</td>\n",
       "      <td>Test</td>\n",
       "      <td>25.0</td>\n",
       "      <td>[[0, 0, 0, 0, 0, 0, 0, 0, 0, 0, 0, 1, 2, 1, 1,...</td>\n",
       "    </tr>\n",
       "    <tr>\n",
       "      <th>811455</th>\n",
       "      <td>600.0</td>\n",
       "      <td>unlabeled</td>\n",
       "      <td>lot47543</td>\n",
       "      <td>unlabeled</td>\n",
       "      <td>1.0</td>\n",
       "      <td>[[0, 0, 0, 0, 0, 0, 0, 0, 0, 0, 0, 1, 1, 1, 1,...</td>\n",
       "    </tr>\n",
       "    <tr>\n",
       "      <th>811456</th>\n",
       "      <td>600.0</td>\n",
       "      <td>unlabeled</td>\n",
       "      <td>lot47543</td>\n",
       "      <td>unlabeled</td>\n",
       "      <td>2.0</td>\n",
       "      <td>[[0, 0, 0, 0, 0, 0, 0, 0, 0, 0, 0, 1, 2, 1, 1,...</td>\n",
       "    </tr>\n",
       "  </tbody>\n",
       "</table>\n",
       "<p>811457 rows × 6 columns</p>\n",
       "</div>"
      ],
      "text/plain": [
       "        dieSize failureType   lotName trainTestLabel  waferIndex  \\\n",
       "0        1683.0        none      lot1       Training         1.0   \n",
       "1        1683.0        none      lot1       Training         2.0   \n",
       "2        1683.0        none      lot1       Training         3.0   \n",
       "3        1683.0        none      lot1       Training         4.0   \n",
       "4        1683.0        none      lot1       Training         5.0   \n",
       "...         ...         ...       ...            ...         ...   \n",
       "811452    600.0   Edge-Ring  lot47542           Test        23.0   \n",
       "811453    600.0    Edge-Loc  lot47542           Test        24.0   \n",
       "811454    600.0   Edge-Ring  lot47542           Test        25.0   \n",
       "811455    600.0   unlabeled  lot47543      unlabeled         1.0   \n",
       "811456    600.0   unlabeled  lot47543      unlabeled         2.0   \n",
       "\n",
       "                                                 waferMap  \n",
       "0       [[0, 0, 0, 0, 0, 0, 0, 0, 0, 0, 0, 0, 0, 0, 0,...  \n",
       "1       [[0, 0, 0, 0, 0, 0, 0, 0, 0, 0, 0, 0, 0, 0, 0,...  \n",
       "2       [[0, 0, 0, 0, 0, 0, 0, 0, 0, 0, 0, 0, 0, 0, 0,...  \n",
       "3       [[0, 0, 0, 0, 0, 0, 0, 0, 0, 0, 0, 0, 0, 0, 0,...  \n",
       "4       [[0, 0, 0, 0, 0, 0, 0, 0, 0, 0, 0, 0, 0, 0, 0,...  \n",
       "...                                                   ...  \n",
       "811452  [[0, 0, 0, 0, 0, 0, 0, 0, 0, 0, 0, 1, 2, 1, 1,...  \n",
       "811453  [[0, 0, 0, 0, 0, 0, 0, 0, 0, 0, 0, 2, 2, 1, 1,...  \n",
       "811454  [[0, 0, 0, 0, 0, 0, 0, 0, 0, 0, 0, 1, 2, 1, 1,...  \n",
       "811455  [[0, 0, 0, 0, 0, 0, 0, 0, 0, 0, 0, 1, 1, 1, 1,...  \n",
       "811456  [[0, 0, 0, 0, 0, 0, 0, 0, 0, 0, 0, 1, 2, 1, 1,...  \n",
       "\n",
       "[811457 rows x 6 columns]"
      ]
     },
     "execution_count": 6,
     "metadata": {},
     "output_type": "execute_result"
    }
   ],
   "source": [
    "# [0, 0] is unhashable in failureType and trainTestLabel --> replace with \"unlabeled\"\n",
    "array_mask = df.failureType.apply(pd.api.types.is_array_like)\n",
    "failure_labels = df.failureType.copy()\n",
    "traintest_labels = df.trainTestLabel.copy()\n",
    "\n",
    "failure_labels[array_mask] = \"unlabeled\"\n",
    "traintest_labels[array_mask] = \"unlabeled\"\n",
    "\n",
    "df.failureType = failure_labels\n",
    "df.trainTestLabel = traintest_labels\n",
    "df"
   ]
  },
  {
   "attachments": {},
   "cell_type": "markdown",
   "metadata": {},
   "source": [
    "The distribution of failure type categories is heavily skewed. Moreover, the distributions of the `\"Training\"` and `\"Test\"` datasets isn't even the same! Both datasets have far more \"none\"-type failure shadings than the other types (which is typical of qualified semiconductor products going through high-volume manufacturing). However, the `\"Test\"` dataset's \"none\"-type shadings dwarfs the other failure shadings entirely."
   ]
  },
  {
   "cell_type": "code",
   "execution_count": 7,
   "metadata": {},
   "outputs": [
    {
     "data": {
      "text/html": [
       "<div>\n",
       "<style scoped>\n",
       "    .dataframe tbody tr th:only-of-type {\n",
       "        vertical-align: middle;\n",
       "    }\n",
       "\n",
       "    .dataframe tbody tr th {\n",
       "        vertical-align: top;\n",
       "    }\n",
       "\n",
       "    .dataframe thead th {\n",
       "        text-align: right;\n",
       "    }\n",
       "</style>\n",
       "<table border=\"1\" class=\"dataframe\">\n",
       "  <thead>\n",
       "    <tr style=\"text-align: right;\">\n",
       "      <th></th>\n",
       "      <th>count</th>\n",
       "      <th>fraction</th>\n",
       "    </tr>\n",
       "  </thead>\n",
       "  <tbody>\n",
       "    <tr>\n",
       "      <th>none</th>\n",
       "      <td>36730</td>\n",
       "      <td>0.675743</td>\n",
       "    </tr>\n",
       "    <tr>\n",
       "      <th>Edge-Ring</th>\n",
       "      <td>8554</td>\n",
       "      <td>0.157373</td>\n",
       "    </tr>\n",
       "    <tr>\n",
       "      <th>Center</th>\n",
       "      <td>3462</td>\n",
       "      <td>0.063692</td>\n",
       "    </tr>\n",
       "    <tr>\n",
       "      <th>Edge-Loc</th>\n",
       "      <td>2417</td>\n",
       "      <td>0.044467</td>\n",
       "    </tr>\n",
       "    <tr>\n",
       "      <th>Loc</th>\n",
       "      <td>1620</td>\n",
       "      <td>0.029804</td>\n",
       "    </tr>\n",
       "    <tr>\n",
       "      <th>Random</th>\n",
       "      <td>609</td>\n",
       "      <td>0.011204</td>\n",
       "    </tr>\n",
       "    <tr>\n",
       "      <th>Scratch</th>\n",
       "      <td>500</td>\n",
       "      <td>0.009199</td>\n",
       "    </tr>\n",
       "    <tr>\n",
       "      <th>Donut</th>\n",
       "      <td>409</td>\n",
       "      <td>0.007525</td>\n",
       "    </tr>\n",
       "    <tr>\n",
       "      <th>Near-full</th>\n",
       "      <td>54</td>\n",
       "      <td>0.000993</td>\n",
       "    </tr>\n",
       "  </tbody>\n",
       "</table>\n",
       "</div>"
      ],
      "text/plain": [
       "           count  fraction\n",
       "none       36730  0.675743\n",
       "Edge-Ring   8554  0.157373\n",
       "Center      3462  0.063692\n",
       "Edge-Loc    2417  0.044467\n",
       "Loc         1620  0.029804\n",
       "Random       609  0.011204\n",
       "Scratch      500  0.009199\n",
       "Donut        409  0.007525\n",
       "Near-full     54  0.000993"
      ]
     },
     "metadata": {},
     "output_type": "display_data"
    },
    {
     "data": {
      "image/png": "[encoded data removed]",
      "text/plain": [
       "<Figure size 640x480 with 1 Axes>"
      ]
     },
     "metadata": {},
     "output_type": "display_data"
    },
    {
     "data": {
      "text/html": [
       "<div>\n",
       "<style scoped>\n",
       "    .dataframe tbody tr th:only-of-type {\n",
       "        vertical-align: middle;\n",
       "    }\n",
       "\n",
       "    .dataframe tbody tr th {\n",
       "        vertical-align: top;\n",
       "    }\n",
       "\n",
       "    .dataframe thead th {\n",
       "        text-align: right;\n",
       "    }\n",
       "</style>\n",
       "<table border=\"1\" class=\"dataframe\">\n",
       "  <thead>\n",
       "    <tr style=\"text-align: right;\">\n",
       "      <th></th>\n",
       "      <th>count</th>\n",
       "      <th>fraction</th>\n",
       "    </tr>\n",
       "  </thead>\n",
       "  <tbody>\n",
       "    <tr>\n",
       "      <th>none</th>\n",
       "      <td>110701</td>\n",
       "      <td>0.933437</td>\n",
       "    </tr>\n",
       "    <tr>\n",
       "      <th>Edge-Loc</th>\n",
       "      <td>2772</td>\n",
       "      <td>0.023374</td>\n",
       "    </tr>\n",
       "    <tr>\n",
       "      <th>Loc</th>\n",
       "      <td>1973</td>\n",
       "      <td>0.016636</td>\n",
       "    </tr>\n",
       "    <tr>\n",
       "      <th>Edge-Ring</th>\n",
       "      <td>1126</td>\n",
       "      <td>0.009494</td>\n",
       "    </tr>\n",
       "    <tr>\n",
       "      <th>Center</th>\n",
       "      <td>832</td>\n",
       "      <td>0.007015</td>\n",
       "    </tr>\n",
       "    <tr>\n",
       "      <th>Scratch</th>\n",
       "      <td>693</td>\n",
       "      <td>0.005843</td>\n",
       "    </tr>\n",
       "    <tr>\n",
       "      <th>Random</th>\n",
       "      <td>257</td>\n",
       "      <td>0.002167</td>\n",
       "    </tr>\n",
       "    <tr>\n",
       "      <th>Donut</th>\n",
       "      <td>146</td>\n",
       "      <td>0.001231</td>\n",
       "    </tr>\n",
       "    <tr>\n",
       "      <th>Near-full</th>\n",
       "      <td>95</td>\n",
       "      <td>0.000801</td>\n",
       "    </tr>\n",
       "  </tbody>\n",
       "</table>\n",
       "</div>"
      ],
      "text/plain": [
       "            count  fraction\n",
       "none       110701  0.933437\n",
       "Edge-Loc     2772  0.023374\n",
       "Loc          1973  0.016636\n",
       "Edge-Ring    1126  0.009494\n",
       "Center        832  0.007015\n",
       "Scratch       693  0.005843\n",
       "Random        257  0.002167\n",
       "Donut         146  0.001231\n",
       "Near-full      95  0.000801"
      ]
     },
     "metadata": {},
     "output_type": "display_data"
    },
    {
     "data": {
      "image/png": "[encoded data removed]",
      "text/plain": [
       "<Figure size 640x480 with 1 Axes>"
      ]
     },
     "metadata": {},
     "output_type": "display_data"
    }
   ],
   "source": [
    "sns.set_theme()\n",
    "\n",
    "def show_breakdown(series, title=None):\n",
    "    \"\"\"\n",
    "    Given a pandas Series, displays value_counts(), both raw counts and normalized.\n",
    "    Also plots a horizontal bar chart of normalized value counts.\n",
    "    \"\"\"\n",
    "    breakdown = pd.concat(\n",
    "        [series.value_counts(), series.value_counts(normalize=True)],\n",
    "        axis=1,\n",
    "        keys=(\"count\", \"fraction\")\n",
    "    )\n",
    "    display(breakdown)\n",
    "    breakdown.fraction.plot(kind=\"barh\")\n",
    "    if title:\n",
    "        plt.title(title)\n",
    "    plt.show()\n",
    "\n",
    "\n",
    "train_shadings = df.loc[df.trainTestLabel == \"Training\"].failureType\n",
    "test_shadings = df.loc[df.trainTestLabel == \"Test\"].failureType\n",
    "\n",
    "show_breakdown(train_shadings, title=\"Train Failure Types\")\n",
    "show_breakdown(test_shadings, title=\"Test Failure Types\")"
   ]
  },
  {
   "attachments": {},
   "cell_type": "markdown",
   "metadata": {},
   "source": [
    "We've come across papers that choose to ignore this `\"Test\"` dataset entirely and create custom training and test datasets from the `\"Training\"` subset alone. This is usually done to ensure that the data can be split in a stratified fashion. We follow a similar approach here, but rather than throwing out the `\"Test\"` dataset entirely, we keep all non-\"none\"-type failure shadings from that datasets. Concretely, we create an aggregate dataset that has all of the `\"Training\"` subset, and everything in `\"Test\"` where `failureType != \"none\"`."
   ]
  },
  {
   "cell_type": "code",
   "execution_count": 8,
   "metadata": {},
   "outputs": [
    {
     "data": {
      "text/html": [
       "<div>\n",
       "<style scoped>\n",
       "    .dataframe tbody tr th:only-of-type {\n",
       "        vertical-align: middle;\n",
       "    }\n",
       "\n",
       "    .dataframe tbody tr th {\n",
       "        vertical-align: top;\n",
       "    }\n",
       "\n",
       "    .dataframe thead th {\n",
       "        text-align: right;\n",
       "    }\n",
       "</style>\n",
       "<table border=\"1\" class=\"dataframe\">\n",
       "  <thead>\n",
       "    <tr style=\"text-align: right;\">\n",
       "      <th></th>\n",
       "      <th>dieSize</th>\n",
       "      <th>failureType</th>\n",
       "      <th>lotName</th>\n",
       "      <th>trainTestLabel</th>\n",
       "      <th>waferIndex</th>\n",
       "      <th>waferMap</th>\n",
       "      <th>isSquare</th>\n",
       "      <th>shapeMaxDim</th>\n",
       "    </tr>\n",
       "  </thead>\n",
       "  <tbody>\n",
       "    <tr>\n",
       "      <th>0</th>\n",
       "      <td>1683.0</td>\n",
       "      <td>none</td>\n",
       "      <td>lot1</td>\n",
       "      <td>Training</td>\n",
       "      <td>1.0</td>\n",
       "      <td>[[0, 0, 0, 0, 0, 0, 0, 0, 0, 0, 0, 0, 0, 0, 0,...</td>\n",
       "      <td>False</td>\n",
       "      <td>48</td>\n",
       "    </tr>\n",
       "    <tr>\n",
       "      <th>1</th>\n",
       "      <td>1683.0</td>\n",
       "      <td>none</td>\n",
       "      <td>lot1</td>\n",
       "      <td>Training</td>\n",
       "      <td>2.0</td>\n",
       "      <td>[[0, 0, 0, 0, 0, 0, 0, 0, 0, 0, 0, 0, 0, 0, 0,...</td>\n",
       "      <td>False</td>\n",
       "      <td>48</td>\n",
       "    </tr>\n",
       "    <tr>\n",
       "      <th>2</th>\n",
       "      <td>1683.0</td>\n",
       "      <td>none</td>\n",
       "      <td>lot1</td>\n",
       "      <td>Training</td>\n",
       "      <td>3.0</td>\n",
       "      <td>[[0, 0, 0, 0, 0, 0, 0, 0, 0, 0, 0, 0, 0, 0, 0,...</td>\n",
       "      <td>False</td>\n",
       "      <td>48</td>\n",
       "    </tr>\n",
       "    <tr>\n",
       "      <th>3</th>\n",
       "      <td>1683.0</td>\n",
       "      <td>none</td>\n",
       "      <td>lot1</td>\n",
       "      <td>Training</td>\n",
       "      <td>4.0</td>\n",
       "      <td>[[0, 0, 0, 0, 0, 0, 0, 0, 0, 0, 0, 0, 0, 0, 0,...</td>\n",
       "      <td>False</td>\n",
       "      <td>48</td>\n",
       "    </tr>\n",
       "    <tr>\n",
       "      <th>4</th>\n",
       "      <td>1683.0</td>\n",
       "      <td>none</td>\n",
       "      <td>lot1</td>\n",
       "      <td>Training</td>\n",
       "      <td>5.0</td>\n",
       "      <td>[[0, 0, 0, 0, 0, 0, 0, 0, 0, 0, 0, 0, 0, 0, 0,...</td>\n",
       "      <td>False</td>\n",
       "      <td>48</td>\n",
       "    </tr>\n",
       "    <tr>\n",
       "      <th>...</th>\n",
       "      <td>...</td>\n",
       "      <td>...</td>\n",
       "      <td>...</td>\n",
       "      <td>...</td>\n",
       "      <td>...</td>\n",
       "      <td>...</td>\n",
       "      <td>...</td>\n",
       "      <td>...</td>\n",
       "    </tr>\n",
       "    <tr>\n",
       "      <th>62244</th>\n",
       "      <td>600.0</td>\n",
       "      <td>Edge-Loc</td>\n",
       "      <td>lot47542</td>\n",
       "      <td>Test</td>\n",
       "      <td>21.0</td>\n",
       "      <td>[[0, 0, 0, 0, 0, 0, 0, 0, 0, 0, 0, 1, 2, 1, 2,...</td>\n",
       "      <td>False</td>\n",
       "      <td>34</td>\n",
       "    </tr>\n",
       "    <tr>\n",
       "      <th>62245</th>\n",
       "      <td>600.0</td>\n",
       "      <td>Edge-Loc</td>\n",
       "      <td>lot47542</td>\n",
       "      <td>Test</td>\n",
       "      <td>22.0</td>\n",
       "      <td>[[0, 0, 0, 0, 0, 0, 0, 0, 0, 0, 0, 1, 1, 1, 1,...</td>\n",
       "      <td>False</td>\n",
       "      <td>34</td>\n",
       "    </tr>\n",
       "    <tr>\n",
       "      <th>62246</th>\n",
       "      <td>600.0</td>\n",
       "      <td>Edge-Ring</td>\n",
       "      <td>lot47542</td>\n",
       "      <td>Test</td>\n",
       "      <td>23.0</td>\n",
       "      <td>[[0, 0, 0, 0, 0, 0, 0, 0, 0, 0, 0, 1, 2, 1, 1,...</td>\n",
       "      <td>False</td>\n",
       "      <td>34</td>\n",
       "    </tr>\n",
       "    <tr>\n",
       "      <th>62247</th>\n",
       "      <td>600.0</td>\n",
       "      <td>Edge-Loc</td>\n",
       "      <td>lot47542</td>\n",
       "      <td>Test</td>\n",
       "      <td>24.0</td>\n",
       "      <td>[[0, 0, 0, 0, 0, 0, 0, 0, 0, 0, 0, 2, 2, 1, 1,...</td>\n",
       "      <td>False</td>\n",
       "      <td>34</td>\n",
       "    </tr>\n",
       "    <tr>\n",
       "      <th>62248</th>\n",
       "      <td>600.0</td>\n",
       "      <td>Edge-Ring</td>\n",
       "      <td>lot47542</td>\n",
       "      <td>Test</td>\n",
       "      <td>25.0</td>\n",
       "      <td>[[0, 0, 0, 0, 0, 0, 0, 0, 0, 0, 0, 1, 2, 1, 1,...</td>\n",
       "      <td>False</td>\n",
       "      <td>34</td>\n",
       "    </tr>\n",
       "  </tbody>\n",
       "</table>\n",
       "<p>62249 rows × 8 columns</p>\n",
       "</div>"
      ],
      "text/plain": [
       "       dieSize failureType   lotName trainTestLabel  waferIndex  \\\n",
       "0       1683.0        none      lot1       Training         1.0   \n",
       "1       1683.0        none      lot1       Training         2.0   \n",
       "2       1683.0        none      lot1       Training         3.0   \n",
       "3       1683.0        none      lot1       Training         4.0   \n",
       "4       1683.0        none      lot1       Training         5.0   \n",
       "...        ...         ...       ...            ...         ...   \n",
       "62244    600.0    Edge-Loc  lot47542           Test        21.0   \n",
       "62245    600.0    Edge-Loc  lot47542           Test        22.0   \n",
       "62246    600.0   Edge-Ring  lot47542           Test        23.0   \n",
       "62247    600.0    Edge-Loc  lot47542           Test        24.0   \n",
       "62248    600.0   Edge-Ring  lot47542           Test        25.0   \n",
       "\n",
       "                                                waferMap  isSquare  \\\n",
       "0      [[0, 0, 0, 0, 0, 0, 0, 0, 0, 0, 0, 0, 0, 0, 0,...     False   \n",
       "1      [[0, 0, 0, 0, 0, 0, 0, 0, 0, 0, 0, 0, 0, 0, 0,...     False   \n",
       "2      [[0, 0, 0, 0, 0, 0, 0, 0, 0, 0, 0, 0, 0, 0, 0,...     False   \n",
       "3      [[0, 0, 0, 0, 0, 0, 0, 0, 0, 0, 0, 0, 0, 0, 0,...     False   \n",
       "4      [[0, 0, 0, 0, 0, 0, 0, 0, 0, 0, 0, 0, 0, 0, 0,...     False   \n",
       "...                                                  ...       ...   \n",
       "62244  [[0, 0, 0, 0, 0, 0, 0, 0, 0, 0, 0, 1, 2, 1, 2,...     False   \n",
       "62245  [[0, 0, 0, 0, 0, 0, 0, 0, 0, 0, 0, 1, 1, 1, 1,...     False   \n",
       "62246  [[0, 0, 0, 0, 0, 0, 0, 0, 0, 0, 0, 1, 2, 1, 1,...     False   \n",
       "62247  [[0, 0, 0, 0, 0, 0, 0, 0, 0, 0, 0, 2, 2, 1, 1,...     False   \n",
       "62248  [[0, 0, 0, 0, 0, 0, 0, 0, 0, 0, 0, 1, 2, 1, 1,...     False   \n",
       "\n",
       "       shapeMaxDim  \n",
       "0               48  \n",
       "1               48  \n",
       "2               48  \n",
       "3               48  \n",
       "4               48  \n",
       "...            ...  \n",
       "62244           34  \n",
       "62245           34  \n",
       "62246           34  \n",
       "62247           34  \n",
       "62248           34  \n",
       "\n",
       "[62249 rows x 8 columns]"
      ]
     },
     "execution_count": 8,
     "metadata": {},
     "output_type": "execute_result"
    }
   ],
   "source": [
    "# Get rid of everything unlabeled, then we want everything that isn't a Test + none-failureType\n",
    "idx = (df.trainTestLabel == \"unlabeled\") | (\n",
    "    (df.trainTestLabel == \"Test\") & (df.failureType == \"none\")\n",
    ")\n",
    "data = df.loc[~idx].reset_index(drop=True)\n",
    "\n",
    "# Create new columns that tells me whether a wafermap is square already\n",
    "data[\"isSquare\"] = df.waferMap.apply(lambda m: all(len(row) == len(m) for row in m))\n",
    "data[\"shapeMaxDim\"] = df.waferMap.apply(lambda x: max(x.shape))\n",
    "data"
   ]
  },
  {
   "attachments": {},
   "cell_type": "markdown",
   "metadata": {},
   "source": [
    "Because I've worked with this data once before, I know that there's a single data point here that is not a real wafermap (it's probably just a slice of one). Its waferMap is just 3 columns long, and not even close to a square."
   ]
  },
  {
   "cell_type": "code",
   "execution_count": 9,
   "metadata": {},
   "outputs": [
    {
     "name": "stdout",
     "output_type": "stream",
     "text": [
      "46155\n"
     ]
    },
    {
     "data": {
      "text/plain": [
       "array([[0, 1, 1],\n",
       "       [0, 0, 0],\n",
       "       [0, 0, 0],\n",
       "       [0, 0, 0],\n",
       "       [0, 0, 0],\n",
       "       [0, 0, 0],\n",
       "       [0, 0, 0],\n",
       "       [0, 0, 0],\n",
       "       [0, 0, 0],\n",
       "       [0, 0, 0],\n",
       "       [0, 0, 0],\n",
       "       [0, 0, 0],\n",
       "       [0, 0, 0],\n",
       "       [0, 0, 0],\n",
       "       [1, 0, 0]], dtype=uint8)"
      ]
     },
     "execution_count": 9,
     "metadata": {},
     "output_type": "execute_result"
    }
   ],
   "source": [
    "bad_idx = data.waferMap.apply(lambda x: np.size(x)).argmin()\n",
    "print(bad_idx)\n",
    "data.waferMap.iloc[bad_idx]"
   ]
  },
  {
   "cell_type": "code",
   "execution_count": 10,
   "metadata": {},
   "outputs": [
    {
     "data": {
      "text/html": [
       "<div>\n",
       "<style scoped>\n",
       "    .dataframe tbody tr th:only-of-type {\n",
       "        vertical-align: middle;\n",
       "    }\n",
       "\n",
       "    .dataframe tbody tr th {\n",
       "        vertical-align: top;\n",
       "    }\n",
       "\n",
       "    .dataframe thead th {\n",
       "        text-align: right;\n",
       "    }\n",
       "</style>\n",
       "<table border=\"1\" class=\"dataframe\">\n",
       "  <thead>\n",
       "    <tr style=\"text-align: right;\">\n",
       "      <th></th>\n",
       "      <th>dieSize</th>\n",
       "      <th>failureType</th>\n",
       "      <th>lotName</th>\n",
       "      <th>trainTestLabel</th>\n",
       "      <th>waferIndex</th>\n",
       "      <th>waferMap</th>\n",
       "      <th>isSquare</th>\n",
       "      <th>shapeMaxDim</th>\n",
       "    </tr>\n",
       "  </thead>\n",
       "  <tbody>\n",
       "    <tr>\n",
       "      <th>0</th>\n",
       "      <td>1683.0</td>\n",
       "      <td>none</td>\n",
       "      <td>lot1</td>\n",
       "      <td>Training</td>\n",
       "      <td>1.0</td>\n",
       "      <td>[[0, 0, 0, 0, 0, 0, 0, 0, 0, 0, 0, 0, 0, 0, 0,...</td>\n",
       "      <td>False</td>\n",
       "      <td>48</td>\n",
       "    </tr>\n",
       "    <tr>\n",
       "      <th>1</th>\n",
       "      <td>1683.0</td>\n",
       "      <td>none</td>\n",
       "      <td>lot1</td>\n",
       "      <td>Training</td>\n",
       "      <td>2.0</td>\n",
       "      <td>[[0, 0, 0, 0, 0, 0, 0, 0, 0, 0, 0, 0, 0, 0, 0,...</td>\n",
       "      <td>False</td>\n",
       "      <td>48</td>\n",
       "    </tr>\n",
       "    <tr>\n",
       "      <th>2</th>\n",
       "      <td>1683.0</td>\n",
       "      <td>none</td>\n",
       "      <td>lot1</td>\n",
       "      <td>Training</td>\n",
       "      <td>3.0</td>\n",
       "      <td>[[0, 0, 0, 0, 0, 0, 0, 0, 0, 0, 0, 0, 0, 0, 0,...</td>\n",
       "      <td>False</td>\n",
       "      <td>48</td>\n",
       "    </tr>\n",
       "    <tr>\n",
       "      <th>3</th>\n",
       "      <td>1683.0</td>\n",
       "      <td>none</td>\n",
       "      <td>lot1</td>\n",
       "      <td>Training</td>\n",
       "      <td>4.0</td>\n",
       "      <td>[[0, 0, 0, 0, 0, 0, 0, 0, 0, 0, 0, 0, 0, 0, 0,...</td>\n",
       "      <td>False</td>\n",
       "      <td>48</td>\n",
       "    </tr>\n",
       "    <tr>\n",
       "      <th>4</th>\n",
       "      <td>1683.0</td>\n",
       "      <td>none</td>\n",
       "      <td>lot1</td>\n",
       "      <td>Training</td>\n",
       "      <td>5.0</td>\n",
       "      <td>[[0, 0, 0, 0, 0, 0, 0, 0, 0, 0, 0, 0, 0, 0, 0,...</td>\n",
       "      <td>False</td>\n",
       "      <td>48</td>\n",
       "    </tr>\n",
       "    <tr>\n",
       "      <th>...</th>\n",
       "      <td>...</td>\n",
       "      <td>...</td>\n",
       "      <td>...</td>\n",
       "      <td>...</td>\n",
       "      <td>...</td>\n",
       "      <td>...</td>\n",
       "      <td>...</td>\n",
       "      <td>...</td>\n",
       "    </tr>\n",
       "    <tr>\n",
       "      <th>62243</th>\n",
       "      <td>600.0</td>\n",
       "      <td>Edge-Loc</td>\n",
       "      <td>lot47542</td>\n",
       "      <td>Test</td>\n",
       "      <td>21.0</td>\n",
       "      <td>[[0, 0, 0, 0, 0, 0, 0, 0, 0, 0, 0, 1, 2, 1, 2,...</td>\n",
       "      <td>False</td>\n",
       "      <td>34</td>\n",
       "    </tr>\n",
       "    <tr>\n",
       "      <th>62244</th>\n",
       "      <td>600.0</td>\n",
       "      <td>Edge-Loc</td>\n",
       "      <td>lot47542</td>\n",
       "      <td>Test</td>\n",
       "      <td>22.0</td>\n",
       "      <td>[[0, 0, 0, 0, 0, 0, 0, 0, 0, 0, 0, 1, 1, 1, 1,...</td>\n",
       "      <td>False</td>\n",
       "      <td>34</td>\n",
       "    </tr>\n",
       "    <tr>\n",
       "      <th>62245</th>\n",
       "      <td>600.0</td>\n",
       "      <td>Edge-Ring</td>\n",
       "      <td>lot47542</td>\n",
       "      <td>Test</td>\n",
       "      <td>23.0</td>\n",
       "      <td>[[0, 0, 0, 0, 0, 0, 0, 0, 0, 0, 0, 1, 2, 1, 1,...</td>\n",
       "      <td>False</td>\n",
       "      <td>34</td>\n",
       "    </tr>\n",
       "    <tr>\n",
       "      <th>62246</th>\n",
       "      <td>600.0</td>\n",
       "      <td>Edge-Loc</td>\n",
       "      <td>lot47542</td>\n",
       "      <td>Test</td>\n",
       "      <td>24.0</td>\n",
       "      <td>[[0, 0, 0, 0, 0, 0, 0, 0, 0, 0, 0, 2, 2, 1, 1,...</td>\n",
       "      <td>False</td>\n",
       "      <td>34</td>\n",
       "    </tr>\n",
       "    <tr>\n",
       "      <th>62247</th>\n",
       "      <td>600.0</td>\n",
       "      <td>Edge-Ring</td>\n",
       "      <td>lot47542</td>\n",
       "      <td>Test</td>\n",
       "      <td>25.0</td>\n",
       "      <td>[[0, 0, 0, 0, 0, 0, 0, 0, 0, 0, 0, 1, 2, 1, 1,...</td>\n",
       "      <td>False</td>\n",
       "      <td>34</td>\n",
       "    </tr>\n",
       "  </tbody>\n",
       "</table>\n",
       "<p>62248 rows × 8 columns</p>\n",
       "</div>"
      ],
      "text/plain": [
       "       dieSize failureType   lotName trainTestLabel  waferIndex  \\\n",
       "0       1683.0        none      lot1       Training         1.0   \n",
       "1       1683.0        none      lot1       Training         2.0   \n",
       "2       1683.0        none      lot1       Training         3.0   \n",
       "3       1683.0        none      lot1       Training         4.0   \n",
       "4       1683.0        none      lot1       Training         5.0   \n",
       "...        ...         ...       ...            ...         ...   \n",
       "62243    600.0    Edge-Loc  lot47542           Test        21.0   \n",
       "62244    600.0    Edge-Loc  lot47542           Test        22.0   \n",
       "62245    600.0   Edge-Ring  lot47542           Test        23.0   \n",
       "62246    600.0    Edge-Loc  lot47542           Test        24.0   \n",
       "62247    600.0   Edge-Ring  lot47542           Test        25.0   \n",
       "\n",
       "                                                waferMap  isSquare  \\\n",
       "0      [[0, 0, 0, 0, 0, 0, 0, 0, 0, 0, 0, 0, 0, 0, 0,...     False   \n",
       "1      [[0, 0, 0, 0, 0, 0, 0, 0, 0, 0, 0, 0, 0, 0, 0,...     False   \n",
       "2      [[0, 0, 0, 0, 0, 0, 0, 0, 0, 0, 0, 0, 0, 0, 0,...     False   \n",
       "3      [[0, 0, 0, 0, 0, 0, 0, 0, 0, 0, 0, 0, 0, 0, 0,...     False   \n",
       "4      [[0, 0, 0, 0, 0, 0, 0, 0, 0, 0, 0, 0, 0, 0, 0,...     False   \n",
       "...                                                  ...       ...   \n",
       "62243  [[0, 0, 0, 0, 0, 0, 0, 0, 0, 0, 0, 1, 2, 1, 2,...     False   \n",
       "62244  [[0, 0, 0, 0, 0, 0, 0, 0, 0, 0, 0, 1, 1, 1, 1,...     False   \n",
       "62245  [[0, 0, 0, 0, 0, 0, 0, 0, 0, 0, 0, 1, 2, 1, 1,...     False   \n",
       "62246  [[0, 0, 0, 0, 0, 0, 0, 0, 0, 0, 0, 2, 2, 1, 1,...     False   \n",
       "62247  [[0, 0, 0, 0, 0, 0, 0, 0, 0, 0, 0, 1, 2, 1, 1,...     False   \n",
       "\n",
       "       shapeMaxDim  \n",
       "0               48  \n",
       "1               48  \n",
       "2               48  \n",
       "3               48  \n",
       "4               48  \n",
       "...            ...  \n",
       "62243           34  \n",
       "62244           34  \n",
       "62245           34  \n",
       "62246           34  \n",
       "62247           34  \n",
       "\n",
       "[62248 rows x 8 columns]"
      ]
     },
     "execution_count": 10,
     "metadata": {},
     "output_type": "execute_result"
    }
   ],
   "source": [
    "# Drop the bad row and reset the indices\n",
    "data.drop(index=bad_idx, inplace=True)\n",
    "data.reset_index(drop=True, inplace=True)\n",
    "data"
   ]
  },
  {
   "attachments": {},
   "cell_type": "markdown",
   "metadata": {},
   "source": [
    "With this cleaned and aggregated data, we can create our own train and test splits, stratifying them according to the failure types. Below, we split the aggregate data into an 80/20 train/test split, and we verify that the distributions of failure categories across our splits are the same thanks to stratified splitting."
   ]
  },
  {
   "cell_type": "code",
   "execution_count": 11,
   "metadata": {},
   "outputs": [
    {
     "data": {
      "text/html": [
       "<div>\n",
       "<style scoped>\n",
       "    .dataframe tbody tr th:only-of-type {\n",
       "        vertical-align: middle;\n",
       "    }\n",
       "\n",
       "    .dataframe tbody tr th {\n",
       "        vertical-align: top;\n",
       "    }\n",
       "\n",
       "    .dataframe thead th {\n",
       "        text-align: right;\n",
       "    }\n",
       "</style>\n",
       "<table border=\"1\" class=\"dataframe\">\n",
       "  <thead>\n",
       "    <tr style=\"text-align: right;\">\n",
       "      <th></th>\n",
       "      <th>count</th>\n",
       "      <th>fraction</th>\n",
       "    </tr>\n",
       "  </thead>\n",
       "  <tbody>\n",
       "    <tr>\n",
       "      <th>none</th>\n",
       "      <td>29383</td>\n",
       "      <td>0.590044</td>\n",
       "    </tr>\n",
       "    <tr>\n",
       "      <th>Edge-Ring</th>\n",
       "      <td>7744</td>\n",
       "      <td>0.155508</td>\n",
       "    </tr>\n",
       "    <tr>\n",
       "      <th>Edge-Loc</th>\n",
       "      <td>4151</td>\n",
       "      <td>0.083357</td>\n",
       "    </tr>\n",
       "    <tr>\n",
       "      <th>Center</th>\n",
       "      <td>3435</td>\n",
       "      <td>0.068979</td>\n",
       "    </tr>\n",
       "    <tr>\n",
       "      <th>Loc</th>\n",
       "      <td>2874</td>\n",
       "      <td>0.057713</td>\n",
       "    </tr>\n",
       "    <tr>\n",
       "      <th>Scratch</th>\n",
       "      <td>955</td>\n",
       "      <td>0.019177</td>\n",
       "    </tr>\n",
       "    <tr>\n",
       "      <th>Random</th>\n",
       "      <td>693</td>\n",
       "      <td>0.013916</td>\n",
       "    </tr>\n",
       "    <tr>\n",
       "      <th>Donut</th>\n",
       "      <td>444</td>\n",
       "      <td>0.008916</td>\n",
       "    </tr>\n",
       "    <tr>\n",
       "      <th>Near-full</th>\n",
       "      <td>119</td>\n",
       "      <td>0.002390</td>\n",
       "    </tr>\n",
       "  </tbody>\n",
       "</table>\n",
       "</div>"
      ],
      "text/plain": [
       "           count  fraction\n",
       "none       29383  0.590044\n",
       "Edge-Ring   7744  0.155508\n",
       "Edge-Loc    4151  0.083357\n",
       "Center      3435  0.068979\n",
       "Loc         2874  0.057713\n",
       "Scratch      955  0.019177\n",
       "Random       693  0.013916\n",
       "Donut        444  0.008916\n",
       "Near-full    119  0.002390"
      ]
     },
     "metadata": {},
     "output_type": "display_data"
    },
    {
     "data": {
      "image/png": "[encoded data removed]",
      "text/plain": [
       "<Figure size 640x480 with 1 Axes>"
      ]
     },
     "metadata": {},
     "output_type": "display_data"
    },
    {
     "data": {
      "text/html": [
       "<div>\n",
       "<style scoped>\n",
       "    .dataframe tbody tr th:only-of-type {\n",
       "        vertical-align: middle;\n",
       "    }\n",
       "\n",
       "    .dataframe tbody tr th {\n",
       "        vertical-align: top;\n",
       "    }\n",
       "\n",
       "    .dataframe thead th {\n",
       "        text-align: right;\n",
       "    }\n",
       "</style>\n",
       "<table border=\"1\" class=\"dataframe\">\n",
       "  <thead>\n",
       "    <tr style=\"text-align: right;\">\n",
       "      <th></th>\n",
       "      <th>count</th>\n",
       "      <th>fraction</th>\n",
       "    </tr>\n",
       "  </thead>\n",
       "  <tbody>\n",
       "    <tr>\n",
       "      <th>none</th>\n",
       "      <td>7346</td>\n",
       "      <td>0.590040</td>\n",
       "    </tr>\n",
       "    <tr>\n",
       "      <th>Edge-Ring</th>\n",
       "      <td>1936</td>\n",
       "      <td>0.155502</td>\n",
       "    </tr>\n",
       "    <tr>\n",
       "      <th>Edge-Loc</th>\n",
       "      <td>1038</td>\n",
       "      <td>0.083373</td>\n",
       "    </tr>\n",
       "    <tr>\n",
       "      <th>Center</th>\n",
       "      <td>859</td>\n",
       "      <td>0.068996</td>\n",
       "    </tr>\n",
       "    <tr>\n",
       "      <th>Loc</th>\n",
       "      <td>719</td>\n",
       "      <td>0.057751</td>\n",
       "    </tr>\n",
       "    <tr>\n",
       "      <th>Scratch</th>\n",
       "      <td>238</td>\n",
       "      <td>0.019116</td>\n",
       "    </tr>\n",
       "    <tr>\n",
       "      <th>Random</th>\n",
       "      <td>173</td>\n",
       "      <td>0.013896</td>\n",
       "    </tr>\n",
       "    <tr>\n",
       "      <th>Donut</th>\n",
       "      <td>111</td>\n",
       "      <td>0.008916</td>\n",
       "    </tr>\n",
       "    <tr>\n",
       "      <th>Near-full</th>\n",
       "      <td>30</td>\n",
       "      <td>0.002410</td>\n",
       "    </tr>\n",
       "  </tbody>\n",
       "</table>\n",
       "</div>"
      ],
      "text/plain": [
       "           count  fraction\n",
       "none        7346  0.590040\n",
       "Edge-Ring   1936  0.155502\n",
       "Edge-Loc    1038  0.083373\n",
       "Center       859  0.068996\n",
       "Loc          719  0.057751\n",
       "Scratch      238  0.019116\n",
       "Random       173  0.013896\n",
       "Donut        111  0.008916\n",
       "Near-full     30  0.002410"
      ]
     },
     "metadata": {},
     "output_type": "display_data"
    },
    {
     "data": {
      "image/png": "[encoded data removed]",
      "text/plain": [
       "<Figure size 640x480 with 1 Axes>"
      ]
     },
     "metadata": {},
     "output_type": "display_data"
    }
   ],
   "source": [
    "X_train, X_test, y_train, y_test = train_test_split(\n",
    "    data.waferMap,\n",
    "    data.failureType,\n",
    "    test_size=0.2,\n",
    "    stratify=data.failureType,  # stratified split!\n",
    "    random_state=0,\n",
    ")\n",
    "show_breakdown(y_train, title=\"New Train Failure Types\")\n",
    "show_breakdown(y_test, title=\"New Test Failure Types\")"
   ]
  },
  {
   "attachments": {},
   "cell_type": "markdown",
   "metadata": {},
   "source": [
    "For compatibility with image processing libraries, the domain of our NumPy arrays will need to be scaled to an RGB domain."
   ]
  },
  {
   "cell_type": "code",
   "execution_count": 12,
   "metadata": {},
   "outputs": [],
   "source": [
    "# Modified from https://github.com/sparks-baird/xtal2png/blob/main/src/xtal2png/utils/data.py#L138\n",
    "def rgb_scale(\n",
    "    X, feature_range=[0, 255], data_range=None,\n",
    "):\n",
    "    \"\"\"Scales array to RGB domain [0, 255]\n",
    "    \"\"\"\n",
    "    import numpy as np\n",
    "    if not isinstance(X, np.ndarray):\n",
    "        X = np.array(X)\n",
    "    if data_range is None:\n",
    "        data_range = [np.min(X), np.max(X)]\n",
    "    if feature_range is None:\n",
    "        feature_range = [np.min(X), np.max(X)]\n",
    "\n",
    "    data_min, data_max = data_range\n",
    "    feature_min, feature_max = feature_range\n",
    "    X_std = (X - data_min) / (data_max - data_min)\n",
    "    X_scaled = X_std * (feature_max - feature_min) + feature_min\n",
    "    X_scaled = np.round(X_scaled).astype(np.uint8)\n",
    "    return X_scaled"
   ]
  },
  {
   "cell_type": "code",
   "execution_count": 13,
   "metadata": {},
   "outputs": [
    {
     "name": "stdout",
     "output_type": "stream",
     "text": [
      "INFO: Pandarallel will run on 6 workers.\n",
      "INFO: Pandarallel will use standard multiprocessing data transfer (pipe) to transfer data between the main process and workers.\n",
      "\n",
      "WARNING: You are on Windows. If you detect any issue with pandarallel, be sure you checked out the Troubleshooting page:\n",
      "https://nalepae.github.io/pandarallel/troubleshooting/\n"
     ]
    },
    {
     "data": {
      "application/vnd.jupyter.widget-view+json": {
       "model_id": "6ea9c7c7e6d24779a51c4460c3714d8e",
       "version_major": 2,
       "version_minor": 0
      },
      "text/plain": [
       "VBox(children=(HBox(children=(IntProgress(value=0, description='0.00%', max=8300), Label(value='0 / 8300'))), …"
      ]
     },
     "metadata": {},
     "output_type": "display_data"
    },
    {
     "data": {
      "application/vnd.jupyter.widget-view+json": {
       "model_id": "c864376325be4fd19923546258ea4b1c",
       "version_major": 2,
       "version_minor": 0
      },
      "text/plain": [
       "VBox(children=(HBox(children=(IntProgress(value=0, description='0.00%', max=2075), Label(value='0 / 2075'))), …"
      ]
     },
     "metadata": {},
     "output_type": "display_data"
    }
   ],
   "source": [
    "from pandarallel import pandarallel  # for parallel processing of df.apply, df.applymap\n",
    "\n",
    "pandarallel.initialize(progress_bar=True)\n",
    "\n",
    "X_train = X_train.parallel_apply(rgb_scale)\n",
    "X_test = X_test.parallel_apply(rgb_scale)"
   ]
  },
  {
   "attachments": {},
   "cell_type": "markdown",
   "metadata": {},
   "source": [
    "Additionally, we'll want to have a column with category codes (integers) instead of just the failure types (strings)"
   ]
  },
  {
   "cell_type": "code",
   "execution_count": 14,
   "metadata": {},
   "outputs": [
    {
     "data": {
      "text/html": [
       "<div>\n",
       "<style scoped>\n",
       "    .dataframe tbody tr th:only-of-type {\n",
       "        vertical-align: middle;\n",
       "    }\n",
       "\n",
       "    .dataframe tbody tr th {\n",
       "        vertical-align: top;\n",
       "    }\n",
       "\n",
       "    .dataframe thead th {\n",
       "        text-align: right;\n",
       "    }\n",
       "</style>\n",
       "<table border=\"1\" class=\"dataframe\">\n",
       "  <thead>\n",
       "    <tr style=\"text-align: right;\">\n",
       "      <th></th>\n",
       "      <th>waferMap</th>\n",
       "      <th>failureType</th>\n",
       "      <th>failureCode</th>\n",
       "    </tr>\n",
       "  </thead>\n",
       "  <tbody>\n",
       "    <tr>\n",
       "      <th>43809</th>\n",
       "      <td>[[0, 0, 0, 0, 0, 0, 0, 0, 0, 0, 0, 0, 128, 255...</td>\n",
       "      <td>none</td>\n",
       "      <td>8</td>\n",
       "    </tr>\n",
       "    <tr>\n",
       "      <th>14410</th>\n",
       "      <td>[[0, 0, 0, 0, 0, 0, 0, 0, 0, 0, 0, 0, 0, 0, 0,...</td>\n",
       "      <td>none</td>\n",
       "      <td>8</td>\n",
       "    </tr>\n",
       "    <tr>\n",
       "      <th>2428</th>\n",
       "      <td>[[0, 0, 0, 0, 0, 0, 0, 0, 0, 0, 128, 128, 128,...</td>\n",
       "      <td>none</td>\n",
       "      <td>8</td>\n",
       "    </tr>\n",
       "    <tr>\n",
       "      <th>50938</th>\n",
       "      <td>[[0, 0, 0, 0, 0, 0, 0, 0, 0, 0, 255, 128, 128,...</td>\n",
       "      <td>none</td>\n",
       "      <td>8</td>\n",
       "    </tr>\n",
       "    <tr>\n",
       "      <th>45657</th>\n",
       "      <td>[[0, 0, 0, 0, 0, 0, 0, 0, 0, 0, 0, 0, 0, 0, 0,...</td>\n",
       "      <td>Edge-Ring</td>\n",
       "      <td>3</td>\n",
       "    </tr>\n",
       "    <tr>\n",
       "      <th>...</th>\n",
       "      <td>...</td>\n",
       "      <td>...</td>\n",
       "      <td>...</td>\n",
       "    </tr>\n",
       "    <tr>\n",
       "      <th>775</th>\n",
       "      <td>[[0, 0, 0, 0, 0, 0, 0, 0, 0, 0, 255, 255, 255,...</td>\n",
       "      <td>none</td>\n",
       "      <td>8</td>\n",
       "    </tr>\n",
       "    <tr>\n",
       "      <th>12564</th>\n",
       "      <td>[[0, 0, 0, 0, 0, 0, 0, 0, 0, 0, 0, 0, 0, 255, ...</td>\n",
       "      <td>Edge-Ring</td>\n",
       "      <td>3</td>\n",
       "    </tr>\n",
       "    <tr>\n",
       "      <th>36239</th>\n",
       "      <td>[[0, 0, 0, 0, 0, 0, 0, 0, 0, 0, 0, 0, 255, 255...</td>\n",
       "      <td>none</td>\n",
       "      <td>8</td>\n",
       "    </tr>\n",
       "    <tr>\n",
       "      <th>15061</th>\n",
       "      <td>[[0, 0, 0, 0, 0, 0, 0, 0, 0, 0, 0, 0, 0, 0, 0,...</td>\n",
       "      <td>Edge-Ring</td>\n",
       "      <td>3</td>\n",
       "    </tr>\n",
       "    <tr>\n",
       "      <th>61537</th>\n",
       "      <td>[[0, 0, 0, 0, 0, 0, 0, 0, 0, 0, 0, 128, 255, 1...</td>\n",
       "      <td>Edge-Loc</td>\n",
       "      <td>2</td>\n",
       "    </tr>\n",
       "  </tbody>\n",
       "</table>\n",
       "<p>49798 rows × 3 columns</p>\n",
       "</div>"
      ],
      "text/plain": [
       "                                                waferMap failureType  \\\n",
       "43809  [[0, 0, 0, 0, 0, 0, 0, 0, 0, 0, 0, 0, 128, 255...        none   \n",
       "14410  [[0, 0, 0, 0, 0, 0, 0, 0, 0, 0, 0, 0, 0, 0, 0,...        none   \n",
       "2428   [[0, 0, 0, 0, 0, 0, 0, 0, 0, 0, 128, 128, 128,...        none   \n",
       "50938  [[0, 0, 0, 0, 0, 0, 0, 0, 0, 0, 255, 128, 128,...        none   \n",
       "45657  [[0, 0, 0, 0, 0, 0, 0, 0, 0, 0, 0, 0, 0, 0, 0,...   Edge-Ring   \n",
       "...                                                  ...         ...   \n",
       "775    [[0, 0, 0, 0, 0, 0, 0, 0, 0, 0, 255, 255, 255,...        none   \n",
       "12564  [[0, 0, 0, 0, 0, 0, 0, 0, 0, 0, 0, 0, 0, 255, ...   Edge-Ring   \n",
       "36239  [[0, 0, 0, 0, 0, 0, 0, 0, 0, 0, 0, 0, 255, 255...        none   \n",
       "15061  [[0, 0, 0, 0, 0, 0, 0, 0, 0, 0, 0, 0, 0, 0, 0,...   Edge-Ring   \n",
       "61537  [[0, 0, 0, 0, 0, 0, 0, 0, 0, 0, 0, 128, 255, 1...    Edge-Loc   \n",
       "\n",
       "       failureCode  \n",
       "43809            8  \n",
       "14410            8  \n",
       "2428             8  \n",
       "50938            8  \n",
       "45657            3  \n",
       "...            ...  \n",
       "775              8  \n",
       "12564            3  \n",
       "36239            8  \n",
       "15061            3  \n",
       "61537            2  \n",
       "\n",
       "[49798 rows x 3 columns]"
      ]
     },
     "metadata": {},
     "output_type": "display_data"
    },
    {
     "data": {
      "text/html": [
       "<div>\n",
       "<style scoped>\n",
       "    .dataframe tbody tr th:only-of-type {\n",
       "        vertical-align: middle;\n",
       "    }\n",
       "\n",
       "    .dataframe tbody tr th {\n",
       "        vertical-align: top;\n",
       "    }\n",
       "\n",
       "    .dataframe thead th {\n",
       "        text-align: right;\n",
       "    }\n",
       "</style>\n",
       "<table border=\"1\" class=\"dataframe\">\n",
       "  <thead>\n",
       "    <tr style=\"text-align: right;\">\n",
       "      <th></th>\n",
       "      <th>waferMap</th>\n",
       "      <th>failureType</th>\n",
       "      <th>failureCode</th>\n",
       "    </tr>\n",
       "  </thead>\n",
       "  <tbody>\n",
       "    <tr>\n",
       "      <th>40277</th>\n",
       "      <td>[[0, 0, 0, 0, 0, 0, 0, 0, 0, 0, 0, 0, 255, 255...</td>\n",
       "      <td>none</td>\n",
       "      <td>8</td>\n",
       "    </tr>\n",
       "    <tr>\n",
       "      <th>16953</th>\n",
       "      <td>[[0, 0, 0, 0, 0, 0, 0, 0, 0, 0, 0, 0, 128, 128...</td>\n",
       "      <td>none</td>\n",
       "      <td>8</td>\n",
       "    </tr>\n",
       "    <tr>\n",
       "      <th>20406</th>\n",
       "      <td>[[0, 0, 0, 0, 0, 0, 0, 0, 0, 0, 0, 0, 0, 0, 0,...</td>\n",
       "      <td>Donut</td>\n",
       "      <td>1</td>\n",
       "    </tr>\n",
       "    <tr>\n",
       "      <th>6103</th>\n",
       "      <td>[[0, 0, 0, 0, 0, 0, 0, 0, 0, 0, 128, 255, 128,...</td>\n",
       "      <td>none</td>\n",
       "      <td>8</td>\n",
       "    </tr>\n",
       "    <tr>\n",
       "      <th>13716</th>\n",
       "      <td>[[0, 0, 0, 0, 0, 0, 0, 0, 0, 0, 0, 0, 0, 0, 0,...</td>\n",
       "      <td>Edge-Ring</td>\n",
       "      <td>3</td>\n",
       "    </tr>\n",
       "    <tr>\n",
       "      <th>...</th>\n",
       "      <td>...</td>\n",
       "      <td>...</td>\n",
       "      <td>...</td>\n",
       "    </tr>\n",
       "    <tr>\n",
       "      <th>33448</th>\n",
       "      <td>[[0, 0, 0, 0, 0, 0, 0, 0, 0, 0, 0, 0, 255, 128...</td>\n",
       "      <td>none</td>\n",
       "      <td>8</td>\n",
       "    </tr>\n",
       "    <tr>\n",
       "      <th>5111</th>\n",
       "      <td>[[0, 0, 0, 0, 0, 0, 0, 0, 0, 0, 128, 128, 128,...</td>\n",
       "      <td>none</td>\n",
       "      <td>8</td>\n",
       "    </tr>\n",
       "    <tr>\n",
       "      <th>37139</th>\n",
       "      <td>[[0, 0, 0, 0, 0, 0, 0, 0, 0, 0, 0, 0, 255, 255...</td>\n",
       "      <td>none</td>\n",
       "      <td>8</td>\n",
       "    </tr>\n",
       "    <tr>\n",
       "      <th>14678</th>\n",
       "      <td>[[0, 0, 0, 0, 0, 0, 0, 0, 0, 0, 0, 0, 0, 0, 0,...</td>\n",
       "      <td>none</td>\n",
       "      <td>8</td>\n",
       "    </tr>\n",
       "    <tr>\n",
       "      <th>1455</th>\n",
       "      <td>[[0, 0, 0, 0, 0, 0, 0, 0, 0, 0, 255, 255, 128,...</td>\n",
       "      <td>none</td>\n",
       "      <td>8</td>\n",
       "    </tr>\n",
       "  </tbody>\n",
       "</table>\n",
       "<p>12450 rows × 3 columns</p>\n",
       "</div>"
      ],
      "text/plain": [
       "                                                waferMap failureType  \\\n",
       "40277  [[0, 0, 0, 0, 0, 0, 0, 0, 0, 0, 0, 0, 255, 255...        none   \n",
       "16953  [[0, 0, 0, 0, 0, 0, 0, 0, 0, 0, 0, 0, 128, 128...        none   \n",
       "20406  [[0, 0, 0, 0, 0, 0, 0, 0, 0, 0, 0, 0, 0, 0, 0,...       Donut   \n",
       "6103   [[0, 0, 0, 0, 0, 0, 0, 0, 0, 0, 128, 255, 128,...        none   \n",
       "13716  [[0, 0, 0, 0, 0, 0, 0, 0, 0, 0, 0, 0, 0, 0, 0,...   Edge-Ring   \n",
       "...                                                  ...         ...   \n",
       "33448  [[0, 0, 0, 0, 0, 0, 0, 0, 0, 0, 0, 0, 255, 128...        none   \n",
       "5111   [[0, 0, 0, 0, 0, 0, 0, 0, 0, 0, 128, 128, 128,...        none   \n",
       "37139  [[0, 0, 0, 0, 0, 0, 0, 0, 0, 0, 0, 0, 255, 255...        none   \n",
       "14678  [[0, 0, 0, 0, 0, 0, 0, 0, 0, 0, 0, 0, 0, 0, 0,...        none   \n",
       "1455   [[0, 0, 0, 0, 0, 0, 0, 0, 0, 0, 255, 255, 128,...        none   \n",
       "\n",
       "       failureCode  \n",
       "40277            8  \n",
       "16953            8  \n",
       "20406            1  \n",
       "6103             8  \n",
       "13716            3  \n",
       "...            ...  \n",
       "33448            8  \n",
       "5111             8  \n",
       "37139            8  \n",
       "14678            8  \n",
       "1455             8  \n",
       "\n",
       "[12450 rows x 3 columns]"
      ]
     },
     "metadata": {},
     "output_type": "display_data"
    }
   ],
   "source": [
    "# Create a column of category codes for failureType\n",
    "y_train_codes = y_train.astype(\"category\").cat.codes\n",
    "y_test_codes = y_test.astype(\"category\").cat.codes\n",
    "y_train_codes.name = y_test_codes.name = \"failureCode\"\n",
    "\n",
    "train_data = pd.concat([X_train, y_train, y_train_codes], axis=\"columns\")\n",
    "test_data = pd.concat([X_test, y_test, y_test_codes], axis=\"columns\")\n",
    "\n",
    "display(train_data)\n",
    "display(test_data)"
   ]
  },
  {
   "attachments": {},
   "cell_type": "markdown",
   "metadata": {},
   "source": [
    "Now, we'll create further splits of our data for the purpose of fine-tuning and comparing against fully supervised baselines. These splits will come from the training dataset. Recall we created an 80/20 split for `train_data` and `test_data`. This `train_data` will be broken down into a validation set and multiple subsets for finetuning: one with 1\\% of the training labels, another 10\\%, another with 20\\%, and the last will have the 29\\% leftover. First, we create the `val_data` and initial `train_split` below:"
   ]
  },
  {
   "cell_type": "code",
   "execution_count": 16,
   "metadata": {},
   "outputs": [
    {
     "data": {
      "text/html": [
       "<div>\n",
       "<style scoped>\n",
       "    .dataframe tbody tr th:only-of-type {\n",
       "        vertical-align: middle;\n",
       "    }\n",
       "\n",
       "    .dataframe tbody tr th {\n",
       "        vertical-align: top;\n",
       "    }\n",
       "\n",
       "    .dataframe thead th {\n",
       "        text-align: right;\n",
       "    }\n",
       "</style>\n",
       "<table border=\"1\" class=\"dataframe\">\n",
       "  <thead>\n",
       "    <tr style=\"text-align: right;\">\n",
       "      <th></th>\n",
       "      <th>waferMap</th>\n",
       "      <th>failureType</th>\n",
       "      <th>failureCode</th>\n",
       "    </tr>\n",
       "  </thead>\n",
       "  <tbody>\n",
       "    <tr>\n",
       "      <th>53885</th>\n",
       "      <td>[[0, 0, 0, 0, 0, 0, 0, 0, 0, 0, 255, 128, 128,...</td>\n",
       "      <td>none</td>\n",
       "      <td>8</td>\n",
       "    </tr>\n",
       "    <tr>\n",
       "      <th>41170</th>\n",
       "      <td>[[0, 0, 0, 0, 0, 0, 0, 0, 0, 0, 0, 0, 128, 128...</td>\n",
       "      <td>none</td>\n",
       "      <td>8</td>\n",
       "    </tr>\n",
       "    <tr>\n",
       "      <th>32829</th>\n",
       "      <td>[[0, 0, 0, 0, 0, 0, 0, 0, 0, 0, 0, 0, 255, 255...</td>\n",
       "      <td>none</td>\n",
       "      <td>8</td>\n",
       "    </tr>\n",
       "    <tr>\n",
       "      <th>52860</th>\n",
       "      <td>[[0, 0, 0, 0, 0, 0, 0, 0, 0, 0, 128, 128, 128,...</td>\n",
       "      <td>none</td>\n",
       "      <td>8</td>\n",
       "    </tr>\n",
       "    <tr>\n",
       "      <th>13414</th>\n",
       "      <td>[[0, 0, 0, 0, 0, 0, 0, 0, 0, 0, 0, 0, 0, 0, 0,...</td>\n",
       "      <td>Edge-Ring</td>\n",
       "      <td>3</td>\n",
       "    </tr>\n",
       "    <tr>\n",
       "      <th>...</th>\n",
       "      <td>...</td>\n",
       "      <td>...</td>\n",
       "      <td>...</td>\n",
       "    </tr>\n",
       "    <tr>\n",
       "      <th>55641</th>\n",
       "      <td>[[0, 0, 0, 0, 0, 0, 0, 0, 0, 0, 0, 0, 0, 0, 25...</td>\n",
       "      <td>Loc</td>\n",
       "      <td>4</td>\n",
       "    </tr>\n",
       "    <tr>\n",
       "      <th>51722</th>\n",
       "      <td>[[0, 0, 0, 0, 0, 0, 0, 0, 0, 0, 255, 128, 128,...</td>\n",
       "      <td>none</td>\n",
       "      <td>8</td>\n",
       "    </tr>\n",
       "    <tr>\n",
       "      <th>58887</th>\n",
       "      <td>[[0, 0, 0, 0, 0, 0, 0, 0, 0, 0, 0, 0, 0, 0, 12...</td>\n",
       "      <td>none</td>\n",
       "      <td>8</td>\n",
       "    </tr>\n",
       "    <tr>\n",
       "      <th>37900</th>\n",
       "      <td>[[0, 0, 0, 0, 0, 0, 0, 0, 0, 0, 0, 0, 255, 128...</td>\n",
       "      <td>none</td>\n",
       "      <td>8</td>\n",
       "    </tr>\n",
       "    <tr>\n",
       "      <th>57530</th>\n",
       "      <td>[[0, 0, 0, 0, 0, 0, 0, 0, 0, 0, 0, 0, 0, 0, 0,...</td>\n",
       "      <td>Loc</td>\n",
       "      <td>4</td>\n",
       "    </tr>\n",
       "  </tbody>\n",
       "</table>\n",
       "<p>37348 rows × 3 columns</p>\n",
       "</div>"
      ],
      "text/plain": [
       "                                                waferMap failureType  \\\n",
       "53885  [[0, 0, 0, 0, 0, 0, 0, 0, 0, 0, 255, 128, 128,...        none   \n",
       "41170  [[0, 0, 0, 0, 0, 0, 0, 0, 0, 0, 0, 0, 128, 128...        none   \n",
       "32829  [[0, 0, 0, 0, 0, 0, 0, 0, 0, 0, 0, 0, 255, 255...        none   \n",
       "52860  [[0, 0, 0, 0, 0, 0, 0, 0, 0, 0, 128, 128, 128,...        none   \n",
       "13414  [[0, 0, 0, 0, 0, 0, 0, 0, 0, 0, 0, 0, 0, 0, 0,...   Edge-Ring   \n",
       "...                                                  ...         ...   \n",
       "55641  [[0, 0, 0, 0, 0, 0, 0, 0, 0, 0, 0, 0, 0, 0, 25...         Loc   \n",
       "51722  [[0, 0, 0, 0, 0, 0, 0, 0, 0, 0, 255, 128, 128,...        none   \n",
       "58887  [[0, 0, 0, 0, 0, 0, 0, 0, 0, 0, 0, 0, 0, 0, 12...        none   \n",
       "37900  [[0, 0, 0, 0, 0, 0, 0, 0, 0, 0, 0, 0, 255, 128...        none   \n",
       "57530  [[0, 0, 0, 0, 0, 0, 0, 0, 0, 0, 0, 0, 0, 0, 0,...         Loc   \n",
       "\n",
       "       failureCode  \n",
       "53885            8  \n",
       "41170            8  \n",
       "32829            8  \n",
       "52860            8  \n",
       "13414            3  \n",
       "...            ...  \n",
       "55641            4  \n",
       "51722            8  \n",
       "58887            8  \n",
       "37900            8  \n",
       "57530            4  \n",
       "\n",
       "[37348 rows x 3 columns]"
      ]
     },
     "metadata": {},
     "output_type": "display_data"
    },
    {
     "data": {
      "text/html": [
       "<div>\n",
       "<style scoped>\n",
       "    .dataframe tbody tr th:only-of-type {\n",
       "        vertical-align: middle;\n",
       "    }\n",
       "\n",
       "    .dataframe tbody tr th {\n",
       "        vertical-align: top;\n",
       "    }\n",
       "\n",
       "    .dataframe thead th {\n",
       "        text-align: right;\n",
       "    }\n",
       "</style>\n",
       "<table border=\"1\" class=\"dataframe\">\n",
       "  <thead>\n",
       "    <tr style=\"text-align: right;\">\n",
       "      <th></th>\n",
       "      <th>waferMap</th>\n",
       "      <th>failureType</th>\n",
       "      <th>failureCode</th>\n",
       "    </tr>\n",
       "  </thead>\n",
       "  <tbody>\n",
       "    <tr>\n",
       "      <th>23933</th>\n",
       "      <td>[[0, 0, 0, 0, 0, 0, 0, 0, 0, 0, 0, 0, 0, 255, ...</td>\n",
       "      <td>Edge-Ring</td>\n",
       "      <td>3</td>\n",
       "    </tr>\n",
       "    <tr>\n",
       "      <th>27571</th>\n",
       "      <td>[[0, 0, 0, 0, 0, 0, 0, 0, 0, 0, 0, 0, 128, 128...</td>\n",
       "      <td>Edge-Loc</td>\n",
       "      <td>2</td>\n",
       "    </tr>\n",
       "    <tr>\n",
       "      <th>54216</th>\n",
       "      <td>[[0, 0, 0, 0, 0, 0, 0, 0, 0, 0, 255, 255, 255,...</td>\n",
       "      <td>none</td>\n",
       "      <td>8</td>\n",
       "    </tr>\n",
       "    <tr>\n",
       "      <th>6419</th>\n",
       "      <td>[[0, 0, 0, 0, 0, 0, 0, 0, 0, 0, 0, 0, 0, 0, 0,...</td>\n",
       "      <td>none</td>\n",
       "      <td>8</td>\n",
       "    </tr>\n",
       "    <tr>\n",
       "      <th>6697</th>\n",
       "      <td>[[0, 0, 0, 0, 0, 0, 0, 0, 0, 0, 0, 0, 0, 0, 0,...</td>\n",
       "      <td>none</td>\n",
       "      <td>8</td>\n",
       "    </tr>\n",
       "    <tr>\n",
       "      <th>...</th>\n",
       "      <td>...</td>\n",
       "      <td>...</td>\n",
       "      <td>...</td>\n",
       "    </tr>\n",
       "    <tr>\n",
       "      <th>57145</th>\n",
       "      <td>[[0, 0, 0, 0, 0, 0, 0, 0, 0, 0, 0, 0, 0, 0, 0,...</td>\n",
       "      <td>Loc</td>\n",
       "      <td>4</td>\n",
       "    </tr>\n",
       "    <tr>\n",
       "      <th>56854</th>\n",
       "      <td>[[0, 0, 0, 0, 0, 0, 0, 0, 0, 0, 0, 0, 0, 0, 0,...</td>\n",
       "      <td>none</td>\n",
       "      <td>8</td>\n",
       "    </tr>\n",
       "    <tr>\n",
       "      <th>19726</th>\n",
       "      <td>[[0, 0, 0, 0, 0, 0, 0, 0, 0, 0, 0, 0, 0, 0, 0,...</td>\n",
       "      <td>Edge-Ring</td>\n",
       "      <td>3</td>\n",
       "    </tr>\n",
       "    <tr>\n",
       "      <th>45974</th>\n",
       "      <td>[[0, 0, 0, 0, 0, 0, 0, 0, 0, 0, 255, 255, 255,...</td>\n",
       "      <td>none</td>\n",
       "      <td>8</td>\n",
       "    </tr>\n",
       "    <tr>\n",
       "      <th>9442</th>\n",
       "      <td>[[0, 0, 0, 0, 0, 0, 0, 0, 0, 0, 0, 0, 128, 128...</td>\n",
       "      <td>Loc</td>\n",
       "      <td>4</td>\n",
       "    </tr>\n",
       "  </tbody>\n",
       "</table>\n",
       "<p>12450 rows × 3 columns</p>\n",
       "</div>"
      ],
      "text/plain": [
       "                                                waferMap failureType  \\\n",
       "23933  [[0, 0, 0, 0, 0, 0, 0, 0, 0, 0, 0, 0, 0, 255, ...   Edge-Ring   \n",
       "27571  [[0, 0, 0, 0, 0, 0, 0, 0, 0, 0, 0, 0, 128, 128...    Edge-Loc   \n",
       "54216  [[0, 0, 0, 0, 0, 0, 0, 0, 0, 0, 255, 255, 255,...        none   \n",
       "6419   [[0, 0, 0, 0, 0, 0, 0, 0, 0, 0, 0, 0, 0, 0, 0,...        none   \n",
       "6697   [[0, 0, 0, 0, 0, 0, 0, 0, 0, 0, 0, 0, 0, 0, 0,...        none   \n",
       "...                                                  ...         ...   \n",
       "57145  [[0, 0, 0, 0, 0, 0, 0, 0, 0, 0, 0, 0, 0, 0, 0,...         Loc   \n",
       "56854  [[0, 0, 0, 0, 0, 0, 0, 0, 0, 0, 0, 0, 0, 0, 0,...        none   \n",
       "19726  [[0, 0, 0, 0, 0, 0, 0, 0, 0, 0, 0, 0, 0, 0, 0,...   Edge-Ring   \n",
       "45974  [[0, 0, 0, 0, 0, 0, 0, 0, 0, 0, 255, 255, 255,...        none   \n",
       "9442   [[0, 0, 0, 0, 0, 0, 0, 0, 0, 0, 0, 0, 128, 128...         Loc   \n",
       "\n",
       "       failureCode  \n",
       "23933            3  \n",
       "27571            2  \n",
       "54216            8  \n",
       "6419             8  \n",
       "6697             8  \n",
       "...            ...  \n",
       "57145            4  \n",
       "56854            8  \n",
       "19726            3  \n",
       "45974            8  \n",
       "9442             4  \n",
       "\n",
       "[12450 rows x 3 columns]"
      ]
     },
     "metadata": {},
     "output_type": "display_data"
    }
   ],
   "source": [
    "# Make val_data 20% of the full dataset like test_data by doing 0.25 * 80%\n",
    "train_split, val_data = train_test_split(\n",
    "    train_data, test_size=0.25, stratify=train_data.failureType, random_state=0\n",
    ")\n",
    "# train_split is now 0.75 * 80 = 60% of original dataset (60% of all labels)\n",
    "display(train_split)\n",
    "display(val_data)"
   ]
  },
  {
   "attachments": {},
   "cell_type": "markdown",
   "metadata": {},
   "source": [
    "Now we use the `train_split` to create further splits for finetuning. Below this, we've included an icicle plot that visualizes the splits and their parent splits from the data to make things a bit more intuitive."
   ]
  },
  {
   "cell_type": "code",
   "execution_count": 63,
   "metadata": {},
   "outputs": [
    {
     "name": "stdout",
     "output_type": "stream",
     "text": [
      "0.01 split 0.01001\n",
      "0.10 split 0.10000\n",
      "0.20 split 0.19999\n",
      "0.29 split 0.28999\n",
      "0.49 split 0.48998\n",
      "0.59 split 0.58998\n",
      "\n",
      "full train data 0.79999\n",
      "val data 0.20001\n",
      "test data 0.20001\n"
     ]
    }
   ],
   "source": [
    "# Grab a 1% split from the 60% remaining data\n",
    "train_59_split, train_1_split = train_test_split(\n",
    "    train_split, test_size=1 / 60, stratify=train_split.failureType, random_state=0\n",
    ")\n",
    "# Grab a 10% split from the 59% remaining data\n",
    "train_49_split, train_10_split = train_test_split(\n",
    "    train_59_split,\n",
    "    test_size=10 / 59,\n",
    "    stratify=train_59_split.failureType,\n",
    "    random_state=0,\n",
    ")\n",
    "# Grab a 20% split from the 49% remaining data\n",
    "train_29_split, train_20_split = train_test_split(\n",
    "    train_49_split,\n",
    "    test_size=20 / 49,\n",
    "    stratify=train_49_split.failureType,\n",
    "    random_state=0,\n",
    ")\n",
    "# Sanity checks for lengths of all these splits\n",
    "print(f\"0.01 split {len(train_1_split) / (len(data)):.5f}\")\n",
    "print(f\"0.10 split {len(train_10_split) / (len(data)):.5f}\")\n",
    "print(f\"0.20 split {len(train_20_split) / (len(data)):.5f}\")\n",
    "print(f\"0.29 split {len(train_29_split) / (len(data)):.5f}\")\n",
    "print(f\"0.49 split {len(train_49_split) / (len(data)):.5f}\")\n",
    "print(f\"0.59 split {len(train_59_split) / (len(data)):.5f}\\n\")\n",
    "print(f\"full train data {len(train_data) / (len(data)):.5f}\")\n",
    "print(f\"val data {len(val_data) / (len(data)):.5f}\")\n",
    "print(f\"test data {len(test_data) / (len(data)):.5f}\")"
   ]
  },
  {
   "cell_type": "code",
   "execution_count": 66,
   "metadata": {},
   "outputs": [
    {
     "data": {
      "application/vnd.plotly.v1+json": {
       "config": {
        "plotlyServerURL": "https://plot.ly"
       },
       "data": [
        {
         "branchvalues": "total",
         "labels": [
          "Full Data (100)",
          "Full Train Data (80)",
          "Test Data (20)",
          "Val Data (20)",
          "Rest of Train Split (60)",
          "1% Train Finetune",
          "Remaining (59)",
          "10% Train Finetune",
          "Remaining (49)",
          "20% Train Finetune",
          "29% Train Finetune"
         ],
         "parents": [
          "",
          "Full Data (100)",
          "Full Data (100)",
          "Full Train Data (80)",
          "Full Train Data (80)",
          "Rest of Train Split (60)",
          "Rest of Train Split (60)",
          "Remaining (59)",
          "Remaining (59)",
          "Remaining (49)",
          "Remaining (49)"
         ],
         "root": {
          "color": "lightgrey"
         },
         "type": "icicle",
         "values": [
          62248,
          49798,
          12450,
          12450,
          37348,
          623,
          36725,
          6225,
          30500,
          12449,
          18051
         ]
        }
       ],
       "layout": {
        "margin": {
         "b": 25,
         "l": 25,
         "r": 25,
         "t": 50
        },
        "template": {
         "data": {
          "bar": [
           {
            "error_x": {
             "color": "#2a3f5f"
            },
            "error_y": {
             "color": "#2a3f5f"
            },
            "marker": {
             "line": {
              "color": "#E5ECF6",
              "width": 0.5
             },
             "pattern": {
              "fillmode": "overlay",
              "size": 10,
              "solidity": 0.2
             }
            },
            "type": "bar"
           }
          ],
          "barpolar": [
           {
            "marker": {
             "line": {
              "color": "#E5ECF6",
              "width": 0.5
             },
             "pattern": {
              "fillmode": "overlay",
              "size": 10,
              "solidity": 0.2
             }
            },
            "type": "barpolar"
           }
          ],
          "carpet": [
           {
            "aaxis": {
             "endlinecolor": "#2a3f5f",
             "gridcolor": "white",
             "linecolor": "white",
             "minorgridcolor": "white",
             "startlinecolor": "#2a3f5f"
            },
            "baxis": {
             "endlinecolor": "#2a3f5f",
             "gridcolor": "white",
             "linecolor": "white",
             "minorgridcolor": "white",
             "startlinecolor": "#2a3f5f"
            },
            "type": "carpet"
           }
          ],
          "choropleth": [
           {
            "colorbar": {
             "outlinewidth": 0,
             "ticks": ""
            },
            "type": "choropleth"
           }
          ],
          "contour": [
           {
            "colorbar": {
             "outlinewidth": 0,
             "ticks": ""
            },
            "colorscale": [
             [
              0,
              "#0d0887"
             ],
             [
              0.1111111111111111,
              "#46039f"
             ],
             [
              0.2222222222222222,
              "#7201a8"
             ],
             [
              0.3333333333333333,
              "#9c179e"
             ],
             [
              0.4444444444444444,
              "#bd3786"
             ],
             [
              0.5555555555555556,
              "#d8576b"
             ],
             [
              0.6666666666666666,
              "#ed7953"
             ],
             [
              0.7777777777777778,
              "#fb9f3a"
             ],
             [
              0.8888888888888888,
              "#fdca26"
             ],
             [
              1,
              "#f0f921"
             ]
            ],
            "type": "contour"
           }
          ],
          "contourcarpet": [
           {
            "colorbar": {
             "outlinewidth": 0,
             "ticks": ""
            },
            "type": "contourcarpet"
           }
          ],
          "heatmap": [
           {
            "colorbar": {
             "outlinewidth": 0,
             "ticks": ""
            },
            "colorscale": [
             [
              0,
              "#0d0887"
             ],
             [
              0.1111111111111111,
              "#46039f"
             ],
             [
              0.2222222222222222,
              "#7201a8"
             ],
             [
              0.3333333333333333,
              "#9c179e"
             ],
             [
              0.4444444444444444,
              "#bd3786"
             ],
             [
              0.5555555555555556,
              "#d8576b"
             ],
             [
              0.6666666666666666,
              "#ed7953"
             ],
             [
              0.7777777777777778,
              "#fb9f3a"
             ],
             [
              0.8888888888888888,
              "#fdca26"
             ],
             [
              1,
              "#f0f921"
             ]
            ],
            "type": "heatmap"
           }
          ],
          "heatmapgl": [
           {
            "colorbar": {
             "outlinewidth": 0,
             "ticks": ""
            },
            "colorscale": [
             [
              0,
              "#0d0887"
             ],
             [
              0.1111111111111111,
              "#46039f"
             ],
             [
              0.2222222222222222,
              "#7201a8"
             ],
             [
              0.3333333333333333,
              "#9c179e"
             ],
             [
              0.4444444444444444,
              "#bd3786"
             ],
             [
              0.5555555555555556,
              "#d8576b"
             ],
             [
              0.6666666666666666,
              "#ed7953"
             ],
             [
              0.7777777777777778,
              "#fb9f3a"
             ],
             [
              0.8888888888888888,
              "#fdca26"
             ],
             [
              1,
              "#f0f921"
             ]
            ],
            "type": "heatmapgl"
           }
          ],
          "histogram": [
           {
            "marker": {
             "pattern": {
              "fillmode": "overlay",
              "size": 10,
              "solidity": 0.2
             }
            },
            "type": "histogram"
           }
          ],
          "histogram2d": [
           {
            "colorbar": {
             "outlinewidth": 0,
             "ticks": ""
            },
            "colorscale": [
             [
              0,
              "#0d0887"
             ],
             [
              0.1111111111111111,
              "#46039f"
             ],
             [
              0.2222222222222222,
              "#7201a8"
             ],
             [
              0.3333333333333333,
              "#9c179e"
             ],
             [
              0.4444444444444444,
              "#bd3786"
             ],
             [
              0.5555555555555556,
              "#d8576b"
             ],
             [
              0.6666666666666666,
              "#ed7953"
             ],
             [
              0.7777777777777778,
              "#fb9f3a"
             ],
             [
              0.8888888888888888,
              "#fdca26"
             ],
             [
              1,
              "#f0f921"
             ]
            ],
            "type": "histogram2d"
           }
          ],
          "histogram2dcontour": [
           {
            "colorbar": {
             "outlinewidth": 0,
             "ticks": ""
            },
            "colorscale": [
             [
              0,
              "#0d0887"
             ],
             [
              0.1111111111111111,
              "#46039f"
             ],
             [
              0.2222222222222222,
              "#7201a8"
             ],
             [
              0.3333333333333333,
              "#9c179e"
             ],
             [
              0.4444444444444444,
              "#bd3786"
             ],
             [
              0.5555555555555556,
              "#d8576b"
             ],
             [
              0.6666666666666666,
              "#ed7953"
             ],
             [
              0.7777777777777778,
              "#fb9f3a"
             ],
             [
              0.8888888888888888,
              "#fdca26"
             ],
             [
              1,
              "#f0f921"
             ]
            ],
            "type": "histogram2dcontour"
           }
          ],
          "mesh3d": [
           {
            "colorbar": {
             "outlinewidth": 0,
             "ticks": ""
            },
            "type": "mesh3d"
           }
          ],
          "parcoords": [
           {
            "line": {
             "colorbar": {
              "outlinewidth": 0,
              "ticks": ""
             }
            },
            "type": "parcoords"
           }
          ],
          "pie": [
           {
            "automargin": true,
            "type": "pie"
           }
          ],
          "scatter": [
           {
            "fillpattern": {
             "fillmode": "overlay",
             "size": 10,
             "solidity": 0.2
            },
            "type": "scatter"
           }
          ],
          "scatter3d": [
           {
            "line": {
             "colorbar": {
              "outlinewidth": 0,
              "ticks": ""
             }
            },
            "marker": {
             "colorbar": {
              "outlinewidth": 0,
              "ticks": ""
             }
            },
            "type": "scatter3d"
           }
          ],
          "scattercarpet": [
           {
            "marker": {
             "colorbar": {
              "outlinewidth": 0,
              "ticks": ""
             }
            },
            "type": "scattercarpet"
           }
          ],
          "scattergeo": [
           {
            "marker": {
             "colorbar": {
              "outlinewidth": 0,
              "ticks": ""
             }
            },
            "type": "scattergeo"
           }
          ],
          "scattergl": [
           {
            "marker": {
             "colorbar": {
              "outlinewidth": 0,
              "ticks": ""
             }
            },
            "type": "scattergl"
           }
          ],
          "scattermapbox": [
           {
            "marker": {
             "colorbar": {
              "outlinewidth": 0,
              "ticks": ""
             }
            },
            "type": "scattermapbox"
           }
          ],
          "scatterpolar": [
           {
            "marker": {
             "colorbar": {
              "outlinewidth": 0,
              "ticks": ""
             }
            },
            "type": "scatterpolar"
           }
          ],
          "scatterpolargl": [
           {
            "marker": {
             "colorbar": {
              "outlinewidth": 0,
              "ticks": ""
             }
            },
            "type": "scatterpolargl"
           }
          ],
          "scatterternary": [
           {
            "marker": {
             "colorbar": {
              "outlinewidth": 0,
              "ticks": ""
             }
            },
            "type": "scatterternary"
           }
          ],
          "surface": [
           {
            "colorbar": {
             "outlinewidth": 0,
             "ticks": ""
            },
            "colorscale": [
             [
              0,
              "#0d0887"
             ],
             [
              0.1111111111111111,
              "#46039f"
             ],
             [
              0.2222222222222222,
              "#7201a8"
             ],
             [
              0.3333333333333333,
              "#9c179e"
             ],
             [
              0.4444444444444444,
              "#bd3786"
             ],
             [
              0.5555555555555556,
              "#d8576b"
             ],
             [
              0.6666666666666666,
              "#ed7953"
             ],
             [
              0.7777777777777778,
              "#fb9f3a"
             ],
             [
              0.8888888888888888,
              "#fdca26"
             ],
             [
              1,
              "#f0f921"
             ]
            ],
            "type": "surface"
           }
          ],
          "table": [
           {
            "cells": {
             "fill": {
              "color": "#EBF0F8"
             },
             "line": {
              "color": "white"
             }
            },
            "header": {
             "fill": {
              "color": "#C8D4E3"
             },
             "line": {
              "color": "white"
             }
            },
            "type": "table"
           }
          ]
         },
         "layout": {
          "annotationdefaults": {
           "arrowcolor": "#2a3f5f",
           "arrowhead": 0,
           "arrowwidth": 1
          },
          "autotypenumbers": "strict",
          "coloraxis": {
           "colorbar": {
            "outlinewidth": 0,
            "ticks": ""
           }
          },
          "colorscale": {
           "diverging": [
            [
             0,
             "#8e0152"
            ],
            [
             0.1,
             "#c51b7d"
            ],
            [
             0.2,
             "#de77ae"
            ],
            [
             0.3,
             "#f1b6da"
            ],
            [
             0.4,
             "#fde0ef"
            ],
            [
             0.5,
             "#f7f7f7"
            ],
            [
             0.6,
             "#e6f5d0"
            ],
            [
             0.7,
             "#b8e186"
            ],
            [
             0.8,
             "#7fbc41"
            ],
            [
             0.9,
             "#4d9221"
            ],
            [
             1,
             "#276419"
            ]
           ],
           "sequential": [
            [
             0,
             "#0d0887"
            ],
            [
             0.1111111111111111,
             "#46039f"
            ],
            [
             0.2222222222222222,
             "#7201a8"
            ],
            [
             0.3333333333333333,
             "#9c179e"
            ],
            [
             0.4444444444444444,
             "#bd3786"
            ],
            [
             0.5555555555555556,
             "#d8576b"
            ],
            [
             0.6666666666666666,
             "#ed7953"
            ],
            [
             0.7777777777777778,
             "#fb9f3a"
            ],
            [
             0.8888888888888888,
             "#fdca26"
            ],
            [
             1,
             "#f0f921"
            ]
           ],
           "sequentialminus": [
            [
             0,
             "#0d0887"
            ],
            [
             0.1111111111111111,
             "#46039f"
            ],
            [
             0.2222222222222222,
             "#7201a8"
            ],
            [
             0.3333333333333333,
             "#9c179e"
            ],
            [
             0.4444444444444444,
             "#bd3786"
            ],
            [
             0.5555555555555556,
             "#d8576b"
            ],
            [
             0.6666666666666666,
             "#ed7953"
            ],
            [
             0.7777777777777778,
             "#fb9f3a"
            ],
            [
             0.8888888888888888,
             "#fdca26"
            ],
            [
             1,
             "#f0f921"
            ]
           ]
          },
          "colorway": [
           "#636efa",
           "#EF553B",
           "#00cc96",
           "#ab63fa",
           "#FFA15A",
           "#19d3f3",
           "#FF6692",
           "#B6E880",
           "#FF97FF",
           "#FECB52"
          ],
          "font": {
           "color": "#2a3f5f"
          },
          "geo": {
           "bgcolor": "white",
           "lakecolor": "white",
           "landcolor": "#E5ECF6",
           "showlakes": true,
           "showland": true,
           "subunitcolor": "white"
          },
          "hoverlabel": {
           "align": "left"
          },
          "hovermode": "closest",
          "mapbox": {
           "style": "light"
          },
          "paper_bgcolor": "white",
          "plot_bgcolor": "#E5ECF6",
          "polar": {
           "angularaxis": {
            "gridcolor": "white",
            "linecolor": "white",
            "ticks": ""
           },
           "bgcolor": "#E5ECF6",
           "radialaxis": {
            "gridcolor": "white",
            "linecolor": "white",
            "ticks": ""
           }
          },
          "scene": {
           "xaxis": {
            "backgroundcolor": "#E5ECF6",
            "gridcolor": "white",
            "gridwidth": 2,
            "linecolor": "white",
            "showbackground": true,
            "ticks": "",
            "zerolinecolor": "white"
           },
           "yaxis": {
            "backgroundcolor": "#E5ECF6",
            "gridcolor": "white",
            "gridwidth": 2,
            "linecolor": "white",
            "showbackground": true,
            "ticks": "",
            "zerolinecolor": "white"
           },
           "zaxis": {
            "backgroundcolor": "#E5ECF6",
            "gridcolor": "white",
            "gridwidth": 2,
            "linecolor": "white",
            "showbackground": true,
            "ticks": "",
            "zerolinecolor": "white"
           }
          },
          "shapedefaults": {
           "line": {
            "color": "#2a3f5f"
           }
          },
          "ternary": {
           "aaxis": {
            "gridcolor": "white",
            "linecolor": "white",
            "ticks": ""
           },
           "baxis": {
            "gridcolor": "white",
            "linecolor": "white",
            "ticks": ""
           },
           "bgcolor": "#E5ECF6",
           "caxis": {
            "gridcolor": "white",
            "linecolor": "white",
            "ticks": ""
           }
          },
          "title": {
           "x": 0.05
          },
          "xaxis": {
           "automargin": true,
           "gridcolor": "white",
           "linecolor": "white",
           "ticks": "",
           "title": {
            "standoff": 15
           },
           "zerolinecolor": "white",
           "zerolinewidth": 2
          },
          "yaxis": {
           "automargin": true,
           "gridcolor": "white",
           "linecolor": "white",
           "ticks": "",
           "title": {
            "standoff": 15
           },
           "zerolinecolor": "white",
           "zerolinewidth": 2
          }
         }
        }
       }
      }
     },
     "metadata": {},
     "output_type": "display_data"
    }
   ],
   "source": [
    "import plotly.graph_objects as go\n",
    "\n",
    "# Make an icicle plot for our paper showing breakdown of data\n",
    "fig = go.Figure(\n",
    "    go.Icicle(\n",
    "        labels=[\n",
    "            \"Full Data (100)\",\n",
    "            \"Full Train Data (80)\",\n",
    "            \"Test Data (20)\",\n",
    "            \"Val Data (20)\",\n",
    "            \"Rest of Train Split (60)\",\n",
    "            \"1% Train Finetune\",\n",
    "            \"Remaining (59)\",\n",
    "            \"10% Train Finetune\",\n",
    "            \"Remaining (49)\",\n",
    "            \"20% Train Finetune\",\n",
    "            \"29% Train Finetune\",\n",
    "        ],\n",
    "        parents=[\n",
    "            \"\",\n",
    "            \"Full Data (100)\",\n",
    "            \"Full Data (100)\",\n",
    "            \"Full Train Data (80)\",\n",
    "            \"Full Train Data (80)\",\n",
    "            \"Rest of Train Split (60)\",\n",
    "            \"Rest of Train Split (60)\",\n",
    "            \"Remaining (59)\",\n",
    "            \"Remaining (59)\",\n",
    "            \"Remaining (49)\",\n",
    "            \"Remaining (49)\",\n",
    "        ],\n",
    "        values = [\n",
    "            len(data),\n",
    "            len(train_data),\n",
    "            len(test_data),\n",
    "            len(val_data),\n",
    "            len(train_split),\n",
    "            len(train_1_split),\n",
    "            len(train_59_split),\n",
    "            len(train_10_split),\n",
    "            len(train_49_split),\n",
    "            len(train_20_split),\n",
    "            len(train_29_split)\n",
    "        ],\n",
    "        branchvalues=\"total\",\n",
    "        root_color=\"lightgrey\"\n",
    "    )\n",
    ")\n",
    "\n",
    "fig.update_layout(margin = dict(t=50, l=25, r=25, b=25))\n",
    "fig.show()"
   ]
  },
  {
   "attachments": {},
   "cell_type": "markdown",
   "metadata": {},
   "source": [
    "Note that because we've done stratified splits, the breakdowns of failure categories in each split is ***the same***! As a sanity check, we show that the distributions of categories are exactly the same across all our new splits `train_1_split`, `train_10_split`, `train_20_split`, `train_29_split`, and `val_data`"
   ]
  },
  {
   "cell_type": "code",
   "execution_count": 65,
   "metadata": {},
   "outputs": [
    {
     "name": "stdout",
     "output_type": "stream",
     "text": [
      "623\n"
     ]
    },
    {
     "data": {
      "text/html": [
       "<div>\n",
       "<style scoped>\n",
       "    .dataframe tbody tr th:only-of-type {\n",
       "        vertical-align: middle;\n",
       "    }\n",
       "\n",
       "    .dataframe tbody tr th {\n",
       "        vertical-align: top;\n",
       "    }\n",
       "\n",
       "    .dataframe thead th {\n",
       "        text-align: right;\n",
       "    }\n",
       "</style>\n",
       "<table border=\"1\" class=\"dataframe\">\n",
       "  <thead>\n",
       "    <tr style=\"text-align: right;\">\n",
       "      <th></th>\n",
       "      <th>count</th>\n",
       "      <th>fraction</th>\n",
       "    </tr>\n",
       "  </thead>\n",
       "  <tbody>\n",
       "    <tr>\n",
       "      <th>none</th>\n",
       "      <td>368</td>\n",
       "      <td>0.590690</td>\n",
       "    </tr>\n",
       "    <tr>\n",
       "      <th>Edge-Ring</th>\n",
       "      <td>97</td>\n",
       "      <td>0.155698</td>\n",
       "    </tr>\n",
       "    <tr>\n",
       "      <th>Edge-Loc</th>\n",
       "      <td>52</td>\n",
       "      <td>0.083467</td>\n",
       "    </tr>\n",
       "    <tr>\n",
       "      <th>Center</th>\n",
       "      <td>43</td>\n",
       "      <td>0.069021</td>\n",
       "    </tr>\n",
       "    <tr>\n",
       "      <th>Loc</th>\n",
       "      <td>36</td>\n",
       "      <td>0.057785</td>\n",
       "    </tr>\n",
       "    <tr>\n",
       "      <th>Scratch</th>\n",
       "      <td>12</td>\n",
       "      <td>0.019262</td>\n",
       "    </tr>\n",
       "    <tr>\n",
       "      <th>Random</th>\n",
       "      <td>9</td>\n",
       "      <td>0.014446</td>\n",
       "    </tr>\n",
       "    <tr>\n",
       "      <th>Donut</th>\n",
       "      <td>5</td>\n",
       "      <td>0.008026</td>\n",
       "    </tr>\n",
       "    <tr>\n",
       "      <th>Near-full</th>\n",
       "      <td>1</td>\n",
       "      <td>0.001605</td>\n",
       "    </tr>\n",
       "  </tbody>\n",
       "</table>\n",
       "</div>"
      ],
      "text/plain": [
       "           count  fraction\n",
       "none         368  0.590690\n",
       "Edge-Ring     97  0.155698\n",
       "Edge-Loc      52  0.083467\n",
       "Center        43  0.069021\n",
       "Loc           36  0.057785\n",
       "Scratch       12  0.019262\n",
       "Random         9  0.014446\n",
       "Donut          5  0.008026\n",
       "Near-full      1  0.001605"
      ]
     },
     "metadata": {},
     "output_type": "display_data"
    },
    {
     "data": {
      "image/png": "[encoded data removed]",
      "text/plain": [
       "<Figure size 640x480 with 1 Axes>"
      ]
     },
     "metadata": {},
     "output_type": "display_data"
    },
    {
     "name": "stdout",
     "output_type": "stream",
     "text": [
      "6225\n"
     ]
    },
    {
     "data": {
      "text/html": [
       "<div>\n",
       "<style scoped>\n",
       "    .dataframe tbody tr th:only-of-type {\n",
       "        vertical-align: middle;\n",
       "    }\n",
       "\n",
       "    .dataframe tbody tr th {\n",
       "        vertical-align: top;\n",
       "    }\n",
       "\n",
       "    .dataframe thead th {\n",
       "        text-align: right;\n",
       "    }\n",
       "</style>\n",
       "<table border=\"1\" class=\"dataframe\">\n",
       "  <thead>\n",
       "    <tr style=\"text-align: right;\">\n",
       "      <th></th>\n",
       "      <th>count</th>\n",
       "      <th>fraction</th>\n",
       "    </tr>\n",
       "  </thead>\n",
       "  <tbody>\n",
       "    <tr>\n",
       "      <th>none</th>\n",
       "      <td>3673</td>\n",
       "      <td>0.590040</td>\n",
       "    </tr>\n",
       "    <tr>\n",
       "      <th>Edge-Ring</th>\n",
       "      <td>968</td>\n",
       "      <td>0.155502</td>\n",
       "    </tr>\n",
       "    <tr>\n",
       "      <th>Edge-Loc</th>\n",
       "      <td>519</td>\n",
       "      <td>0.083373</td>\n",
       "    </tr>\n",
       "    <tr>\n",
       "      <th>Center</th>\n",
       "      <td>429</td>\n",
       "      <td>0.068916</td>\n",
       "    </tr>\n",
       "    <tr>\n",
       "      <th>Loc</th>\n",
       "      <td>359</td>\n",
       "      <td>0.057671</td>\n",
       "    </tr>\n",
       "    <tr>\n",
       "      <th>Scratch</th>\n",
       "      <td>119</td>\n",
       "      <td>0.019116</td>\n",
       "    </tr>\n",
       "    <tr>\n",
       "      <th>Random</th>\n",
       "      <td>87</td>\n",
       "      <td>0.013976</td>\n",
       "    </tr>\n",
       "    <tr>\n",
       "      <th>Donut</th>\n",
       "      <td>56</td>\n",
       "      <td>0.008996</td>\n",
       "    </tr>\n",
       "    <tr>\n",
       "      <th>Near-full</th>\n",
       "      <td>15</td>\n",
       "      <td>0.002410</td>\n",
       "    </tr>\n",
       "  </tbody>\n",
       "</table>\n",
       "</div>"
      ],
      "text/plain": [
       "           count  fraction\n",
       "none        3673  0.590040\n",
       "Edge-Ring    968  0.155502\n",
       "Edge-Loc     519  0.083373\n",
       "Center       429  0.068916\n",
       "Loc          359  0.057671\n",
       "Scratch      119  0.019116\n",
       "Random        87  0.013976\n",
       "Donut         56  0.008996\n",
       "Near-full     15  0.002410"
      ]
     },
     "metadata": {},
     "output_type": "display_data"
    },
    {
     "data": {
      "image/png": "[encoded data removed]",
      "text/plain": [
       "<Figure size 640x480 with 1 Axes>"
      ]
     },
     "metadata": {},
     "output_type": "display_data"
    },
    {
     "name": "stdout",
     "output_type": "stream",
     "text": [
      "12449\n"
     ]
    },
    {
     "data": {
      "text/html": [
       "<div>\n",
       "<style scoped>\n",
       "    .dataframe tbody tr th:only-of-type {\n",
       "        vertical-align: middle;\n",
       "    }\n",
       "\n",
       "    .dataframe tbody tr th {\n",
       "        vertical-align: top;\n",
       "    }\n",
       "\n",
       "    .dataframe thead th {\n",
       "        text-align: right;\n",
       "    }\n",
       "</style>\n",
       "<table border=\"1\" class=\"dataframe\">\n",
       "  <thead>\n",
       "    <tr style=\"text-align: right;\">\n",
       "      <th></th>\n",
       "      <th>count</th>\n",
       "      <th>fraction</th>\n",
       "    </tr>\n",
       "  </thead>\n",
       "  <tbody>\n",
       "    <tr>\n",
       "      <th>none</th>\n",
       "      <td>7345</td>\n",
       "      <td>0.590007</td>\n",
       "    </tr>\n",
       "    <tr>\n",
       "      <th>Edge-Ring</th>\n",
       "      <td>1936</td>\n",
       "      <td>0.155514</td>\n",
       "    </tr>\n",
       "    <tr>\n",
       "      <th>Edge-Loc</th>\n",
       "      <td>1037</td>\n",
       "      <td>0.083300</td>\n",
       "    </tr>\n",
       "    <tr>\n",
       "      <th>Center</th>\n",
       "      <td>859</td>\n",
       "      <td>0.069002</td>\n",
       "    </tr>\n",
       "    <tr>\n",
       "      <th>Loc</th>\n",
       "      <td>719</td>\n",
       "      <td>0.057756</td>\n",
       "    </tr>\n",
       "    <tr>\n",
       "      <th>Scratch</th>\n",
       "      <td>239</td>\n",
       "      <td>0.019198</td>\n",
       "    </tr>\n",
       "    <tr>\n",
       "      <th>Random</th>\n",
       "      <td>173</td>\n",
       "      <td>0.013897</td>\n",
       "    </tr>\n",
       "    <tr>\n",
       "      <th>Donut</th>\n",
       "      <td>111</td>\n",
       "      <td>0.008916</td>\n",
       "    </tr>\n",
       "    <tr>\n",
       "      <th>Near-full</th>\n",
       "      <td>30</td>\n",
       "      <td>0.002410</td>\n",
       "    </tr>\n",
       "  </tbody>\n",
       "</table>\n",
       "</div>"
      ],
      "text/plain": [
       "           count  fraction\n",
       "none        7345  0.590007\n",
       "Edge-Ring   1936  0.155514\n",
       "Edge-Loc    1037  0.083300\n",
       "Center       859  0.069002\n",
       "Loc          719  0.057756\n",
       "Scratch      239  0.019198\n",
       "Random       173  0.013897\n",
       "Donut        111  0.008916\n",
       "Near-full     30  0.002410"
      ]
     },
     "metadata": {},
     "output_type": "display_data"
    },
    {
     "data": {
      "image/png": "[encoded data removed]",
      "text/plain": [
       "<Figure size 640x480 with 1 Axes>"
      ]
     },
     "metadata": {},
     "output_type": "display_data"
    },
    {
     "name": "stdout",
     "output_type": "stream",
     "text": [
      "18051\n"
     ]
    },
    {
     "data": {
      "text/html": [
       "<div>\n",
       "<style scoped>\n",
       "    .dataframe tbody tr th:only-of-type {\n",
       "        vertical-align: middle;\n",
       "    }\n",
       "\n",
       "    .dataframe tbody tr th {\n",
       "        vertical-align: top;\n",
       "    }\n",
       "\n",
       "    .dataframe thead th {\n",
       "        text-align: right;\n",
       "    }\n",
       "</style>\n",
       "<table border=\"1\" class=\"dataframe\">\n",
       "  <thead>\n",
       "    <tr style=\"text-align: right;\">\n",
       "      <th></th>\n",
       "      <th>count</th>\n",
       "      <th>fraction</th>\n",
       "    </tr>\n",
       "  </thead>\n",
       "  <tbody>\n",
       "    <tr>\n",
       "      <th>none</th>\n",
       "      <td>10651</td>\n",
       "      <td>0.590050</td>\n",
       "    </tr>\n",
       "    <tr>\n",
       "      <th>Edge-Ring</th>\n",
       "      <td>2807</td>\n",
       "      <td>0.155504</td>\n",
       "    </tr>\n",
       "    <tr>\n",
       "      <th>Edge-Loc</th>\n",
       "      <td>1505</td>\n",
       "      <td>0.083375</td>\n",
       "    </tr>\n",
       "    <tr>\n",
       "      <th>Center</th>\n",
       "      <td>1245</td>\n",
       "      <td>0.068971</td>\n",
       "    </tr>\n",
       "    <tr>\n",
       "      <th>Loc</th>\n",
       "      <td>1042</td>\n",
       "      <td>0.057725</td>\n",
       "    </tr>\n",
       "    <tr>\n",
       "      <th>Scratch</th>\n",
       "      <td>346</td>\n",
       "      <td>0.019168</td>\n",
       "    </tr>\n",
       "    <tr>\n",
       "      <th>Random</th>\n",
       "      <td>251</td>\n",
       "      <td>0.013905</td>\n",
       "    </tr>\n",
       "    <tr>\n",
       "      <th>Donut</th>\n",
       "      <td>161</td>\n",
       "      <td>0.008919</td>\n",
       "    </tr>\n",
       "    <tr>\n",
       "      <th>Near-full</th>\n",
       "      <td>43</td>\n",
       "      <td>0.002382</td>\n",
       "    </tr>\n",
       "  </tbody>\n",
       "</table>\n",
       "</div>"
      ],
      "text/plain": [
       "           count  fraction\n",
       "none       10651  0.590050\n",
       "Edge-Ring   2807  0.155504\n",
       "Edge-Loc    1505  0.083375\n",
       "Center      1245  0.068971\n",
       "Loc         1042  0.057725\n",
       "Scratch      346  0.019168\n",
       "Random       251  0.013905\n",
       "Donut        161  0.008919\n",
       "Near-full     43  0.002382"
      ]
     },
     "metadata": {},
     "output_type": "display_data"
    },
    {
     "data": {
      "image/png": "[encoded data removed]",
      "text/plain": [
       "<Figure size 640x480 with 1 Axes>"
      ]
     },
     "metadata": {},
     "output_type": "display_data"
    },
    {
     "name": "stdout",
     "output_type": "stream",
     "text": [
      "12450\n"
     ]
    },
    {
     "data": {
      "text/html": [
       "<div>\n",
       "<style scoped>\n",
       "    .dataframe tbody tr th:only-of-type {\n",
       "        vertical-align: middle;\n",
       "    }\n",
       "\n",
       "    .dataframe tbody tr th {\n",
       "        vertical-align: top;\n",
       "    }\n",
       "\n",
       "    .dataframe thead th {\n",
       "        text-align: right;\n",
       "    }\n",
       "</style>\n",
       "<table border=\"1\" class=\"dataframe\">\n",
       "  <thead>\n",
       "    <tr style=\"text-align: right;\">\n",
       "      <th></th>\n",
       "      <th>count</th>\n",
       "      <th>fraction</th>\n",
       "    </tr>\n",
       "  </thead>\n",
       "  <tbody>\n",
       "    <tr>\n",
       "      <th>none</th>\n",
       "      <td>7346</td>\n",
       "      <td>0.590040</td>\n",
       "    </tr>\n",
       "    <tr>\n",
       "      <th>Edge-Ring</th>\n",
       "      <td>1936</td>\n",
       "      <td>0.155502</td>\n",
       "    </tr>\n",
       "    <tr>\n",
       "      <th>Edge-Loc</th>\n",
       "      <td>1038</td>\n",
       "      <td>0.083373</td>\n",
       "    </tr>\n",
       "    <tr>\n",
       "      <th>Center</th>\n",
       "      <td>859</td>\n",
       "      <td>0.068996</td>\n",
       "    </tr>\n",
       "    <tr>\n",
       "      <th>Loc</th>\n",
       "      <td>718</td>\n",
       "      <td>0.057671</td>\n",
       "    </tr>\n",
       "    <tr>\n",
       "      <th>Scratch</th>\n",
       "      <td>239</td>\n",
       "      <td>0.019197</td>\n",
       "    </tr>\n",
       "    <tr>\n",
       "      <th>Random</th>\n",
       "      <td>173</td>\n",
       "      <td>0.013896</td>\n",
       "    </tr>\n",
       "    <tr>\n",
       "      <th>Donut</th>\n",
       "      <td>111</td>\n",
       "      <td>0.008916</td>\n",
       "    </tr>\n",
       "    <tr>\n",
       "      <th>Near-full</th>\n",
       "      <td>30</td>\n",
       "      <td>0.002410</td>\n",
       "    </tr>\n",
       "  </tbody>\n",
       "</table>\n",
       "</div>"
      ],
      "text/plain": [
       "           count  fraction\n",
       "none        7346  0.590040\n",
       "Edge-Ring   1936  0.155502\n",
       "Edge-Loc    1038  0.083373\n",
       "Center       859  0.068996\n",
       "Loc          718  0.057671\n",
       "Scratch      239  0.019197\n",
       "Random       173  0.013896\n",
       "Donut        111  0.008916\n",
       "Near-full     30  0.002410"
      ]
     },
     "metadata": {},
     "output_type": "display_data"
    },
    {
     "data": {
      "image/png": "[encoded data removed]",
      "text/plain": [
       "<Figure size 640x480 with 1 Axes>"
      ]
     },
     "metadata": {},
     "output_type": "display_data"
    }
   ],
   "source": [
    "for series in (train_1_split, train_10_split, train_20_split, train_29_split, val_data):\n",
    "    print(len(series))\n",
    "    show_breakdown(series.failureType)"
   ]
  },
  {
   "cell_type": "code",
   "execution_count": 67,
   "metadata": {},
   "outputs": [],
   "source": [
    "# save all splits from full training data to file\n",
    "save_path = \"../data/cleaned_splits\"\n",
    "os.makedirs(save_path, exist_ok=True)\n",
    "train_data.to_pickle(f\"{save_path}/train_data.pkl\")\n",
    "test_data.to_pickle(f\"{save_path}/test_data.pkl\")\n",
    "val_data.to_pickle(f\"{save_path}/val_data.pkl\")\n",
    "train_split.to_pickle(f\"{save_path}/train_split.pkl\")\n",
    "train_1_split.to_pickle(f\"{save_path}/train_1_split.pkl\")\n",
    "train_10_split.to_pickle(f\"{save_path}/train_10_split.pkl\")\n",
    "train_20_split.to_pickle(f\"{save_path}/train_20_split.pkl\")\n",
    "train_29_split.to_pickle(f\"{save_path}/train_29_split.pkl\")"
   ]
  },
  {
   "attachments": {},
   "cell_type": "markdown",
   "metadata": {},
   "source": [
    "## Part 2: Image Processing of Wafer Maps\n",
    "\n",
    "### Dummy Image Augmentations with NumPy Arrays"
   ]
  },
  {
   "attachments": {},
   "cell_type": "markdown",
   "metadata": {},
   "source": [
    "Let's load a wafer for the purpose of debugging image augmentations."
   ]
  },
  {
   "cell_type": "code",
   "execution_count": 12,
   "metadata": {},
   "outputs": [
    {
     "data": {
      "image/png": "[encoded data removed]",
      "text/plain": [
       "<Figure size 640x480 with 1 Axes>"
      ]
     },
     "metadata": {},
     "output_type": "display_data"
    }
   ],
   "source": [
    "sns.set_theme(style=\"white\", palette=None)\n",
    "\n",
    "wafer = (\n",
    "    data.loc[\n",
    "        (data.failureType != \"none\")\n",
    "        & (data.isSquare == True)\n",
    "        & (data.shapeMaxDim < 50)\n",
    "    ]\n",
    "    .iloc[59]\n",
    "    .waferMap\n",
    ")\n",
    "# wafer = (\n",
    "#     data.loc[\n",
    "#         (data.failureType != \"none\")\n",
    "#         & (data.isSquare == False)\n",
    "#         & (data.shapeMaxDim > 128)\n",
    "#     ]\n",
    "#     .iloc[42]\n",
    "#     .waferMap\n",
    "# )\n",
    "plt.imshow(wafer);"
   ]
  },
  {
   "attachments": {},
   "cell_type": "markdown",
   "metadata": {},
   "source": [
    "Below, we test all of torchvision's interpolation modes to see which are valid for wafer maps. A valid wafer map, even when resized, should have a discrete domain for non-wafer area, passing die, and failing die. If `np.unique(resized_wafer).size != 3`, then the interpolation mode is invalid."
   ]
  },
  {
   "cell_type": "code",
   "execution_count": 13,
   "metadata": {},
   "outputs": [
    {
     "name": "stdout",
     "output_type": "stream",
     "text": [
      "nearest valid\n"
     ]
    },
    {
     "data": {
      "image/png": "[encoded data removed]",
      "text/plain": [
       "<Figure size 640x480 with 1 Axes>"
      ]
     },
     "metadata": {},
     "output_type": "display_data"
    },
    {
     "name": "stdout",
     "output_type": "stream",
     "text": [
      "bilinear NOT VALID\n",
      "bicubic NOT VALID\n",
      "box valid\n"
     ]
    },
    {
     "data": {
      "image/png": "[encoded data removed]",
      "text/plain": [
       "<Figure size 640x480 with 1 Axes>"
      ]
     },
     "metadata": {},
     "output_type": "display_data"
    },
    {
     "name": "stdout",
     "output_type": "stream",
     "text": [
      "hamming NOT VALID\n",
      "lanczos NOT VALID\n"
     ]
    }
   ],
   "source": [
    "sns.set_theme(style=\"white\", palette=None)\n",
    "\n",
    "modes = {\n",
    "    \"nearest\": InterpolationMode.NEAREST,\n",
    "    \"bilinear\": InterpolationMode.BILINEAR,\n",
    "    \"bicubic\": InterpolationMode.BICUBIC,\n",
    "    \"box\": InterpolationMode.BOX,\n",
    "    \"hamming\": InterpolationMode.HAMMING,\n",
    "    \"lanczos\": InterpolationMode.LANCZOS\n",
    "}\n",
    "\n",
    "for name, mode in modes.items():\n",
    "    resize = T.Resize([128, 128], interpolation=mode)\n",
    "    rs_wafer = resize(Image.fromarray(rgb_scale(wafer)))\n",
    "\n",
    "    if (np.unique(np.array(rs_wafer)).size) != 3:\n",
    "        print(f\"{name} NOT VALID\")\n",
    "    else:\n",
    "        print(f\"{name} valid\")\n",
    "        plt.imshow(rs_wafer, cmap=\"viridis\")\n",
    "        plt.show()"
   ]
  },
  {
   "attachments": {},
   "cell_type": "markdown",
   "metadata": {},
   "source": [
    "Only the `NEAREST` and `BOX` interpoloation modes are unique. Now let's create a dummy example for our flip function. For every die (that is, everything in the image that isn't non-wafer area), we have some probability of flipping the die from pass to fail and vice-versa."
   ]
  },
  {
   "cell_type": "code",
   "execution_count": 14,
   "metadata": {},
   "outputs": [
    {
     "data": {
      "image/png": "[encoded data removed]",
      "text/plain": [
       "<Figure size 640x480 with 1 Axes>"
      ]
     },
     "metadata": {},
     "output_type": "display_data"
    },
    {
     "data": {
      "image/png": "[encoded data removed]",
      "text/plain": [
       "<Figure size 640x480 with 1 Axes>"
      ]
     },
     "metadata": {},
     "output_type": "display_data"
    }
   ],
   "source": [
    "def flip(item, p=0.03):\n",
    "    \"\"\"\n",
    "    Given a wafermap die, flips pass to fail and vice-versa with probability p.\n",
    "    Does nothing to non-die area (0's if 1's and 2's are passes/fails respectively).\n",
    "    \"\"\"\n",
    "    prob = np.random.choice([False, True], p=[1 - p, p])\n",
    "    if prob:\n",
    "        if item == 1:\n",
    "            return 2\n",
    "        elif item == 2:\n",
    "            return 1\n",
    "        else:\n",
    "            return item\n",
    "    return item\n",
    "\n",
    "\n",
    "# Vectorize flip function to apply it to every element in array\n",
    "vflip = np.vectorize(flip)\n",
    "\n",
    "sns.heatmap(\n",
    "    wafer,\n",
    "    # annot=True,\n",
    "    cmap=\"viridis\",\n",
    "    cbar=False,\n",
    "    square=True,\n",
    "    yticklabels=False,\n",
    "    xticklabels=False,\n",
    ")\n",
    "plt.title(\"Original\")\n",
    "plt.show()\n",
    "\n",
    "sns.heatmap(\n",
    "    vflip(wafer.copy()),\n",
    "    # annot=True,\n",
    "    cmap=\"viridis\",\n",
    "    cbar=False,\n",
    "    square=True,\n",
    "    yticklabels=False,\n",
    "    xticklabels=False,\n",
    ")\n",
    "plt.title(\"After Flip\")\n",
    "plt.show()"
   ]
  },
  {
   "attachments": {},
   "cell_type": "markdown",
   "metadata": {},
   "source": [
    "Let's string together a bunch of augmentations, still applying them to NumPy arrays for now.\n",
    "1. First, apply random die noise using `vflip` function. Must be done before any resizing or rescaling since this expects 0's, 1's, and 2's\n",
    "2. Scale data to RGB range: $[0, 1, 2] \\rightarrow [0, 128, 255]$\n",
    "3. Convert array/tensor to PIL `Image` for further torchvision transforms\n",
    "4. Resize to $128 \\times 128$\n",
    "5. 50\\% chance of rotating image by 90 degrees\n",
    "6. 50\\% chance of vertically flipping image\n",
    "7. 50\\% chance of horizontally flipping image\n",
    "8. 25\\% chance of randomly rotating the image, this time somewhere between 0 to 90 degrees.\n",
    "9. Finally, convert the single channel image to 3-channel by repeating the first channel for all three R, G, B channels."
   ]
  },
  {
   "cell_type": "code",
   "execution_count": 15,
   "metadata": {},
   "outputs": [
    {
     "data": {
      "image/png": "[encoded data removed]",
      "text/plain": [
       "<Figure size 640x480 with 1 Axes>"
      ]
     },
     "metadata": {},
     "output_type": "display_data"
    },
    {
     "data": {
      "image/png": "[encoded data removed]",
      "text/plain": [
       "<Figure size 640x480 with 1 Axes>"
      ]
     },
     "metadata": {},
     "output_type": "display_data"
    },
    {
     "data": {
      "image/png": "[encoded data removed]",
      "text/plain": [
       "<Figure size 640x480 with 1 Axes>"
      ]
     },
     "metadata": {},
     "output_type": "display_data"
    },
    {
     "data": {
      "image/png": "[encoded data removed]",
      "text/plain": [
       "<Figure size 640x480 with 1 Axes>"
      ]
     },
     "metadata": {},
     "output_type": "display_data"
    },
    {
     "data": {
      "image/png": "[encoded data removed]",
      "text/plain": [
       "<Figure size 640x480 with 1 Axes>"
      ]
     },
     "metadata": {},
     "output_type": "display_data"
    },
    {
     "data": {
      "image/png": "[encoded data removed]",
      "text/plain": [
       "<Figure size 640x480 with 1 Axes>"
      ]
     },
     "metadata": {},
     "output_type": "display_data"
    },
    {
     "data": {
      "image/png": "[encoded data removed]",
      "text/plain": [
       "<Figure size 640x480 with 1 Axes>"
      ]
     },
     "metadata": {},
     "output_type": "display_data"
    },
    {
     "data": {
      "image/png": "[encoded data removed]",
      "text/plain": [
       "<Figure size 640x480 with 1 Axes>"
      ]
     },
     "metadata": {},
     "output_type": "display_data"
    },
    {
     "data": {
      "image/png": "[encoded data removed]",
      "text/plain": [
       "<Figure size 640x480 with 1 Axes>"
      ]
     },
     "metadata": {},
     "output_type": "display_data"
    },
    {
     "data": {
      "image/png": "[encoded data removed]",
      "text/plain": [
       "<Figure size 640x480 with 1 Axes>"
      ]
     },
     "metadata": {},
     "output_type": "display_data"
    }
   ],
   "source": [
    "sns.set_theme(style=\"white\", palette=None)\n",
    "\n",
    "aug = T.Compose([\n",
    "    T.Lambda(lambda x: vflip(x.copy())),\n",
    "    T.Lambda(lambda x: rgb_scale(x)),\n",
    "    # T.Lambda(lambda x: torch.from_numpy(wafer).unsqueeze(dim=0)),  # Must be used if RandomErasing\n",
    "    # T.RandomErasing(p=0.25, scale=(0.13, 0.13), ratio=(0.7, 1.3), value=0, inplace=False),  # Must come before ToPILImage\n",
    "    T.ToPILImage(),\n",
    "    T.Resize([128, 128], interpolation=InterpolationMode.NEAREST),\n",
    "    RandomRotate(),\n",
    "    T.RandomVerticalFlip(),\n",
    "    T.RandomHorizontalFlip(),\n",
    "    T.RandomApply(\n",
    "        torch.nn.ModuleList(\n",
    "            [T.RandomRotation(90, interpolation=InterpolationMode.NEAREST)]\n",
    "        ), \n",
    "        0.25\n",
    "    ),\n",
    "    T.Grayscale(num_output_channels=3),  # R == G == B\n",
    "])\n",
    "\n",
    "# 10 augmentation compositions\n",
    "for _ in range(10):\n",
    "    aug_wafer = aug(wafer)\n",
    "    sns.heatmap(\n",
    "        # Seaborn doesn't handle 3-channel images, so remove channel dim and plot\n",
    "        F.pil_to_tensor(aug_wafer)[0, :, :],\n",
    "        cmap=\"viridis\",\n",
    "        cbar=False,\n",
    "        square=True,\n",
    "        yticklabels=False,\n",
    "        xticklabels=False,\n",
    "    )\n",
    "    plt.show()"
   ]
  },
  {
   "cell_type": "code",
   "execution_count": 16,
   "metadata": {},
   "outputs": [
    {
     "data": {
      "text/plain": [
       "torch.Size([128, 128])"
      ]
     },
     "execution_count": 16,
     "metadata": {},
     "output_type": "execute_result"
    }
   ],
   "source": [
    "TF.pil_to_tensor(rs_wafer)[0, :, :].shape"
   ]
  },
  {
   "attachments": {},
   "cell_type": "markdown",
   "metadata": {},
   "source": [
    "Finally, we verify that this'll work with a custom collate function in lightly. As described in our FastSiam notebook, our `FastSiamCollateFunction` simply uses a composition of augmentations in conjunction with lightly's `MultiViewCollateFunction`. We use lightly's debugging function `plot_augmented_images()` to show five random samples from the training set (original images), and the 4 augmented images for each one."
   ]
  },
  {
   "cell_type": "code",
   "execution_count": 17,
   "metadata": {},
   "outputs": [
    {
     "data": {
      "text/plain": [
       "<Figure size 640x480 with 0 Axes>"
      ]
     },
     "metadata": {},
     "output_type": "display_data"
    },
    {
     "data": {
      "image/png": "[encoded data removed]",
      "text/plain": [
       "<Figure size 750x750 with 25 Axes>"
      ]
     },
     "metadata": {},
     "output_type": "display_data"
    }
   ],
   "source": [
    "aug = T.Compose([\n",
    "    T.Lambda(lambda x: vflip(x.copy())),\n",
    "    T.Lambda(lambda x: rgb_scale(x)),\n",
    "    T.ToPILImage(),\n",
    "    T.Resize([128, 128], interpolation=InterpolationMode.NEAREST),\n",
    "    RandomRotate(),\n",
    "    T.RandomVerticalFlip(),\n",
    "    T.RandomHorizontalFlip(),\n",
    "    T.RandomApply(\n",
    "        torch.nn.ModuleList(\n",
    "            [T.RandomRotation(90, interpolation=InterpolationMode.NEAREST)]\n",
    "        ), \n",
    "        0.25\n",
    "    ),\n",
    "    T.Grayscale(num_output_channels=3),  # R == G == B\n",
    "])\n",
    "\n",
    "FastSiamCollateFunction = MultiViewCollateFunction([aug] * 4)\n",
    "\n",
    "plt.set_cmap(\"gray\")\n",
    "plot_augmented_images(\n",
    "    # Grab 5 random samples from X_train to visualize original and augmented images\n",
    "    X_train.iloc[np.random.choice(X_train.size, 5)].tolist(),\n",
    "    FastSiamCollateFunction\n",
    ");"
   ]
  },
  {
   "attachments": {},
   "cell_type": "markdown",
   "metadata": {},
   "source": [
    "### Code Graveyard: Trying out rotation but just of the failing die\n",
    "Problem: can we rotate just the failing die on the wafer, without rotating the original wafer itself? For this, separate wafer background from wafer fails."
   ]
  },
  {
   "cell_type": "code",
   "execution_count": 646,
   "metadata": {},
   "outputs": [
    {
     "data": {
      "image/png": "[encoded data removed]",
      "text/plain": [
       "<Figure size 640x480 with 1 Axes>"
      ]
     },
     "metadata": {},
     "output_type": "display_data"
    }
   ],
   "source": [
    "wafer_bg = wafer.copy()\n",
    "wafer_bg[wafer_bg == 2] = 1\n",
    "sns.heatmap(\n",
    "    wafer_bg,\n",
    "    annot=True,\n",
    "    cmap=\"viridis\",\n",
    "    cbar=False,\n",
    "    square=True,\n",
    "    yticklabels=False,\n",
    "    xticklabels=False,\n",
    ")\n",
    "plt.show()"
   ]
  },
  {
   "cell_type": "code",
   "execution_count": 651,
   "metadata": {},
   "outputs": [
    {
     "data": {
      "image/png": "[encoded data removed]",
      "text/plain": [
       "<Figure size 640x480 with 1 Axes>"
      ]
     },
     "metadata": {},
     "output_type": "display_data"
    }
   ],
   "source": [
    "wafer_fails = wafer.copy()\n",
    "wafer_fails[wafer_fails != 2] = 0\n",
    "sns.heatmap(\n",
    "    wafer_fails,\n",
    "    annot=True,\n",
    "    cmap=\"viridis\",\n",
    "    cbar=False,\n",
    "    square=True,\n",
    "    yticklabels=False,\n",
    "    xticklabels=False,\n",
    ");"
   ]
  },
  {
   "cell_type": "code",
   "execution_count": 652,
   "metadata": {},
   "outputs": [
    {
     "data": {
      "image/png": "[encoded data removed]",
      "text/plain": [
       "<Figure size 640x480 with 1 Axes>"
      ]
     },
     "metadata": {},
     "output_type": "display_data"
    }
   ],
   "source": [
    "# verify we can get back to original\n",
    "wafer_or = wafer_fails + wafer_bg\n",
    "wafer_or[wafer_or == 3] = 2\n",
    "sns.heatmap(\n",
    "    wafer_or,\n",
    "    annot=True,\n",
    "    cmap=\"viridis\",\n",
    "    cbar=False,\n",
    "    square=True,\n",
    "    yticklabels=False,\n",
    "    xticklabels=False,\n",
    ");"
   ]
  },
  {
   "attachments": {},
   "cell_type": "markdown",
   "metadata": {},
   "source": [
    "Rotate the entire original image. We see that `scipy.ndimage.rotate` doesn't do too great at maintaining image details"
   ]
  },
  {
   "cell_type": "code",
   "execution_count": 690,
   "metadata": {},
   "outputs": [
    {
     "data": {
      "image/png": "[encoded data removed]",
      "text/plain": [
       "<Figure size 640x480 with 1 Axes>"
      ]
     },
     "metadata": {},
     "output_type": "display_data"
    }
   ],
   "source": [
    "sns.heatmap(\n",
    "    rotate(wafer.copy(), 27, reshape=False),\n",
    "    # annot=True,\n",
    "    cmap=\"viridis\",\n",
    "    cbar=False,\n",
    "    square=True,\n",
    "    yticklabels=False,\n",
    "    xticklabels=False,\n",
    ");"
   ]
  },
  {
   "attachments": {},
   "cell_type": "markdown",
   "metadata": {},
   "source": [
    "Now keep the wafer background fixed, and just add the fails back in"
   ]
  },
  {
   "cell_type": "code",
   "execution_count": 697,
   "metadata": {},
   "outputs": [
    {
     "data": {
      "image/png": "[encoded data removed]",
      "text/plain": [
       "<Figure size 640x480 with 1 Axes>"
      ]
     },
     "metadata": {},
     "output_type": "display_data"
    }
   ],
   "source": [
    "fails_rotate = rotate(wafer_fails, angle=27, reshape=False)\n",
    "wafer_or = fails_rotate + wafer_bg\n",
    "wafer_or[wafer_or == 3] = 2\n",
    "sns.heatmap(\n",
    "    wafer_or,\n",
    "    # annot=True,\n",
    "    cmap=\"viridis\",\n",
    "    cbar=False,\n",
    "    square=True,\n",
    "    yticklabels=False,\n",
    "    xticklabels=False,\n",
    ");"
   ]
  },
  {
   "attachments": {},
   "cell_type": "markdown",
   "metadata": {},
   "source": [
    "We can clearly see that the shading pattern gets destroyed using this method, so we'll stick to simple torchvision transforms."
   ]
  }
 ],
 "metadata": {
  "kernelspec": {
   "display_name": "deeplearning",
   "language": "python",
   "name": "python3"
  },
  "language_info": {
   "codemirror_mode": {
    "name": "ipython",
    "version": 3
   },
   "file_extension": ".py",
   "mimetype": "text/x-python",
   "name": "python",
   "nbconvert_exporter": "python",
   "pygments_lexer": "ipython3",
   "version": "3.10.8 | packaged by conda-forge | (main, Nov 22 2022, 08:16:33) [MSC v.1929 64 bit (AMD64)]"
  },
  "orig_nbformat": 4,
  "vscode": {
   "interpreter": {
    "hash": "a083e458120b7b9dfddde950f11ca7caca96f267292097f6e132412e673e82db"
   }
  }
 },
 "nbformat": 4,
 "nbformat_minor": 2
}
